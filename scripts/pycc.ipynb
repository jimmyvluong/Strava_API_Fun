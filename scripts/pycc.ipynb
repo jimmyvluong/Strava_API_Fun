{
 "cells": [
  {
   "cell_type": "code",
   "execution_count": null,
   "metadata": {},
   "outputs": [],
   "source": [
    "class Plant:\n",
    "  \"\"\"A class used by a plant nursery to track what plants they have in inventory \n",
    "  and how many they have of each plant.\n",
    "\n",
    "  >>> milkweed = Plant(\"Narrow-leaf milkweed\", \"Asclepias fascicularis\")\n",
    "  >>> milkweed.common_name\n",
    "  'Narrow-leaf milkweed'\n",
    "  >>> milkweed.latin_name\n",
    "  'Asclepias fascicularis'\n",
    "  >>> milkweed.inventory\n",
    "  0\n",
    "  >>> milkweed.update_inventory(2)\n",
    "  >>> milkweed.inventory\n",
    "  2\n",
    "  >>> milkweed.update_inventory(3)\n",
    "  >>> milkweed.inventory\n",
    "  5\n",
    "  \"\"\"\n",
    "\n",
    "  def __init__(self, common_name, latin_name, inventory = 0):\n",
    "    self.common_name = common_name\n",
    "    # Fill out the rest of this function\n",
    "    self.latin_name = latin_name\n",
    "\n",
    "    self.inventory = inventory\n",
    "    \n",
    "  def update_inventory(self, amount):\n",
    "    # Fill out this function\n",
    "    self.inventory += amount"
   ]
  },
  {
   "cell_type": "code",
   "execution_count": null,
   "metadata": {},
   "outputs": [],
   "source": [
    "def movie_summary(movie):\n",
    "    \"\"\"\n",
    "    Accepts movie, a dictionary with three keys-\n",
    "    title (string), duration (number), actors (list of strings),\n",
    "    and returns a string of the form\n",
    "    \"<title> lasts for <duration> minutes. Stars: <actor, ...>\"\n",
    "    \n",
    "    >>> puff = {\n",
    "    ...     \"title\": \"Puff the Magic Dragon\",\n",
    "    ...     \"duration\": 30,\n",
    "    ...     \"actors\": [\"Puff\", \"Jackie\", \"Living Sneezes\"]\n",
    "    ... }\n",
    "    >>> movie_summary(puff)\n",
    "    'Puff the Magic Dragon lasts for 30 minutes. Stars: Puff, Jackie, Living Sneezes.'\n",
    "    >>> arrival = {\n",
    "    ...     \"title\": \"Arrival\",\n",
    "    ...     \"duration\": \"118\",\n",
    "    ...     \"actors\": [\"Amy Adams\", \"Jeremy Renner\"]\n",
    "    ... }\n",
    "    >>> movie_summary(arrival)\n",
    "    'Arrival lasts for 118 minutes. Stars: Amy Adams, Jeremy Renner.'\n",
    "    \"\"\"\n",
    "    return f'{movie[\"title\"]} lasts for {movie[\"duration\"]} minutes. Stars: {\", \".join(movie[\"actors\"])}.'\n"
   ]
  },
  {
   "cell_type": "code",
   "execution_count": 1,
   "metadata": {},
   "outputs": [],
   "source": [
    "def movie_rater(movie, user_rating):\n",
    "    \"\"\"\n",
    "    Accepts movie, a dict with three keys\n",
    "    (title (string), avg_rating (number), num_ratings (number)),\n",
    "    and user_rating, a number.\n",
    "    Updates movie's avg_rating and num_ratings\n",
    "    based on the provided user_rating.\n",
    "    \n",
    "    >>> puff = {\n",
    "    ...     \"title\": \"Puff the Magic Dragon\",\n",
    "    ...     \"avg_rating\": 4.5,\n",
    "    ...     \"num_ratings\": 9\n",
    "    ... }\n",
    "    >>> movie_rater(puff, 4.1)\n",
    "    >>> puff[\"avg_rating\"]\n",
    "    4.46\n",
    "    >>> puff[\"num_ratings\"]\n",
    "    10\n",
    "    \"\"\"\n",
    "    # calculate the new average\n",
    "    movie[\"avg_rating\"] = (movie[\"avg_rating\"]*movie[\"num_ratings\"]+user_rating)/(movie[\"num_ratings\"]+1)\n",
    "    # add one to the review count\n",
    "    movie[\"num_ratings\"] += 1"
   ]
  }
 ],
 "metadata": {
  "kernelspec": {
   "display_name": "strava_api_env",
   "language": "python",
   "name": "python3"
  },
  "language_info": {
   "codemirror_mode": {
    "name": "ipython",
    "version": 3
   },
   "file_extension": ".py",
   "mimetype": "text/x-python",
   "name": "python",
   "nbconvert_exporter": "python",
   "pygments_lexer": "ipython3",
   "version": "3.11.0"
  },
  "orig_nbformat": 4
 },
 "nbformat": 4,
 "nbformat_minor": 2
}
