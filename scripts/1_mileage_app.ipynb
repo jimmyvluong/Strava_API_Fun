{
 "cells": [
  {
   "cell_type": "code",
   "execution_count": 2,
   "metadata": {},
   "outputs": [],
   "source": [
    "# import secrets and tokens from config.py\n",
    "from config import client_id, client_secret, refresh_token\n",
    "\n",
    "import requests\n",
    "import urllib3\n",
    "\n",
    "# import packages for data manipulation\n",
    "import pandas as pd\n",
    "from pandas.io.json import json_normalize\n",
    "import numpy as np\n",
    "\n",
    "urllib3.disable_warnings(urllib3.exceptions.InsecureRequestWarning)\n",
    "\n",
    "auth_url = \"https://www.strava.com/oauth/token\"\n",
    "activites_url = \"https://www.strava.com/api/v3/athlete/activities\"\n",
    "\n",
    "payload = {\n",
    "    'client_id': client_id,\n",
    "    'client_secret': client_secret,\n",
    "    'refresh_token': refresh_token,\n",
    "    'grant_type': \"refresh_token\",\n",
    "    'f': 'json'\n",
    "}"
   ]
  },
  {
   "cell_type": "code",
   "execution_count": 3,
   "metadata": {},
   "outputs": [
    {
     "name": "stdout",
     "output_type": "stream",
     "text": [
      "Requesting Token...\n",
      "\n",
      "Access Token = f02a6cb6a0500fd3802a2b8517ed3ff620870452\n",
      "\n"
     ]
    }
   ],
   "source": [
    "print(\"Requesting Token...\\n\")\n",
    "res = requests.post(auth_url, data=payload, verify=False)\n",
    "access_token = res.json()['access_token']\n",
    "print(\"Access Token = {}\\n\".format(access_token))\n",
    "\n",
    "header = {'Authorization': 'Bearer ' + access_token}\n",
    "param = {'per_page': 200, 'page': 1}\n",
    "my_dataset = requests.get(activites_url, headers=header, params=param).json()"
   ]
  },
  {
   "cell_type": "code",
   "execution_count": 4,
   "metadata": {},
   "outputs": [],
   "source": [
    "activities = pd.json_normalize(my_dataset)"
   ]
  },
  {
   "cell_type": "code",
   "execution_count": 5,
   "metadata": {},
   "outputs": [
    {
     "data": {
      "text/plain": [
       "Index(['resource_state', 'name', 'distance', 'moving_time', 'elapsed_time',\n",
       "       'total_elevation_gain', 'type', 'sport_type', 'workout_type', 'id',\n",
       "       'start_date', 'start_date_local', 'timezone', 'utc_offset',\n",
       "       'location_city', 'location_state', 'location_country',\n",
       "       'achievement_count', 'kudos_count', 'comment_count', 'athlete_count',\n",
       "       'photo_count', 'trainer', 'commute', 'manual', 'private', 'visibility',\n",
       "       'flagged', 'gear_id', 'start_latlng', 'end_latlng', 'average_speed',\n",
       "       'max_speed', 'average_cadence', 'average_watts', 'max_watts',\n",
       "       'weighted_average_watts', 'kilojoules', 'device_watts', 'has_heartrate',\n",
       "       'average_heartrate', 'max_heartrate', 'heartrate_opt_out',\n",
       "       'display_hide_heartrate_option', 'elev_high', 'elev_low', 'upload_id',\n",
       "       'upload_id_str', 'external_id', 'from_accepted_tag', 'pr_count',\n",
       "       'total_photo_count', 'has_kudoed', 'suffer_score', 'athlete.id',\n",
       "       'athlete.resource_state', 'map.id', 'map.summary_polyline',\n",
       "       'map.resource_state', 'average_temp'],\n",
       "      dtype='object')"
      ]
     },
     "execution_count": 5,
     "metadata": {},
     "output_type": "execute_result"
    }
   ],
   "source": [
    "activities.columns "
   ]
  },
  {
   "cell_type": "code",
   "execution_count": 6,
   "metadata": {},
   "outputs": [
    {
     "data": {
      "text/html": [
       "<div>\n",
       "<style scoped>\n",
       "    .dataframe tbody tr th:only-of-type {\n",
       "        vertical-align: middle;\n",
       "    }\n",
       "\n",
       "    .dataframe tbody tr th {\n",
       "        vertical-align: top;\n",
       "    }\n",
       "\n",
       "    .dataframe thead th {\n",
       "        text-align: right;\n",
       "    }\n",
       "</style>\n",
       "<table border=\"1\" class=\"dataframe\">\n",
       "  <thead>\n",
       "    <tr style=\"text-align: right;\">\n",
       "      <th></th>\n",
       "      <th>resource_state</th>\n",
       "      <th>name</th>\n",
       "      <th>distance</th>\n",
       "      <th>moving_time</th>\n",
       "      <th>elapsed_time</th>\n",
       "      <th>total_elevation_gain</th>\n",
       "      <th>type</th>\n",
       "      <th>sport_type</th>\n",
       "      <th>workout_type</th>\n",
       "      <th>id</th>\n",
       "      <th>...</th>\n",
       "      <th>total_photo_count</th>\n",
       "      <th>has_kudoed</th>\n",
       "      <th>suffer_score</th>\n",
       "      <th>athlete.id</th>\n",
       "      <th>athlete.resource_state</th>\n",
       "      <th>map.id</th>\n",
       "      <th>map.summary_polyline</th>\n",
       "      <th>map.resource_state</th>\n",
       "      <th>average_temp</th>\n",
       "      <th>start_time</th>\n",
       "    </tr>\n",
       "  </thead>\n",
       "  <tbody>\n",
       "    <tr>\n",
       "      <th>0</th>\n",
       "      <td>2</td>\n",
       "      <td>Afternoon Run</td>\n",
       "      <td>5649.8</td>\n",
       "      <td>1872</td>\n",
       "      <td>1894</td>\n",
       "      <td>8.0</td>\n",
       "      <td>Run</td>\n",
       "      <td>Run</td>\n",
       "      <td>NaN</td>\n",
       "      <td>9011734617</td>\n",
       "      <td>...</td>\n",
       "      <td>0</td>\n",
       "      <td>False</td>\n",
       "      <td>37.0</td>\n",
       "      <td>43537797</td>\n",
       "      <td>1</td>\n",
       "      <td>a9011734617</td>\n",
       "      <td>wuijFfwrdVTFTL|An@F?DELsAJa@BQAeA^sBf@}EFEB?hA...</td>\n",
       "      <td>2</td>\n",
       "      <td>NaN</td>\n",
       "      <td>13:20:52</td>\n",
       "    </tr>\n",
       "    <tr>\n",
       "      <th>1</th>\n",
       "      <td>2</td>\n",
       "      <td>Morning Weight Training</td>\n",
       "      <td>0.0</td>\n",
       "      <td>2521</td>\n",
       "      <td>2521</td>\n",
       "      <td>0.0</td>\n",
       "      <td>WeightTraining</td>\n",
       "      <td>WeightTraining</td>\n",
       "      <td>NaN</td>\n",
       "      <td>9009318868</td>\n",
       "      <td>...</td>\n",
       "      <td>0</td>\n",
       "      <td>False</td>\n",
       "      <td>9.0</td>\n",
       "      <td>43537797</td>\n",
       "      <td>1</td>\n",
       "      <td>a9009318868</td>\n",
       "      <td></td>\n",
       "      <td>2</td>\n",
       "      <td>NaN</td>\n",
       "      <td>06:34:46</td>\n",
       "    </tr>\n",
       "    <tr>\n",
       "      <th>2</th>\n",
       "      <td>2</td>\n",
       "      <td>Afternoon Run</td>\n",
       "      <td>1981.7</td>\n",
       "      <td>620</td>\n",
       "      <td>626</td>\n",
       "      <td>5.0</td>\n",
       "      <td>Run</td>\n",
       "      <td>Run</td>\n",
       "      <td>NaN</td>\n",
       "      <td>9006270699</td>\n",
       "      <td>...</td>\n",
       "      <td>0</td>\n",
       "      <td>False</td>\n",
       "      <td>11.0</td>\n",
       "      <td>43537797</td>\n",
       "      <td>1</td>\n",
       "      <td>a9006270699</td>\n",
       "      <td>_pijFbzrdVh@TXHj@BPFf@@x@JbCGV?NA\\?JCBOCeB?u@H...</td>\n",
       "      <td>2</td>\n",
       "      <td>NaN</td>\n",
       "      <td>17:05:28</td>\n",
       "    </tr>\n",
       "    <tr>\n",
       "      <th>3</th>\n",
       "      <td>2</td>\n",
       "      <td>Evening Run</td>\n",
       "      <td>6481.3</td>\n",
       "      <td>2172</td>\n",
       "      <td>2186</td>\n",
       "      <td>9.0</td>\n",
       "      <td>Run</td>\n",
       "      <td>Run</td>\n",
       "      <td>NaN</td>\n",
       "      <td>9000198422</td>\n",
       "      <td>...</td>\n",
       "      <td>0</td>\n",
       "      <td>False</td>\n",
       "      <td>46.0</td>\n",
       "      <td>43537797</td>\n",
       "      <td>1</td>\n",
       "      <td>a9000198422</td>\n",
       "      <td>epijF|erdV`Ab@XP\\N\\RVH\\TV]^kCFe@@U@EH?jB~@ZJrB...</td>\n",
       "      <td>2</td>\n",
       "      <td>NaN</td>\n",
       "      <td>18:40:02</td>\n",
       "    </tr>\n",
       "    <tr>\n",
       "      <th>4</th>\n",
       "      <td>2</td>\n",
       "      <td>Morning Weight Training</td>\n",
       "      <td>0.0</td>\n",
       "      <td>2892</td>\n",
       "      <td>2892</td>\n",
       "      <td>0.0</td>\n",
       "      <td>WeightTraining</td>\n",
       "      <td>WeightTraining</td>\n",
       "      <td>NaN</td>\n",
       "      <td>8996767720</td>\n",
       "      <td>...</td>\n",
       "      <td>0</td>\n",
       "      <td>False</td>\n",
       "      <td>7.0</td>\n",
       "      <td>43537797</td>\n",
       "      <td>1</td>\n",
       "      <td>a8996767720</td>\n",
       "      <td></td>\n",
       "      <td>2</td>\n",
       "      <td>NaN</td>\n",
       "      <td>07:01:36</td>\n",
       "    </tr>\n",
       "  </tbody>\n",
       "</table>\n",
       "<p>5 rows × 61 columns</p>\n",
       "</div>"
      ],
      "text/plain": [
       "   resource_state                     name  distance  moving_time  \\\n",
       "0               2            Afternoon Run    5649.8         1872   \n",
       "1               2  Morning Weight Training       0.0         2521   \n",
       "2               2            Afternoon Run    1981.7          620   \n",
       "3               2              Evening Run    6481.3         2172   \n",
       "4               2  Morning Weight Training       0.0         2892   \n",
       "\n",
       "   elapsed_time  total_elevation_gain            type      sport_type  \\\n",
       "0          1894                   8.0             Run             Run   \n",
       "1          2521                   0.0  WeightTraining  WeightTraining   \n",
       "2           626                   5.0             Run             Run   \n",
       "3          2186                   9.0             Run             Run   \n",
       "4          2892                   0.0  WeightTraining  WeightTraining   \n",
       "\n",
       "   workout_type          id  ... total_photo_count has_kudoed suffer_score  \\\n",
       "0           NaN  9011734617  ...                 0      False         37.0   \n",
       "1           NaN  9009318868  ...                 0      False          9.0   \n",
       "2           NaN  9006270699  ...                 0      False         11.0   \n",
       "3           NaN  9000198422  ...                 0      False         46.0   \n",
       "4           NaN  8996767720  ...                 0      False          7.0   \n",
       "\n",
       "   athlete.id athlete.resource_state       map.id  \\\n",
       "0    43537797                      1  a9011734617   \n",
       "1    43537797                      1  a9009318868   \n",
       "2    43537797                      1  a9006270699   \n",
       "3    43537797                      1  a9000198422   \n",
       "4    43537797                      1  a8996767720   \n",
       "\n",
       "                                map.summary_polyline  map.resource_state  \\\n",
       "0  wuijFfwrdVTFTL|An@F?DELsAJa@BQAeA^sBf@}EFEB?hA...                   2   \n",
       "1                                                                      2   \n",
       "2  _pijFbzrdVh@TXHj@BPFf@@x@JbCGV?NA\\?JCBOCeB?u@H...                   2   \n",
       "3  epijF|erdV`Ab@XP\\N\\RVH\\TV]^kCFe@@U@EH?jB~@ZJrB...                   2   \n",
       "4                                                                      2   \n",
       "\n",
       "   average_temp  start_time  \n",
       "0           NaN    13:20:52  \n",
       "1           NaN    06:34:46  \n",
       "2           NaN    17:05:28  \n",
       "3           NaN    18:40:02  \n",
       "4           NaN    07:01:36  \n",
       "\n",
       "[5 rows x 61 columns]"
      ]
     },
     "execution_count": 6,
     "metadata": {},
     "output_type": "execute_result"
    }
   ],
   "source": [
    "#Break date into start time and date\n",
    "activities['start_date_local'] = pd.to_datetime(activities['start_date_local'])\n",
    "activities['start_time'] = activities['start_date_local'].dt.time\n",
    "activities['start_date_local'] = activities['start_date_local'].dt.date\n",
    "activities.head(5)"
   ]
  },
  {
   "cell_type": "code",
   "execution_count": 7,
   "metadata": {},
   "outputs": [],
   "source": [
    "# import modules\n",
    "import os\n",
    "import time\n",
    "import matplotlib.pyplot as plt\n",
    "import folium\n",
    "import polyline\n",
    "import base64\n",
    "from tqdm import tqdm"
   ]
  },
  {
   "cell_type": "code",
   "execution_count": 12,
   "metadata": {},
   "outputs": [
    {
     "data": {
      "text/plain": [
       "0                                                     \n",
       "1    ovijFl`rdVL[LgATwA?EKK@_@TiANiA`@cCFKBAJ@TL^`@...\n",
       "2                                                     \n",
       "Name: map.summary_polyline, dtype: object"
      ]
     },
     "execution_count": 12,
     "metadata": {},
     "output_type": "execute_result"
    }
   ],
   "source": [
    "activities['map.summary_polyline'].head(3)"
   ]
  },
  {
   "cell_type": "code",
   "execution_count": 8,
   "metadata": {},
   "outputs": [],
   "source": [
    "activities['map.polyline'] = activities['map.summary_polyline'].apply(polyline.decode)\n"
   ]
  },
  {
   "cell_type": "code",
   "execution_count": 14,
   "metadata": {},
   "outputs": [
    {
     "data": {
      "text/plain": [
       "0                                                   []\n",
       "1    [(38.55736, -121.50295), (38.55729, -121.50281...\n",
       "2                                                   []\n",
       "Name: map.polyline, dtype: object"
      ]
     },
     "execution_count": 14,
     "metadata": {},
     "output_type": "execute_result"
    }
   ],
   "source": [
    "activities['map.polyline'].head(3)\n"
   ]
  },
  {
   "cell_type": "code",
   "execution_count": 24,
   "metadata": {},
   "outputs": [
    {
     "name": "stdout",
     "output_type": "stream",
     "text": [
      "turkey\n"
     ]
    },
    {
     "name": "stderr",
     "output_type": "stream",
     "text": [
      "  1%|          | 1/94 [04:02<6:16:04, 242.63s/it]\n"
     ]
    },
    {
     "ename": "KeyboardInterrupt",
     "evalue": "",
     "output_type": "error",
     "traceback": [
      "\u001b[1;31m---------------------------------------------------------------------------\u001b[0m",
      "\u001b[1;31mKeyboardInterrupt\u001b[0m                         Traceback (most recent call last)",
      "Cell \u001b[1;32mIn[24], line 15\u001b[0m\n\u001b[0;32m     13\u001b[0m \u001b[39mfor\u001b[39;00m idx \u001b[39min\u001b[39;00m tqdm(activities\u001b[39m.\u001b[39mindex):\n\u001b[0;32m     14\u001b[0m     activity \u001b[39m=\u001b[39m activities\u001b[39m.\u001b[39mloc[idx, :]\n\u001b[1;32m---> 15\u001b[0m     elevation \u001b[39m=\u001b[39m [get_elevation(coord[\u001b[39m0\u001b[39;49m], coord[\u001b[39m1\u001b[39;49m]) \u001b[39mfor\u001b[39;49;00m coord \u001b[39min\u001b[39;49;00m activity[\u001b[39m'\u001b[39;49m\u001b[39mmap.polyline\u001b[39;49m\u001b[39m'\u001b[39;49m]]\n\u001b[0;32m     16\u001b[0m     elevation_data\u001b[39m.\u001b[39mappend(elevation)\n",
      "Cell \u001b[1;32mIn[24], line 15\u001b[0m, in \u001b[0;36m<listcomp>\u001b[1;34m(.0)\u001b[0m\n\u001b[0;32m     13\u001b[0m \u001b[39mfor\u001b[39;00m idx \u001b[39min\u001b[39;00m tqdm(activities\u001b[39m.\u001b[39mindex):\n\u001b[0;32m     14\u001b[0m     activity \u001b[39m=\u001b[39m activities\u001b[39m.\u001b[39mloc[idx, :]\n\u001b[1;32m---> 15\u001b[0m     elevation \u001b[39m=\u001b[39m [get_elevation(coord[\u001b[39m0\u001b[39;49m], coord[\u001b[39m1\u001b[39;49m]) \u001b[39mfor\u001b[39;00m coord \u001b[39min\u001b[39;00m activity[\u001b[39m'\u001b[39m\u001b[39mmap.polyline\u001b[39m\u001b[39m'\u001b[39m]]\n\u001b[0;32m     16\u001b[0m     elevation_data\u001b[39m.\u001b[39mappend(elevation)\n",
      "Cell \u001b[1;32mIn[24], line 9\u001b[0m, in \u001b[0;36mget_elevation\u001b[1;34m(latitude, longitude)\u001b[0m\n\u001b[0;32m      7\u001b[0m base_url \u001b[39m=\u001b[39m \u001b[39m'\u001b[39m\u001b[39mhttps://api.open-elevation.com/api/v1/lookup\u001b[39m\u001b[39m'\u001b[39m\n\u001b[0;32m      8\u001b[0m payload \u001b[39m=\u001b[39m {\u001b[39m'\u001b[39m\u001b[39mlocations\u001b[39m\u001b[39m'\u001b[39m: \u001b[39mf\u001b[39m\u001b[39m'\u001b[39m\u001b[39m{\u001b[39;00mlatitude\u001b[39m}\u001b[39;00m\u001b[39m,\u001b[39m\u001b[39m{\u001b[39;00mlongitude\u001b[39m}\u001b[39;00m\u001b[39m'\u001b[39m}\n\u001b[1;32m----> 9\u001b[0m r \u001b[39m=\u001b[39m requests\u001b[39m.\u001b[39;49mget(base_url, params\u001b[39m=\u001b[39;49mpayload)\u001b[39m.\u001b[39mjson()[\u001b[39m'\u001b[39m\u001b[39mresults\u001b[39m\u001b[39m'\u001b[39m][\u001b[39m0\u001b[39m]\n\u001b[0;32m     10\u001b[0m \u001b[39mreturn\u001b[39;00m r[\u001b[39m'\u001b[39m\u001b[39melevation\u001b[39m\u001b[39m'\u001b[39m]\n",
      "File \u001b[1;32mc:\\Users\\jluong\\Miniconda3\\envs\\strava_api_env\\Lib\\site-packages\\requests\\api.py:73\u001b[0m, in \u001b[0;36mget\u001b[1;34m(url, params, **kwargs)\u001b[0m\n\u001b[0;32m     62\u001b[0m \u001b[39mdef\u001b[39;00m \u001b[39mget\u001b[39m(url, params\u001b[39m=\u001b[39m\u001b[39mNone\u001b[39;00m, \u001b[39m*\u001b[39m\u001b[39m*\u001b[39mkwargs):\n\u001b[0;32m     63\u001b[0m     \u001b[39mr\u001b[39m\u001b[39m\"\"\"Sends a GET request.\u001b[39;00m\n\u001b[0;32m     64\u001b[0m \n\u001b[0;32m     65\u001b[0m \u001b[39m    :param url: URL for the new :class:`Request` object.\u001b[39;00m\n\u001b[1;32m   (...)\u001b[0m\n\u001b[0;32m     70\u001b[0m \u001b[39m    :rtype: requests.Response\u001b[39;00m\n\u001b[0;32m     71\u001b[0m \u001b[39m    \"\"\"\u001b[39;00m\n\u001b[1;32m---> 73\u001b[0m     \u001b[39mreturn\u001b[39;00m request(\u001b[39m\"\u001b[39;49m\u001b[39mget\u001b[39;49m\u001b[39m\"\u001b[39;49m, url, params\u001b[39m=\u001b[39;49mparams, \u001b[39m*\u001b[39;49m\u001b[39m*\u001b[39;49mkwargs)\n",
      "File \u001b[1;32mc:\\Users\\jluong\\Miniconda3\\envs\\strava_api_env\\Lib\\site-packages\\requests\\api.py:59\u001b[0m, in \u001b[0;36mrequest\u001b[1;34m(method, url, **kwargs)\u001b[0m\n\u001b[0;32m     55\u001b[0m \u001b[39m# By using the 'with' statement we are sure the session is closed, thus we\u001b[39;00m\n\u001b[0;32m     56\u001b[0m \u001b[39m# avoid leaving sockets open which can trigger a ResourceWarning in some\u001b[39;00m\n\u001b[0;32m     57\u001b[0m \u001b[39m# cases, and look like a memory leak in others.\u001b[39;00m\n\u001b[0;32m     58\u001b[0m \u001b[39mwith\u001b[39;00m sessions\u001b[39m.\u001b[39mSession() \u001b[39mas\u001b[39;00m session:\n\u001b[1;32m---> 59\u001b[0m     \u001b[39mreturn\u001b[39;00m session\u001b[39m.\u001b[39;49mrequest(method\u001b[39m=\u001b[39;49mmethod, url\u001b[39m=\u001b[39;49murl, \u001b[39m*\u001b[39;49m\u001b[39m*\u001b[39;49mkwargs)\n",
      "File \u001b[1;32mc:\\Users\\jluong\\Miniconda3\\envs\\strava_api_env\\Lib\\site-packages\\requests\\sessions.py:587\u001b[0m, in \u001b[0;36mSession.request\u001b[1;34m(self, method, url, params, data, headers, cookies, files, auth, timeout, allow_redirects, proxies, hooks, stream, verify, cert, json)\u001b[0m\n\u001b[0;32m    582\u001b[0m send_kwargs \u001b[39m=\u001b[39m {\n\u001b[0;32m    583\u001b[0m     \u001b[39m\"\u001b[39m\u001b[39mtimeout\u001b[39m\u001b[39m\"\u001b[39m: timeout,\n\u001b[0;32m    584\u001b[0m     \u001b[39m\"\u001b[39m\u001b[39mallow_redirects\u001b[39m\u001b[39m\"\u001b[39m: allow_redirects,\n\u001b[0;32m    585\u001b[0m }\n\u001b[0;32m    586\u001b[0m send_kwargs\u001b[39m.\u001b[39mupdate(settings)\n\u001b[1;32m--> 587\u001b[0m resp \u001b[39m=\u001b[39m \u001b[39mself\u001b[39;49m\u001b[39m.\u001b[39;49msend(prep, \u001b[39m*\u001b[39;49m\u001b[39m*\u001b[39;49msend_kwargs)\n\u001b[0;32m    589\u001b[0m \u001b[39mreturn\u001b[39;00m resp\n",
      "File \u001b[1;32mc:\\Users\\jluong\\Miniconda3\\envs\\strava_api_env\\Lib\\site-packages\\requests\\sessions.py:701\u001b[0m, in \u001b[0;36mSession.send\u001b[1;34m(self, request, **kwargs)\u001b[0m\n\u001b[0;32m    698\u001b[0m start \u001b[39m=\u001b[39m preferred_clock()\n\u001b[0;32m    700\u001b[0m \u001b[39m# Send the request\u001b[39;00m\n\u001b[1;32m--> 701\u001b[0m r \u001b[39m=\u001b[39m adapter\u001b[39m.\u001b[39;49msend(request, \u001b[39m*\u001b[39;49m\u001b[39m*\u001b[39;49mkwargs)\n\u001b[0;32m    703\u001b[0m \u001b[39m# Total elapsed time of the request (approximately)\u001b[39;00m\n\u001b[0;32m    704\u001b[0m elapsed \u001b[39m=\u001b[39m preferred_clock() \u001b[39m-\u001b[39m start\n",
      "File \u001b[1;32mc:\\Users\\jluong\\Miniconda3\\envs\\strava_api_env\\Lib\\site-packages\\requests\\adapters.py:489\u001b[0m, in \u001b[0;36mHTTPAdapter.send\u001b[1;34m(self, request, stream, timeout, verify, cert, proxies)\u001b[0m\n\u001b[0;32m    487\u001b[0m \u001b[39mtry\u001b[39;00m:\n\u001b[0;32m    488\u001b[0m     \u001b[39mif\u001b[39;00m \u001b[39mnot\u001b[39;00m chunked:\n\u001b[1;32m--> 489\u001b[0m         resp \u001b[39m=\u001b[39m conn\u001b[39m.\u001b[39;49murlopen(\n\u001b[0;32m    490\u001b[0m             method\u001b[39m=\u001b[39;49mrequest\u001b[39m.\u001b[39;49mmethod,\n\u001b[0;32m    491\u001b[0m             url\u001b[39m=\u001b[39;49murl,\n\u001b[0;32m    492\u001b[0m             body\u001b[39m=\u001b[39;49mrequest\u001b[39m.\u001b[39;49mbody,\n\u001b[0;32m    493\u001b[0m             headers\u001b[39m=\u001b[39;49mrequest\u001b[39m.\u001b[39;49mheaders,\n\u001b[0;32m    494\u001b[0m             redirect\u001b[39m=\u001b[39;49m\u001b[39mFalse\u001b[39;49;00m,\n\u001b[0;32m    495\u001b[0m             assert_same_host\u001b[39m=\u001b[39;49m\u001b[39mFalse\u001b[39;49;00m,\n\u001b[0;32m    496\u001b[0m             preload_content\u001b[39m=\u001b[39;49m\u001b[39mFalse\u001b[39;49;00m,\n\u001b[0;32m    497\u001b[0m             decode_content\u001b[39m=\u001b[39;49m\u001b[39mFalse\u001b[39;49;00m,\n\u001b[0;32m    498\u001b[0m             retries\u001b[39m=\u001b[39;49m\u001b[39mself\u001b[39;49m\u001b[39m.\u001b[39;49mmax_retries,\n\u001b[0;32m    499\u001b[0m             timeout\u001b[39m=\u001b[39;49mtimeout,\n\u001b[0;32m    500\u001b[0m         )\n\u001b[0;32m    502\u001b[0m     \u001b[39m# Send the request.\u001b[39;00m\n\u001b[0;32m    503\u001b[0m     \u001b[39melse\u001b[39;00m:\n\u001b[0;32m    504\u001b[0m         \u001b[39mif\u001b[39;00m \u001b[39mhasattr\u001b[39m(conn, \u001b[39m\"\u001b[39m\u001b[39mproxy_pool\u001b[39m\u001b[39m\"\u001b[39m):\n",
      "File \u001b[1;32mc:\\Users\\jluong\\Miniconda3\\envs\\strava_api_env\\Lib\\site-packages\\urllib3\\connectionpool.py:703\u001b[0m, in \u001b[0;36mHTTPConnectionPool.urlopen\u001b[1;34m(self, method, url, body, headers, retries, redirect, assert_same_host, timeout, pool_timeout, release_conn, chunked, body_pos, **response_kw)\u001b[0m\n\u001b[0;32m    700\u001b[0m     \u001b[39mself\u001b[39m\u001b[39m.\u001b[39m_prepare_proxy(conn)\n\u001b[0;32m    702\u001b[0m \u001b[39m# Make the request on the httplib connection object.\u001b[39;00m\n\u001b[1;32m--> 703\u001b[0m httplib_response \u001b[39m=\u001b[39m \u001b[39mself\u001b[39;49m\u001b[39m.\u001b[39;49m_make_request(\n\u001b[0;32m    704\u001b[0m     conn,\n\u001b[0;32m    705\u001b[0m     method,\n\u001b[0;32m    706\u001b[0m     url,\n\u001b[0;32m    707\u001b[0m     timeout\u001b[39m=\u001b[39;49mtimeout_obj,\n\u001b[0;32m    708\u001b[0m     body\u001b[39m=\u001b[39;49mbody,\n\u001b[0;32m    709\u001b[0m     headers\u001b[39m=\u001b[39;49mheaders,\n\u001b[0;32m    710\u001b[0m     chunked\u001b[39m=\u001b[39;49mchunked,\n\u001b[0;32m    711\u001b[0m )\n\u001b[0;32m    713\u001b[0m \u001b[39m# If we're going to release the connection in ``finally:``, then\u001b[39;00m\n\u001b[0;32m    714\u001b[0m \u001b[39m# the response doesn't need to know about the connection. Otherwise\u001b[39;00m\n\u001b[0;32m    715\u001b[0m \u001b[39m# it will also try to release it and we'll have a double-release\u001b[39;00m\n\u001b[0;32m    716\u001b[0m \u001b[39m# mess.\u001b[39;00m\n\u001b[0;32m    717\u001b[0m response_conn \u001b[39m=\u001b[39m conn \u001b[39mif\u001b[39;00m \u001b[39mnot\u001b[39;00m release_conn \u001b[39melse\u001b[39;00m \u001b[39mNone\u001b[39;00m\n",
      "File \u001b[1;32mc:\\Users\\jluong\\Miniconda3\\envs\\strava_api_env\\Lib\\site-packages\\urllib3\\connectionpool.py:386\u001b[0m, in \u001b[0;36mHTTPConnectionPool._make_request\u001b[1;34m(self, conn, method, url, timeout, chunked, **httplib_request_kw)\u001b[0m\n\u001b[0;32m    384\u001b[0m \u001b[39m# Trigger any extra validation we need to do.\u001b[39;00m\n\u001b[0;32m    385\u001b[0m \u001b[39mtry\u001b[39;00m:\n\u001b[1;32m--> 386\u001b[0m     \u001b[39mself\u001b[39;49m\u001b[39m.\u001b[39;49m_validate_conn(conn)\n\u001b[0;32m    387\u001b[0m \u001b[39mexcept\u001b[39;00m (SocketTimeout, BaseSSLError) \u001b[39mas\u001b[39;00m e:\n\u001b[0;32m    388\u001b[0m     \u001b[39m# Py2 raises this as a BaseSSLError, Py3 raises it as socket timeout.\u001b[39;00m\n\u001b[0;32m    389\u001b[0m     \u001b[39mself\u001b[39m\u001b[39m.\u001b[39m_raise_timeout(err\u001b[39m=\u001b[39me, url\u001b[39m=\u001b[39murl, timeout_value\u001b[39m=\u001b[39mconn\u001b[39m.\u001b[39mtimeout)\n",
      "File \u001b[1;32mc:\\Users\\jluong\\Miniconda3\\envs\\strava_api_env\\Lib\\site-packages\\urllib3\\connectionpool.py:1042\u001b[0m, in \u001b[0;36mHTTPSConnectionPool._validate_conn\u001b[1;34m(self, conn)\u001b[0m\n\u001b[0;32m   1040\u001b[0m \u001b[39m# Force connect early to allow us to validate the connection.\u001b[39;00m\n\u001b[0;32m   1041\u001b[0m \u001b[39mif\u001b[39;00m \u001b[39mnot\u001b[39;00m \u001b[39mgetattr\u001b[39m(conn, \u001b[39m\"\u001b[39m\u001b[39msock\u001b[39m\u001b[39m\"\u001b[39m, \u001b[39mNone\u001b[39;00m):  \u001b[39m# AppEngine might not have  `.sock`\u001b[39;00m\n\u001b[1;32m-> 1042\u001b[0m     conn\u001b[39m.\u001b[39;49mconnect()\n\u001b[0;32m   1044\u001b[0m \u001b[39mif\u001b[39;00m \u001b[39mnot\u001b[39;00m conn\u001b[39m.\u001b[39mis_verified:\n\u001b[0;32m   1045\u001b[0m     warnings\u001b[39m.\u001b[39mwarn(\n\u001b[0;32m   1046\u001b[0m         (\n\u001b[0;32m   1047\u001b[0m             \u001b[39m\"\u001b[39m\u001b[39mUnverified HTTPS request is being made to host \u001b[39m\u001b[39m'\u001b[39m\u001b[39m%s\u001b[39;00m\u001b[39m'\u001b[39m\u001b[39m. \u001b[39m\u001b[39m\"\u001b[39m\n\u001b[1;32m   (...)\u001b[0m\n\u001b[0;32m   1052\u001b[0m         InsecureRequestWarning,\n\u001b[0;32m   1053\u001b[0m     )\n",
      "File \u001b[1;32mc:\\Users\\jluong\\Miniconda3\\envs\\strava_api_env\\Lib\\site-packages\\urllib3\\connection.py:414\u001b[0m, in \u001b[0;36mHTTPSConnection.connect\u001b[1;34m(self)\u001b[0m\n\u001b[0;32m    405\u001b[0m \u001b[39mif\u001b[39;00m (\n\u001b[0;32m    406\u001b[0m     \u001b[39mnot\u001b[39;00m \u001b[39mself\u001b[39m\u001b[39m.\u001b[39mca_certs\n\u001b[0;32m    407\u001b[0m     \u001b[39mand\u001b[39;00m \u001b[39mnot\u001b[39;00m \u001b[39mself\u001b[39m\u001b[39m.\u001b[39mca_cert_dir\n\u001b[1;32m   (...)\u001b[0m\n\u001b[0;32m    410\u001b[0m     \u001b[39mand\u001b[39;00m \u001b[39mhasattr\u001b[39m(context, \u001b[39m\"\u001b[39m\u001b[39mload_default_certs\u001b[39m\u001b[39m\"\u001b[39m)\n\u001b[0;32m    411\u001b[0m ):\n\u001b[0;32m    412\u001b[0m     context\u001b[39m.\u001b[39mload_default_certs()\n\u001b[1;32m--> 414\u001b[0m \u001b[39mself\u001b[39m\u001b[39m.\u001b[39msock \u001b[39m=\u001b[39m ssl_wrap_socket(\n\u001b[0;32m    415\u001b[0m     sock\u001b[39m=\u001b[39;49mconn,\n\u001b[0;32m    416\u001b[0m     keyfile\u001b[39m=\u001b[39;49m\u001b[39mself\u001b[39;49m\u001b[39m.\u001b[39;49mkey_file,\n\u001b[0;32m    417\u001b[0m     certfile\u001b[39m=\u001b[39;49m\u001b[39mself\u001b[39;49m\u001b[39m.\u001b[39;49mcert_file,\n\u001b[0;32m    418\u001b[0m     key_password\u001b[39m=\u001b[39;49m\u001b[39mself\u001b[39;49m\u001b[39m.\u001b[39;49mkey_password,\n\u001b[0;32m    419\u001b[0m     ca_certs\u001b[39m=\u001b[39;49m\u001b[39mself\u001b[39;49m\u001b[39m.\u001b[39;49mca_certs,\n\u001b[0;32m    420\u001b[0m     ca_cert_dir\u001b[39m=\u001b[39;49m\u001b[39mself\u001b[39;49m\u001b[39m.\u001b[39;49mca_cert_dir,\n\u001b[0;32m    421\u001b[0m     ca_cert_data\u001b[39m=\u001b[39;49m\u001b[39mself\u001b[39;49m\u001b[39m.\u001b[39;49mca_cert_data,\n\u001b[0;32m    422\u001b[0m     server_hostname\u001b[39m=\u001b[39;49mserver_hostname,\n\u001b[0;32m    423\u001b[0m     ssl_context\u001b[39m=\u001b[39;49mcontext,\n\u001b[0;32m    424\u001b[0m     tls_in_tls\u001b[39m=\u001b[39;49mtls_in_tls,\n\u001b[0;32m    425\u001b[0m )\n\u001b[0;32m    427\u001b[0m \u001b[39m# If we're using all defaults and the connection\u001b[39;00m\n\u001b[0;32m    428\u001b[0m \u001b[39m# is TLSv1 or TLSv1.1 we throw a DeprecationWarning\u001b[39;00m\n\u001b[0;32m    429\u001b[0m \u001b[39m# for the host.\u001b[39;00m\n\u001b[0;32m    430\u001b[0m \u001b[39mif\u001b[39;00m (\n\u001b[0;32m    431\u001b[0m     default_ssl_context\n\u001b[0;32m    432\u001b[0m     \u001b[39mand\u001b[39;00m \u001b[39mself\u001b[39m\u001b[39m.\u001b[39mssl_version \u001b[39mis\u001b[39;00m \u001b[39mNone\u001b[39;00m\n\u001b[0;32m    433\u001b[0m     \u001b[39mand\u001b[39;00m \u001b[39mhasattr\u001b[39m(\u001b[39mself\u001b[39m\u001b[39m.\u001b[39msock, \u001b[39m\"\u001b[39m\u001b[39mversion\u001b[39m\u001b[39m\"\u001b[39m)\n\u001b[0;32m    434\u001b[0m     \u001b[39mand\u001b[39;00m \u001b[39mself\u001b[39m\u001b[39m.\u001b[39msock\u001b[39m.\u001b[39mversion() \u001b[39min\u001b[39;00m {\u001b[39m\"\u001b[39m\u001b[39mTLSv1\u001b[39m\u001b[39m\"\u001b[39m, \u001b[39m\"\u001b[39m\u001b[39mTLSv1.1\u001b[39m\u001b[39m\"\u001b[39m}\n\u001b[0;32m    435\u001b[0m ):\n",
      "File \u001b[1;32mc:\\Users\\jluong\\Miniconda3\\envs\\strava_api_env\\Lib\\site-packages\\urllib3\\util\\ssl_.py:402\u001b[0m, in \u001b[0;36mssl_wrap_socket\u001b[1;34m(sock, keyfile, certfile, cert_reqs, ca_certs, server_hostname, ssl_version, ciphers, ssl_context, ca_cert_dir, key_password, ca_cert_data, tls_in_tls)\u001b[0m\n\u001b[0;32m    400\u001b[0m \u001b[39mif\u001b[39;00m ca_certs \u001b[39mor\u001b[39;00m ca_cert_dir \u001b[39mor\u001b[39;00m ca_cert_data:\n\u001b[0;32m    401\u001b[0m     \u001b[39mtry\u001b[39;00m:\n\u001b[1;32m--> 402\u001b[0m         context\u001b[39m.\u001b[39;49mload_verify_locations(ca_certs, ca_cert_dir, ca_cert_data)\n\u001b[0;32m    403\u001b[0m     \u001b[39mexcept\u001b[39;00m (\u001b[39mIOError\u001b[39;00m, \u001b[39mOSError\u001b[39;00m) \u001b[39mas\u001b[39;00m e:\n\u001b[0;32m    404\u001b[0m         \u001b[39mraise\u001b[39;00m SSLError(e)\n",
      "\u001b[1;31mKeyboardInterrupt\u001b[0m: "
     ]
    }
   ],
   "source": [
    "# add decoded summary polylines\n",
    "# activities['map.summary_polyline'] contains an encoded polyline\n",
    "# .apply(polyline.decode) decodes that polyline into latitude and longitude\n",
    "activities['map.polyline'] = activities['map.summary_polyline'].apply(polyline.decode)\n",
    "# print(\"turkey\")\n",
    "#####################\n",
    "# define function to get elevation data using the open-elevation API\n",
    "def get_elevation(latitude, longitude):\n",
    "    base_url = 'https://api.open-elevation.com/api/v1/lookup'\n",
    "    payload = {'locations': f'{latitude},{longitude}'}\n",
    "    r = requests.get(base_url, params=payload).json()['results'][0]\n",
    "    return r['elevation']\n",
    "# get elevation data\n",
    "elevation_data = list()\n",
    "for idx in tqdm(activities.index):\n",
    "    activity = activities.loc[idx, :]\n",
    "    elevation = [get_elevation(coord[0], coord[1]) for coord in activity['map.polyline']]\n",
    "    elevation_data.append(elevation)"
   ]
  },
  {
   "cell_type": "code",
   "execution_count": null,
   "metadata": {},
   "outputs": [],
   "source": [
    "# add elevation data to dataframe\n",
    "activities['map.elevation'] = elevation_data"
   ]
  },
  {
   "cell_type": "code",
   "execution_count": 136,
   "metadata": {},
   "outputs": [],
   "source": [
    "# Make a copy of activities DataFrame for testing.\n",
    "activities_copy = activities.copy()"
   ]
  },
  {
   "cell_type": "code",
   "execution_count": 137,
   "metadata": {},
   "outputs": [
    {
     "name": "stdout",
     "output_type": "stream",
     "text": [
      "149\n"
     ]
    }
   ],
   "source": [
    "# filter down to Ride, Run, and Swim activities\n",
    "activities_copy = activities_copy.query(\"type == 'Ride' | type == 'Run' | type == 'Swim'\")\n",
    "print(len(activities_copy))"
   ]
  },
  {
   "cell_type": "code",
   "execution_count": 138,
   "metadata": {},
   "outputs": [
    {
     "name": "stderr",
     "output_type": "stream",
     "text": [
      "C:\\Users\\jimmy\\AppData\\Local\\Temp\\ipykernel_22216\\1035570082.py:2: FutureWarning:\n",
      "\n",
      "In a future version, `df.iloc[:, i] = newvals` will attempt to set the values inplace instead of always setting a new array. To retain the old behavior, use either `df[df.columns[i]] = newvals` or, if columns are non-unique, `df.isetitem(i, newvals)`\n",
      "\n",
      "C:\\Users\\jimmy\\AppData\\Local\\Temp\\ipykernel_22216\\1035570082.py:3: FutureWarning:\n",
      "\n",
      "In a future version, `df.iloc[:, i] = newvals` will attempt to set the values inplace instead of always setting a new array. To retain the old behavior, use either `df[df.columns[i]] = newvals` or, if columns are non-unique, `df.isetitem(i, newvals)`\n",
      "\n"
     ]
    }
   ],
   "source": [
    "# convert data types\n",
    "activities_copy.loc[:, 'start_date'] = pd.to_datetime(activities_copy['start_date']).dt.tz_localize(None)\n",
    "activities_copy.loc[:, 'start_date_local'] = pd.to_datetime(activities_copy['start_date_local']).dt.tz_localize(None)\n",
    "# convert values\n",
    "activities_copy.loc[:, 'distance'] /= 1609.344 # convert from meters to miles\n",
    "activities_copy.loc[:, 'average_speed'] *= 2.23693629 # convert from meters/second to miles/hour\n",
    "activities_copy.loc[:, 'max_speed'] *= 2.23693629 # convert from meters/second to miles/hour\n",
    "# set index\n",
    "#activities_copy.set_index('start_date_local', inplace=True)"
   ]
  },
  {
   "cell_type": "code",
   "execution_count": 139,
   "metadata": {},
   "outputs": [
    {
     "data": {
      "text/html": [
       "<div>\n",
       "<style scoped>\n",
       "    .dataframe tbody tr th:only-of-type {\n",
       "        vertical-align: middle;\n",
       "    }\n",
       "\n",
       "    .dataframe tbody tr th {\n",
       "        vertical-align: top;\n",
       "    }\n",
       "\n",
       "    .dataframe thead th {\n",
       "        text-align: right;\n",
       "    }\n",
       "</style>\n",
       "<table border=\"1\" class=\"dataframe\">\n",
       "  <thead>\n",
       "    <tr style=\"text-align: right;\">\n",
       "      <th></th>\n",
       "      <th>resource_state</th>\n",
       "      <th>name</th>\n",
       "      <th>distance</th>\n",
       "      <th>moving_time</th>\n",
       "      <th>elapsed_time</th>\n",
       "      <th>total_elevation_gain</th>\n",
       "      <th>type</th>\n",
       "      <th>sport_type</th>\n",
       "      <th>workout_type</th>\n",
       "      <th>id</th>\n",
       "      <th>...</th>\n",
       "      <th>total_photo_count</th>\n",
       "      <th>has_kudoed</th>\n",
       "      <th>suffer_score</th>\n",
       "      <th>athlete.id</th>\n",
       "      <th>athlete.resource_state</th>\n",
       "      <th>map.id</th>\n",
       "      <th>map.summary_polyline</th>\n",
       "      <th>map.resource_state</th>\n",
       "      <th>average_temp</th>\n",
       "      <th>start_time</th>\n",
       "    </tr>\n",
       "  </thead>\n",
       "  <tbody>\n",
       "    <tr>\n",
       "      <th>0</th>\n",
       "      <td>2</td>\n",
       "      <td>Morning Run</td>\n",
       "      <td>5.023662</td>\n",
       "      <td>2664</td>\n",
       "      <td>2959</td>\n",
       "      <td>17.0</td>\n",
       "      <td>Run</td>\n",
       "      <td>Run</td>\n",
       "      <td>NaN</td>\n",
       "      <td>8992309691</td>\n",
       "      <td>...</td>\n",
       "      <td>0</td>\n",
       "      <td>False</td>\n",
       "      <td>57.0</td>\n",
       "      <td>43537797</td>\n",
       "      <td>1</td>\n",
       "      <td>a8992309691</td>\n",
       "      <td>{uijFhwrdVXHz@b@z@Xn@^f@P`ALNDdAHHBd@Ar@B~@A\\E...</td>\n",
       "      <td>2</td>\n",
       "      <td>NaN</td>\n",
       "      <td>10:18:35</td>\n",
       "    </tr>\n",
       "    <tr>\n",
       "      <th>2</th>\n",
       "      <td>2</td>\n",
       "      <td>Morning Run</td>\n",
       "      <td>4.676750</td>\n",
       "      <td>2702</td>\n",
       "      <td>2707</td>\n",
       "      <td>40.0</td>\n",
       "      <td>Run</td>\n",
       "      <td>Run</td>\n",
       "      <td>NaN</td>\n",
       "      <td>8984825996</td>\n",
       "      <td>...</td>\n",
       "      <td>0</td>\n",
       "      <td>False</td>\n",
       "      <td>44.0</td>\n",
       "      <td>43537797</td>\n",
       "      <td>1</td>\n",
       "      <td>a8984825996</td>\n",
       "      <td>wuijFjwrdVrChAp@ZH@|@X|@J~ADJEDGBWD{BH{AJ_@v@s...</td>\n",
       "      <td>2</td>\n",
       "      <td>NaN</td>\n",
       "      <td>07:14:27</td>\n",
       "    </tr>\n",
       "    <tr>\n",
       "      <th>3</th>\n",
       "      <td>2</td>\n",
       "      <td>Morning Run</td>\n",
       "      <td>2.883473</td>\n",
       "      <td>1500</td>\n",
       "      <td>1520</td>\n",
       "      <td>5.0</td>\n",
       "      <td>Run</td>\n",
       "      <td>Run</td>\n",
       "      <td>NaN</td>\n",
       "      <td>8978661487</td>\n",
       "      <td>...</td>\n",
       "      <td>0</td>\n",
       "      <td>False</td>\n",
       "      <td>41.0</td>\n",
       "      <td>43537797</td>\n",
       "      <td>1</td>\n",
       "      <td>a8978661487</td>\n",
       "      <td>mtijFjxrdV~@^r@RTNd@RvAXjBLbBGb@?d@Ed@?FI@EKoD...</td>\n",
       "      <td>2</td>\n",
       "      <td>NaN</td>\n",
       "      <td>08:16:17</td>\n",
       "    </tr>\n",
       "    <tr>\n",
       "      <th>4</th>\n",
       "      <td>2</td>\n",
       "      <td>NFS Team Ride</td>\n",
       "      <td>20.051711</td>\n",
       "      <td>5542</td>\n",
       "      <td>6274</td>\n",
       "      <td>60.0</td>\n",
       "      <td>Ride</td>\n",
       "      <td>Ride</td>\n",
       "      <td>10.0</td>\n",
       "      <td>8972407676</td>\n",
       "      <td>...</td>\n",
       "      <td>2</td>\n",
       "      <td>False</td>\n",
       "      <td>26.0</td>\n",
       "      <td>43537797</td>\n",
       "      <td>1</td>\n",
       "      <td>a8972407676</td>\n",
       "      <td>kgjjF~hrdVkP{FcCs@SBGN]~BEHsBg@I@wBvLMX_@VIRq@...</td>\n",
       "      <td>2</td>\n",
       "      <td>NaN</td>\n",
       "      <td>06:20:42</td>\n",
       "    </tr>\n",
       "    <tr>\n",
       "      <th>5</th>\n",
       "      <td>2</td>\n",
       "      <td>Sac State 5k</td>\n",
       "      <td>3.214664</td>\n",
       "      <td>1423</td>\n",
       "      <td>1429</td>\n",
       "      <td>10.0</td>\n",
       "      <td>Run</td>\n",
       "      <td>Run</td>\n",
       "      <td>0.0</td>\n",
       "      <td>8969699886</td>\n",
       "      <td>...</td>\n",
       "      <td>0</td>\n",
       "      <td>False</td>\n",
       "      <td>100.0</td>\n",
       "      <td>43537797</td>\n",
       "      <td>1</td>\n",
       "      <td>a8969699886</td>\n",
       "      <td>ymijFvebdV^I`AEbDLj@?PEFOAqFQgAECMCwA?eAHUFkB@...</td>\n",
       "      <td>2</td>\n",
       "      <td>NaN</td>\n",
       "      <td>18:00:28</td>\n",
       "    </tr>\n",
       "  </tbody>\n",
       "</table>\n",
       "<p>5 rows × 61 columns</p>\n",
       "</div>"
      ],
      "text/plain": [
       "   resource_state           name   distance  moving_time  elapsed_time  \\\n",
       "0               2    Morning Run   5.023662         2664          2959   \n",
       "2               2    Morning Run   4.676750         2702          2707   \n",
       "3               2    Morning Run   2.883473         1500          1520   \n",
       "4               2  NFS Team Ride  20.051711         5542          6274   \n",
       "5               2   Sac State 5k   3.214664         1423          1429   \n",
       "\n",
       "   total_elevation_gain  type sport_type  workout_type          id  ...  \\\n",
       "0                  17.0   Run        Run           NaN  8992309691  ...   \n",
       "2                  40.0   Run        Run           NaN  8984825996  ...   \n",
       "3                   5.0   Run        Run           NaN  8978661487  ...   \n",
       "4                  60.0  Ride       Ride          10.0  8972407676  ...   \n",
       "5                  10.0   Run        Run           0.0  8969699886  ...   \n",
       "\n",
       "  total_photo_count has_kudoed suffer_score  athlete.id  \\\n",
       "0                 0      False         57.0    43537797   \n",
       "2                 0      False         44.0    43537797   \n",
       "3                 0      False         41.0    43537797   \n",
       "4                 2      False         26.0    43537797   \n",
       "5                 0      False        100.0    43537797   \n",
       "\n",
       "  athlete.resource_state       map.id  \\\n",
       "0                      1  a8992309691   \n",
       "2                      1  a8984825996   \n",
       "3                      1  a8978661487   \n",
       "4                      1  a8972407676   \n",
       "5                      1  a8969699886   \n",
       "\n",
       "                                map.summary_polyline  map.resource_state  \\\n",
       "0  {uijFhwrdVXHz@b@z@Xn@^f@P`ALNDdAHHBd@Ar@B~@A\\E...                   2   \n",
       "2  wuijFjwrdVrChAp@ZH@|@X|@J~ADJEDGBWD{BH{AJ_@v@s...                   2   \n",
       "3  mtijFjxrdV~@^r@RTNd@RvAXjBLbBGb@?d@Ed@?FI@EKoD...                   2   \n",
       "4  kgjjF~hrdVkP{FcCs@SBGN]~BEHsBg@I@wBvLMX_@VIRq@...                   2   \n",
       "5  ymijFvebdV^I`AEbDLj@?PEFOAqFQgAECMCwA?eAHUFkB@...                   2   \n",
       "\n",
       "   average_temp  start_time  \n",
       "0           NaN    10:18:35  \n",
       "2           NaN    07:14:27  \n",
       "3           NaN    08:16:17  \n",
       "4           NaN    06:20:42  \n",
       "5           NaN    18:00:28  \n",
       "\n",
       "[5 rows x 61 columns]"
      ]
     },
     "execution_count": 139,
     "metadata": {},
     "output_type": "execute_result"
    }
   ],
   "source": [
    "activities_copy.head()"
   ]
  },
  {
   "cell_type": "code",
   "execution_count": 140,
   "metadata": {},
   "outputs": [
    {
     "data": {
      "text/plain": [
       "Index(['resource_state', 'name', 'distance', 'moving_time', 'elapsed_time',\n",
       "       'total_elevation_gain', 'type', 'sport_type', 'workout_type', 'id',\n",
       "       'start_date', 'start_date_local', 'timezone', 'utc_offset',\n",
       "       'location_city', 'location_state', 'location_country',\n",
       "       'achievement_count', 'kudos_count', 'comment_count', 'athlete_count',\n",
       "       'photo_count', 'trainer', 'commute', 'manual', 'private', 'visibility',\n",
       "       'flagged', 'gear_id', 'start_latlng', 'end_latlng', 'average_speed',\n",
       "       'max_speed', 'average_cadence', 'average_watts', 'max_watts',\n",
       "       'weighted_average_watts', 'kilojoules', 'device_watts', 'has_heartrate',\n",
       "       'average_heartrate', 'max_heartrate', 'heartrate_opt_out',\n",
       "       'display_hide_heartrate_option', 'elev_high', 'elev_low', 'upload_id',\n",
       "       'upload_id_str', 'external_id', 'from_accepted_tag', 'pr_count',\n",
       "       'total_photo_count', 'has_kudoed', 'suffer_score', 'athlete.id',\n",
       "       'athlete.resource_state', 'map.id', 'map.summary_polyline',\n",
       "       'map.resource_state', 'average_temp', 'start_time'],\n",
       "      dtype='object')"
      ]
     },
     "execution_count": 140,
     "metadata": {},
     "output_type": "execute_result"
    }
   ],
   "source": [
    "activities_copy.columns"
   ]
  },
  {
   "cell_type": "code",
   "execution_count": 142,
   "metadata": {},
   "outputs": [
    {
     "data": {
      "text/html": [
       "<div>\n",
       "<style scoped>\n",
       "    .dataframe tbody tr th:only-of-type {\n",
       "        vertical-align: middle;\n",
       "    }\n",
       "\n",
       "    .dataframe tbody tr th {\n",
       "        vertical-align: top;\n",
       "    }\n",
       "\n",
       "    .dataframe thead th {\n",
       "        text-align: right;\n",
       "    }\n",
       "</style>\n",
       "<table border=\"1\" class=\"dataframe\">\n",
       "  <thead>\n",
       "    <tr style=\"text-align: right;\">\n",
       "      <th></th>\n",
       "      <th>type</th>\n",
       "      <th>distance</th>\n",
       "    </tr>\n",
       "  </thead>\n",
       "  <tbody>\n",
       "    <tr>\n",
       "      <th>0</th>\n",
       "      <td>Ride</td>\n",
       "      <td>317.111009</td>\n",
       "    </tr>\n",
       "    <tr>\n",
       "      <th>1</th>\n",
       "      <td>Run</td>\n",
       "      <td>358.743625</td>\n",
       "    </tr>\n",
       "    <tr>\n",
       "      <th>2</th>\n",
       "      <td>Swim</td>\n",
       "      <td>1.967883</td>\n",
       "    </tr>\n",
       "  </tbody>\n",
       "</table>\n",
       "</div>"
      ],
      "text/plain": [
       "   type    distance\n",
       "0  Ride  317.111009\n",
       "1   Run  358.743625\n",
       "2  Swim    1.967883"
      ]
     },
     "execution_count": 142,
     "metadata": {},
     "output_type": "execute_result"
    }
   ],
   "source": [
    "miles_per_activity = pd.DataFrame(activities_copy.groupby(['type'])['distance'].sum().reset_index())\n",
    "miles_per_activity"
   ]
  },
  {
   "cell_type": "code",
   "execution_count": 52,
   "metadata": {},
   "outputs": [
    {
     "data": {
      "text/plain": [
       "pandas.core.frame.DataFrame"
      ]
     },
     "execution_count": 52,
     "metadata": {},
     "output_type": "execute_result"
    }
   ],
   "source": [
    "type(miles_per_activity)"
   ]
  },
  {
   "cell_type": "code",
   "execution_count": 10,
   "metadata": {},
   "outputs": [
    {
     "data": {
      "text/plain": [
       "4"
      ]
     },
     "execution_count": 10,
     "metadata": {},
     "output_type": "execute_result"
    }
   ],
   "source": [
    "# df.query('column_name.str.contains(\"abc\")', engine='python')\n",
    "activities_nfs_copy = activities.copy(deep = True)\n",
    "# the line below is likely causing the \"A value is trying to be set on a copy of a slice from a DataFrame.\" warning.\n",
    "activities_nfs = activities_nfs_copy.query('name.str.contains(\"NFS\")', engine = 'python')\n",
    "len(activities_nfs)"
   ]
  },
  {
   "cell_type": "code",
   "execution_count": 144,
   "metadata": {},
   "outputs": [
    {
     "data": {
      "text/html": [
       "<div>\n",
       "<style scoped>\n",
       "    .dataframe tbody tr th:only-of-type {\n",
       "        vertical-align: middle;\n",
       "    }\n",
       "\n",
       "    .dataframe tbody tr th {\n",
       "        vertical-align: top;\n",
       "    }\n",
       "\n",
       "    .dataframe thead th {\n",
       "        text-align: right;\n",
       "    }\n",
       "</style>\n",
       "<table border=\"1\" class=\"dataframe\">\n",
       "  <thead>\n",
       "    <tr style=\"text-align: right;\">\n",
       "      <th></th>\n",
       "      <th>resource_state</th>\n",
       "      <th>name</th>\n",
       "      <th>distance</th>\n",
       "      <th>moving_time</th>\n",
       "      <th>elapsed_time</th>\n",
       "      <th>total_elevation_gain</th>\n",
       "      <th>type</th>\n",
       "      <th>sport_type</th>\n",
       "      <th>workout_type</th>\n",
       "      <th>id</th>\n",
       "      <th>...</th>\n",
       "      <th>total_photo_count</th>\n",
       "      <th>has_kudoed</th>\n",
       "      <th>suffer_score</th>\n",
       "      <th>athlete.id</th>\n",
       "      <th>athlete.resource_state</th>\n",
       "      <th>map.id</th>\n",
       "      <th>map.summary_polyline</th>\n",
       "      <th>map.resource_state</th>\n",
       "      <th>average_temp</th>\n",
       "      <th>start_time</th>\n",
       "    </tr>\n",
       "  </thead>\n",
       "  <tbody>\n",
       "    <tr>\n",
       "      <th>4</th>\n",
       "      <td>2</td>\n",
       "      <td>NFS Team Ride</td>\n",
       "      <td>20.051711</td>\n",
       "      <td>5542</td>\n",
       "      <td>6274</td>\n",
       "      <td>60.0</td>\n",
       "      <td>Ride</td>\n",
       "      <td>Ride</td>\n",
       "      <td>10.0</td>\n",
       "      <td>8972407676</td>\n",
       "      <td>...</td>\n",
       "      <td>2</td>\n",
       "      <td>False</td>\n",
       "      <td>26.0</td>\n",
       "      <td>43537797</td>\n",
       "      <td>1</td>\n",
       "      <td>a8972407676</td>\n",
       "      <td>kgjjF~hrdVkP{FcCs@SBGN]~BEHsBg@I@wBvLMX_@VIRq@...</td>\n",
       "      <td>2</td>\n",
       "      <td>NaN</td>\n",
       "      <td>06:20:42</td>\n",
       "    </tr>\n",
       "    <tr>\n",
       "      <th>11</th>\n",
       "      <td>2</td>\n",
       "      <td>NFS Team Ride</td>\n",
       "      <td>17.588968</td>\n",
       "      <td>4883</td>\n",
       "      <td>5164</td>\n",
       "      <td>83.0</td>\n",
       "      <td>Ride</td>\n",
       "      <td>Ride</td>\n",
       "      <td>10.0</td>\n",
       "      <td>8925187613</td>\n",
       "      <td>...</td>\n",
       "      <td>0</td>\n",
       "      <td>False</td>\n",
       "      <td>21.0</td>\n",
       "      <td>43537797</td>\n",
       "      <td>1</td>\n",
       "      <td>a8925187613</td>\n",
       "      <td>unjjFnerdVsMgE_Ck@qDfSKPY@M^o@pEO`@iGz^}CdQc@|...</td>\n",
       "      <td>2</td>\n",
       "      <td>NaN</td>\n",
       "      <td>06:28:09</td>\n",
       "    </tr>\n",
       "    <tr>\n",
       "      <th>25</th>\n",
       "      <td>2</td>\n",
       "      <td>NFS team ride</td>\n",
       "      <td>19.785888</td>\n",
       "      <td>5848</td>\n",
       "      <td>6666</td>\n",
       "      <td>74.0</td>\n",
       "      <td>Ride</td>\n",
       "      <td>Ride</td>\n",
       "      <td>10.0</td>\n",
       "      <td>8850777949</td>\n",
       "      <td>...</td>\n",
       "      <td>2</td>\n",
       "      <td>False</td>\n",
       "      <td>25.0</td>\n",
       "      <td>43537797</td>\n",
       "      <td>1</td>\n",
       "      <td>a8850777949</td>\n",
       "      <td>aijjFxgrdVaD_A{Q_Ge@IONkBpLkA~FcDdRwEbXgCbOS`A...</td>\n",
       "      <td>2</td>\n",
       "      <td>NaN</td>\n",
       "      <td>15:19:54</td>\n",
       "    </tr>\n",
       "    <tr>\n",
       "      <th>104</th>\n",
       "      <td>2</td>\n",
       "      <td>First NFS team ride. Saw 10+ deer!</td>\n",
       "      <td>30.031740</td>\n",
       "      <td>8518</td>\n",
       "      <td>8962</td>\n",
       "      <td>84.6</td>\n",
       "      <td>Ride</td>\n",
       "      <td>Ride</td>\n",
       "      <td>10.0</td>\n",
       "      <td>8417951962</td>\n",
       "      <td>...</td>\n",
       "      <td>0</td>\n",
       "      <td>False</td>\n",
       "      <td>26.0</td>\n",
       "      <td>43537797</td>\n",
       "      <td>1</td>\n",
       "      <td>a8417951962</td>\n",
       "      <td>gtijFf{qdVCcAqNyGGk@zGmZhI}e@nA{DLmBm@kCxJ_m@K...</td>\n",
       "      <td>2</td>\n",
       "      <td>NaN</td>\n",
       "      <td>05:49:02</td>\n",
       "    </tr>\n",
       "  </tbody>\n",
       "</table>\n",
       "<p>4 rows × 61 columns</p>\n",
       "</div>"
      ],
      "text/plain": [
       "     resource_state                                name   distance  \\\n",
       "4                 2                       NFS Team Ride  20.051711   \n",
       "11                2                       NFS Team Ride  17.588968   \n",
       "25                2                       NFS team ride  19.785888   \n",
       "104               2  First NFS team ride. Saw 10+ deer!  30.031740   \n",
       "\n",
       "     moving_time  elapsed_time  total_elevation_gain  type sport_type  \\\n",
       "4           5542          6274                  60.0  Ride       Ride   \n",
       "11          4883          5164                  83.0  Ride       Ride   \n",
       "25          5848          6666                  74.0  Ride       Ride   \n",
       "104         8518          8962                  84.6  Ride       Ride   \n",
       "\n",
       "     workout_type          id  ... total_photo_count has_kudoed suffer_score  \\\n",
       "4            10.0  8972407676  ...                 2      False         26.0   \n",
       "11           10.0  8925187613  ...                 0      False         21.0   \n",
       "25           10.0  8850777949  ...                 2      False         25.0   \n",
       "104          10.0  8417951962  ...                 0      False         26.0   \n",
       "\n",
       "     athlete.id athlete.resource_state       map.id  \\\n",
       "4      43537797                      1  a8972407676   \n",
       "11     43537797                      1  a8925187613   \n",
       "25     43537797                      1  a8850777949   \n",
       "104    43537797                      1  a8417951962   \n",
       "\n",
       "                                  map.summary_polyline  map.resource_state  \\\n",
       "4    kgjjF~hrdVkP{FcCs@SBGN]~BEHsBg@I@wBvLMX_@VIRq@...                   2   \n",
       "11   unjjFnerdVsMgE_Ck@qDfSKPY@M^o@pEO`@iGz^}CdQc@|...                   2   \n",
       "25   aijjFxgrdVaD_A{Q_Ge@IONkBpLkA~FcDdRwEbXgCbOS`A...                   2   \n",
       "104  gtijFf{qdVCcAqNyGGk@zGmZhI}e@nA{DLmBm@kCxJ_m@K...                   2   \n",
       "\n",
       "     average_temp  start_time  \n",
       "4             NaN    06:20:42  \n",
       "11            NaN    06:28:09  \n",
       "25            NaN    15:19:54  \n",
       "104           NaN    05:49:02  \n",
       "\n",
       "[4 rows x 61 columns]"
      ]
     },
     "execution_count": 144,
     "metadata": {},
     "output_type": "execute_result"
    }
   ],
   "source": [
    "activities_nfs.head()"
   ]
  },
  {
   "cell_type": "code",
   "execution_count": 157,
   "metadata": {},
   "outputs": [
    {
     "data": {
      "text/plain": [
       "Index(['resource_state', 'name', 'distance', 'moving_time', 'elapsed_time',\n",
       "       'total_elevation_gain', 'type', 'sport_type', 'workout_type', 'id',\n",
       "       'start_date', 'start_date_local', 'timezone', 'utc_offset',\n",
       "       'location_city', 'location_state', 'location_country',\n",
       "       'achievement_count', 'kudos_count', 'comment_count', 'athlete_count',\n",
       "       'photo_count', 'trainer', 'commute', 'manual', 'private', 'visibility',\n",
       "       'flagged', 'gear_id', 'start_latlng', 'end_latlng', 'average_speed',\n",
       "       'max_speed', 'average_cadence', 'average_watts', 'max_watts',\n",
       "       'weighted_average_watts', 'kilojoules', 'device_watts', 'has_heartrate',\n",
       "       'average_heartrate', 'max_heartrate', 'heartrate_opt_out',\n",
       "       'display_hide_heartrate_option', 'elev_high', 'elev_low', 'upload_id',\n",
       "       'upload_id_str', 'external_id', 'from_accepted_tag', 'pr_count',\n",
       "       'total_photo_count', 'has_kudoed', 'suffer_score', 'athlete.id',\n",
       "       'athlete.resource_state', 'map.id', 'map.summary_polyline',\n",
       "       'map.resource_state', 'average_temp', 'start_time'],\n",
       "      dtype='object')"
      ]
     },
     "execution_count": 157,
     "metadata": {},
     "output_type": "execute_result"
    }
   ],
   "source": [
    "activities_nfs.columns"
   ]
  },
  {
   "cell_type": "code",
   "execution_count": 158,
   "metadata": {},
   "outputs": [
    {
     "name": "stderr",
     "output_type": "stream",
     "text": [
      "C:\\Users\\jimmy\\AppData\\Local\\Temp\\ipykernel_22216\\3127851625.py:1: SettingWithCopyWarning:\n",
      "\n",
      "\n",
      "A value is trying to be set on a copy of a slice from a DataFrame.\n",
      "Try using .loc[row_indexer,col_indexer] = value instead\n",
      "\n",
      "See the caveats in the documentation: https://pandas.pydata.org/pandas-docs/stable/user_guide/indexing.html#returning-a-view-versus-a-copy\n",
      "\n"
     ]
    }
   ],
   "source": [
    "activities_nfs.loc[:, ('Month_Year')] = pd.to_datetime(activities.loc[:, ('start_date')]).dt.strftime('%Y-%m')"
   ]
  },
  {
   "cell_type": "code",
   "execution_count": 149,
   "metadata": {},
   "outputs": [
    {
     "name": "stderr",
     "output_type": "stream",
     "text": [
      "C:\\Users\\jimmy\\AppData\\Local\\Temp\\ipykernel_22216\\1930942280.py:4: SettingWithCopyWarning:\n",
      "\n",
      "\n",
      "A value is trying to be set on a copy of a slice from a DataFrame.\n",
      "Try using .loc[row_indexer,col_indexer] = value instead\n",
      "\n",
      "See the caveats in the documentation: https://pandas.pydata.org/pandas-docs/stable/user_guide/indexing.html#returning-a-view-versus-a-copy\n",
      "\n"
     ]
    }
   ],
   "source": [
    "# https://stackoverflow.com/questions/25146121/extracting-just-month-and-year-separately-from-pandas-datetime-column\n",
    "# create a column that extracts month and year from the activity\n",
    "# df['yyyy-mm'] = pd.to_datetime(df['ArrivalDate']).dt.strftime('%Y-%m')\n",
    "activities_nfs['Month_Year'] = pd.to_datetime(activities_nfs['start_date']).dt.strftime('%Y-%m')"
   ]
  },
  {
   "cell_type": "code",
   "execution_count": 159,
   "metadata": {},
   "outputs": [
    {
     "data": {
      "text/plain": [
       "4      2023-04\n",
       "11     2023-04\n",
       "25     2023-04\n",
       "104    2023-01\n",
       "Name: Month_Year, dtype: object"
      ]
     },
     "execution_count": 159,
     "metadata": {},
     "output_type": "execute_result"
    }
   ],
   "source": [
    "activities_nfs.Month_Year"
   ]
  },
  {
   "cell_type": "code",
   "execution_count": 151,
   "metadata": {},
   "outputs": [
    {
     "data": {
      "text/plain": [
       "4     2023-04-28\n",
       "11    2023-04-20\n",
       "25    2023-04-07\n",
       "104   2023-01-19\n",
       "Name: start_date_local, dtype: datetime64[ns]"
      ]
     },
     "execution_count": 151,
     "metadata": {},
     "output_type": "execute_result"
    }
   ],
   "source": [
    "activities_nfs.start_date_local"
   ]
  },
  {
   "cell_type": "code",
   "execution_count": 78,
   "metadata": {},
   "outputs": [],
   "source": [
    "import plotly.express as px"
   ]
  },
  {
   "cell_type": "code",
   "execution_count": 161,
   "metadata": {},
   "outputs": [
    {
     "data": {
      "application/vnd.plotly.v1+json": {
       "config": {
        "plotlyServerURL": "https://plot.ly"
       },
       "data": [
        {
         "alignmentgroup": "True",
         "customdata": [
          [
           "2023-04-28T00:00:00"
          ],
          [
           "2023-04-20T00:00:00"
          ],
          [
           "2023-04-07T00:00:00"
          ],
          [
           "2023-01-19T00:00:00"
          ]
         ],
         "hovertemplate": "Month and Year =%{x}<br>Distance (miles) =%{y}<br>start_date_local=%{customdata[0]}<extra></extra>",
         "legendgroup": "",
         "marker": {
          "color": "#636efa",
          "line": {
           "width": 2.5
          },
          "pattern": {
           "shape": ""
          }
         },
         "name": "",
         "offsetgroup": "",
         "orientation": "v",
         "showlegend": false,
         "textposition": "auto",
         "type": "bar",
         "x": [
          "2023-04",
          "2023-04",
          "2023-04",
          "2023-01"
         ],
         "xaxis": "x",
         "y": [
          20.05171051061799,
          17.58896792730454,
          19.785887914578858,
          30.031739640499485
         ],
         "yaxis": "y"
        }
       ],
       "layout": {
        "bargap": 0.8,
        "barmode": "relative",
        "legend": {
         "tracegroupgap": 0
        },
        "shapes": [
         {
          "type": "line",
          "x0": 0,
          "x1": 1,
          "xref": "x domain",
          "y0": 160,
          "y1": 160,
          "yref": "y"
         }
        ],
        "template": {
         "data": {
          "bar": [
           {
            "error_x": {
             "color": "#2a3f5f"
            },
            "error_y": {
             "color": "#2a3f5f"
            },
            "marker": {
             "line": {
              "color": "#E5ECF6",
              "width": 0.5
             },
             "pattern": {
              "fillmode": "overlay",
              "size": 10,
              "solidity": 0.2
             }
            },
            "type": "bar"
           }
          ],
          "barpolar": [
           {
            "marker": {
             "line": {
              "color": "#E5ECF6",
              "width": 0.5
             },
             "pattern": {
              "fillmode": "overlay",
              "size": 10,
              "solidity": 0.2
             }
            },
            "type": "barpolar"
           }
          ],
          "carpet": [
           {
            "aaxis": {
             "endlinecolor": "#2a3f5f",
             "gridcolor": "white",
             "linecolor": "white",
             "minorgridcolor": "white",
             "startlinecolor": "#2a3f5f"
            },
            "baxis": {
             "endlinecolor": "#2a3f5f",
             "gridcolor": "white",
             "linecolor": "white",
             "minorgridcolor": "white",
             "startlinecolor": "#2a3f5f"
            },
            "type": "carpet"
           }
          ],
          "choropleth": [
           {
            "colorbar": {
             "outlinewidth": 0,
             "ticks": ""
            },
            "type": "choropleth"
           }
          ],
          "contour": [
           {
            "colorbar": {
             "outlinewidth": 0,
             "ticks": ""
            },
            "colorscale": [
             [
              0,
              "#0d0887"
             ],
             [
              0.1111111111111111,
              "#46039f"
             ],
             [
              0.2222222222222222,
              "#7201a8"
             ],
             [
              0.3333333333333333,
              "#9c179e"
             ],
             [
              0.4444444444444444,
              "#bd3786"
             ],
             [
              0.5555555555555556,
              "#d8576b"
             ],
             [
              0.6666666666666666,
              "#ed7953"
             ],
             [
              0.7777777777777778,
              "#fb9f3a"
             ],
             [
              0.8888888888888888,
              "#fdca26"
             ],
             [
              1,
              "#f0f921"
             ]
            ],
            "type": "contour"
           }
          ],
          "contourcarpet": [
           {
            "colorbar": {
             "outlinewidth": 0,
             "ticks": ""
            },
            "type": "contourcarpet"
           }
          ],
          "heatmap": [
           {
            "colorbar": {
             "outlinewidth": 0,
             "ticks": ""
            },
            "colorscale": [
             [
              0,
              "#0d0887"
             ],
             [
              0.1111111111111111,
              "#46039f"
             ],
             [
              0.2222222222222222,
              "#7201a8"
             ],
             [
              0.3333333333333333,
              "#9c179e"
             ],
             [
              0.4444444444444444,
              "#bd3786"
             ],
             [
              0.5555555555555556,
              "#d8576b"
             ],
             [
              0.6666666666666666,
              "#ed7953"
             ],
             [
              0.7777777777777778,
              "#fb9f3a"
             ],
             [
              0.8888888888888888,
              "#fdca26"
             ],
             [
              1,
              "#f0f921"
             ]
            ],
            "type": "heatmap"
           }
          ],
          "heatmapgl": [
           {
            "colorbar": {
             "outlinewidth": 0,
             "ticks": ""
            },
            "colorscale": [
             [
              0,
              "#0d0887"
             ],
             [
              0.1111111111111111,
              "#46039f"
             ],
             [
              0.2222222222222222,
              "#7201a8"
             ],
             [
              0.3333333333333333,
              "#9c179e"
             ],
             [
              0.4444444444444444,
              "#bd3786"
             ],
             [
              0.5555555555555556,
              "#d8576b"
             ],
             [
              0.6666666666666666,
              "#ed7953"
             ],
             [
              0.7777777777777778,
              "#fb9f3a"
             ],
             [
              0.8888888888888888,
              "#fdca26"
             ],
             [
              1,
              "#f0f921"
             ]
            ],
            "type": "heatmapgl"
           }
          ],
          "histogram": [
           {
            "marker": {
             "pattern": {
              "fillmode": "overlay",
              "size": 10,
              "solidity": 0.2
             }
            },
            "type": "histogram"
           }
          ],
          "histogram2d": [
           {
            "colorbar": {
             "outlinewidth": 0,
             "ticks": ""
            },
            "colorscale": [
             [
              0,
              "#0d0887"
             ],
             [
              0.1111111111111111,
              "#46039f"
             ],
             [
              0.2222222222222222,
              "#7201a8"
             ],
             [
              0.3333333333333333,
              "#9c179e"
             ],
             [
              0.4444444444444444,
              "#bd3786"
             ],
             [
              0.5555555555555556,
              "#d8576b"
             ],
             [
              0.6666666666666666,
              "#ed7953"
             ],
             [
              0.7777777777777778,
              "#fb9f3a"
             ],
             [
              0.8888888888888888,
              "#fdca26"
             ],
             [
              1,
              "#f0f921"
             ]
            ],
            "type": "histogram2d"
           }
          ],
          "histogram2dcontour": [
           {
            "colorbar": {
             "outlinewidth": 0,
             "ticks": ""
            },
            "colorscale": [
             [
              0,
              "#0d0887"
             ],
             [
              0.1111111111111111,
              "#46039f"
             ],
             [
              0.2222222222222222,
              "#7201a8"
             ],
             [
              0.3333333333333333,
              "#9c179e"
             ],
             [
              0.4444444444444444,
              "#bd3786"
             ],
             [
              0.5555555555555556,
              "#d8576b"
             ],
             [
              0.6666666666666666,
              "#ed7953"
             ],
             [
              0.7777777777777778,
              "#fb9f3a"
             ],
             [
              0.8888888888888888,
              "#fdca26"
             ],
             [
              1,
              "#f0f921"
             ]
            ],
            "type": "histogram2dcontour"
           }
          ],
          "mesh3d": [
           {
            "colorbar": {
             "outlinewidth": 0,
             "ticks": ""
            },
            "type": "mesh3d"
           }
          ],
          "parcoords": [
           {
            "line": {
             "colorbar": {
              "outlinewidth": 0,
              "ticks": ""
             }
            },
            "type": "parcoords"
           }
          ],
          "pie": [
           {
            "automargin": true,
            "type": "pie"
           }
          ],
          "scatter": [
           {
            "fillpattern": {
             "fillmode": "overlay",
             "size": 10,
             "solidity": 0.2
            },
            "type": "scatter"
           }
          ],
          "scatter3d": [
           {
            "line": {
             "colorbar": {
              "outlinewidth": 0,
              "ticks": ""
             }
            },
            "marker": {
             "colorbar": {
              "outlinewidth": 0,
              "ticks": ""
             }
            },
            "type": "scatter3d"
           }
          ],
          "scattercarpet": [
           {
            "marker": {
             "colorbar": {
              "outlinewidth": 0,
              "ticks": ""
             }
            },
            "type": "scattercarpet"
           }
          ],
          "scattergeo": [
           {
            "marker": {
             "colorbar": {
              "outlinewidth": 0,
              "ticks": ""
             }
            },
            "type": "scattergeo"
           }
          ],
          "scattergl": [
           {
            "marker": {
             "colorbar": {
              "outlinewidth": 0,
              "ticks": ""
             }
            },
            "type": "scattergl"
           }
          ],
          "scattermapbox": [
           {
            "marker": {
             "colorbar": {
              "outlinewidth": 0,
              "ticks": ""
             }
            },
            "type": "scattermapbox"
           }
          ],
          "scatterpolar": [
           {
            "marker": {
             "colorbar": {
              "outlinewidth": 0,
              "ticks": ""
             }
            },
            "type": "scatterpolar"
           }
          ],
          "scatterpolargl": [
           {
            "marker": {
             "colorbar": {
              "outlinewidth": 0,
              "ticks": ""
             }
            },
            "type": "scatterpolargl"
           }
          ],
          "scatterternary": [
           {
            "marker": {
             "colorbar": {
              "outlinewidth": 0,
              "ticks": ""
             }
            },
            "type": "scatterternary"
           }
          ],
          "surface": [
           {
            "colorbar": {
             "outlinewidth": 0,
             "ticks": ""
            },
            "colorscale": [
             [
              0,
              "#0d0887"
             ],
             [
              0.1111111111111111,
              "#46039f"
             ],
             [
              0.2222222222222222,
              "#7201a8"
             ],
             [
              0.3333333333333333,
              "#9c179e"
             ],
             [
              0.4444444444444444,
              "#bd3786"
             ],
             [
              0.5555555555555556,
              "#d8576b"
             ],
             [
              0.6666666666666666,
              "#ed7953"
             ],
             [
              0.7777777777777778,
              "#fb9f3a"
             ],
             [
              0.8888888888888888,
              "#fdca26"
             ],
             [
              1,
              "#f0f921"
             ]
            ],
            "type": "surface"
           }
          ],
          "table": [
           {
            "cells": {
             "fill": {
              "color": "#EBF0F8"
             },
             "line": {
              "color": "white"
             }
            },
            "header": {
             "fill": {
              "color": "#C8D4E3"
             },
             "line": {
              "color": "white"
             }
            },
            "type": "table"
           }
          ]
         },
         "layout": {
          "annotationdefaults": {
           "arrowcolor": "#2a3f5f",
           "arrowhead": 0,
           "arrowwidth": 1
          },
          "autotypenumbers": "strict",
          "coloraxis": {
           "colorbar": {
            "outlinewidth": 0,
            "ticks": ""
           }
          },
          "colorscale": {
           "diverging": [
            [
             0,
             "#8e0152"
            ],
            [
             0.1,
             "#c51b7d"
            ],
            [
             0.2,
             "#de77ae"
            ],
            [
             0.3,
             "#f1b6da"
            ],
            [
             0.4,
             "#fde0ef"
            ],
            [
             0.5,
             "#f7f7f7"
            ],
            [
             0.6,
             "#e6f5d0"
            ],
            [
             0.7,
             "#b8e186"
            ],
            [
             0.8,
             "#7fbc41"
            ],
            [
             0.9,
             "#4d9221"
            ],
            [
             1,
             "#276419"
            ]
           ],
           "sequential": [
            [
             0,
             "#0d0887"
            ],
            [
             0.1111111111111111,
             "#46039f"
            ],
            [
             0.2222222222222222,
             "#7201a8"
            ],
            [
             0.3333333333333333,
             "#9c179e"
            ],
            [
             0.4444444444444444,
             "#bd3786"
            ],
            [
             0.5555555555555556,
             "#d8576b"
            ],
            [
             0.6666666666666666,
             "#ed7953"
            ],
            [
             0.7777777777777778,
             "#fb9f3a"
            ],
            [
             0.8888888888888888,
             "#fdca26"
            ],
            [
             1,
             "#f0f921"
            ]
           ],
           "sequentialminus": [
            [
             0,
             "#0d0887"
            ],
            [
             0.1111111111111111,
             "#46039f"
            ],
            [
             0.2222222222222222,
             "#7201a8"
            ],
            [
             0.3333333333333333,
             "#9c179e"
            ],
            [
             0.4444444444444444,
             "#bd3786"
            ],
            [
             0.5555555555555556,
             "#d8576b"
            ],
            [
             0.6666666666666666,
             "#ed7953"
            ],
            [
             0.7777777777777778,
             "#fb9f3a"
            ],
            [
             0.8888888888888888,
             "#fdca26"
            ],
            [
             1,
             "#f0f921"
            ]
           ]
          },
          "colorway": [
           "#636efa",
           "#EF553B",
           "#00cc96",
           "#ab63fa",
           "#FFA15A",
           "#19d3f3",
           "#FF6692",
           "#B6E880",
           "#FF97FF",
           "#FECB52"
          ],
          "font": {
           "color": "#2a3f5f"
          },
          "geo": {
           "bgcolor": "white",
           "lakecolor": "white",
           "landcolor": "#E5ECF6",
           "showlakes": true,
           "showland": true,
           "subunitcolor": "white"
          },
          "hoverlabel": {
           "align": "left"
          },
          "hovermode": "closest",
          "mapbox": {
           "style": "light"
          },
          "paper_bgcolor": "white",
          "plot_bgcolor": "#E5ECF6",
          "polar": {
           "angularaxis": {
            "gridcolor": "white",
            "linecolor": "white",
            "ticks": ""
           },
           "bgcolor": "#E5ECF6",
           "radialaxis": {
            "gridcolor": "white",
            "linecolor": "white",
            "ticks": ""
           }
          },
          "scene": {
           "xaxis": {
            "backgroundcolor": "#E5ECF6",
            "gridcolor": "white",
            "gridwidth": 2,
            "linecolor": "white",
            "showbackground": true,
            "ticks": "",
            "zerolinecolor": "white"
           },
           "yaxis": {
            "backgroundcolor": "#E5ECF6",
            "gridcolor": "white",
            "gridwidth": 2,
            "linecolor": "white",
            "showbackground": true,
            "ticks": "",
            "zerolinecolor": "white"
           },
           "zaxis": {
            "backgroundcolor": "#E5ECF6",
            "gridcolor": "white",
            "gridwidth": 2,
            "linecolor": "white",
            "showbackground": true,
            "ticks": "",
            "zerolinecolor": "white"
           }
          },
          "shapedefaults": {
           "line": {
            "color": "#2a3f5f"
           }
          },
          "ternary": {
           "aaxis": {
            "gridcolor": "white",
            "linecolor": "white",
            "ticks": ""
           },
           "baxis": {
            "gridcolor": "white",
            "linecolor": "white",
            "ticks": ""
           },
           "bgcolor": "#E5ECF6",
           "caxis": {
            "gridcolor": "white",
            "linecolor": "white",
            "ticks": ""
           }
          },
          "title": {
           "x": 0.05
          },
          "xaxis": {
           "automargin": true,
           "gridcolor": "white",
           "linecolor": "white",
           "ticks": "",
           "title": {
            "standoff": 15
           },
           "zerolinecolor": "white",
           "zerolinewidth": 2
          },
          "yaxis": {
           "automargin": true,
           "gridcolor": "white",
           "linecolor": "white",
           "ticks": "",
           "title": {
            "standoff": 15
           },
           "zerolinecolor": "white",
           "zerolinewidth": 2
          }
         }
        },
        "title": {
         "text": "NFS Team Rides"
        },
        "width": 1000,
        "xaxis": {
         "anchor": "y",
         "domain": [
          0,
          1
         ],
         "title": {
          "text": "Month and Year "
         }
        },
        "yaxis": {
         "anchor": "x",
         "domain": [
          0,
          1
         ],
         "range": [
          0,
          300
         ],
         "title": {
          "text": "Distance (miles) "
         }
        }
       }
      }
     },
     "metadata": {},
     "output_type": "display_data"
    }
   ],
   "source": [
    "fig0 = px.bar(\n",
    "    activities_nfs, x = \"Month_Year\", y = \"distance\",\n",
    "    labels = dict(Month_Year =\"Month and Year \", distance =\"Distance (miles) \"),\n",
    "    hover_data=[\"start_date_local\"],\n",
    "    title = \"NFS Team Rides\",\n",
    "    width = 1000\n",
    ")\n",
    "# Hover over should be the day, not the first of the month\n",
    "fig0.add_hline(y = 20*8)\n",
    "fig0.update_traces(marker_line_width = 2.5)\n",
    "fig0.update_yaxes(range = [0, 300])\n",
    "fig0.update_layout(bargap = 0.8)\n",
    "fig0.show() "
   ]
  },
  {
   "cell_type": "code",
   "execution_count": 11,
   "metadata": {},
   "outputs": [
    {
     "data": {
      "text/plain": [
       "4"
      ]
     },
     "execution_count": 11,
     "metadata": {},
     "output_type": "execute_result"
    }
   ],
   "source": [
    "# df.query('column_name.str.contains(\"abc\")', engine='python')\n",
    "activities_nfs_copy = activities.copy(deep = True)\n",
    "# the line below is likely causing the \"A value is trying to be set on a copy of a slice from a DataFrame.\" warning.\n",
    "activities_nfs = activities_nfs_copy.query('name.str.contains(\"NFS\")', engine = 'python')\n",
    "len(activities_nfs)"
   ]
  },
  {
   "cell_type": "code",
   "execution_count": 30,
   "metadata": {},
   "outputs": [
    {
     "name": "stderr",
     "output_type": "stream",
     "text": [
      "C:\\Users\\jimmy\\AppData\\Local\\Temp\\ipykernel_28752\\329265630.py:4: SettingWithCopyWarning: \n",
      "A value is trying to be set on a copy of a slice from a DataFrame.\n",
      "Try using .loc[row_indexer,col_indexer] = value instead\n",
      "\n",
      "See the caveats in the documentation: https://pandas.pydata.org/pandas-docs/stable/user_guide/indexing.html#returning-a-view-versus-a-copy\n",
      "  activities_nfs['map.polyline'] = activities_nfs['map.summary_polyline'].apply(polyline.decode)\n"
     ]
    }
   ],
   "source": [
    "# add decoded summary polylines\n",
    "# activities['map.summary_polyline'] contains an encoded polyline\n",
    "# .apply(polyline.decode) decodes that polyline into latitude and longitude\n",
    "activities_nfs['map.polyline'] = activities_nfs['map.summary_polyline'].apply(polyline.decode)"
   ]
  },
  {
   "cell_type": "code",
   "execution_count": 31,
   "metadata": {},
   "outputs": [
    {
     "data": {
      "text/plain": [
       "9      [(38.56006, -121.50432), (38.56284, -121.50306...\n",
       "16     [(38.56123, -121.50376), (38.56357, -121.50276...\n",
       "30     [(38.56033, -121.50413), (38.56114, -121.50381...\n",
       "109    [(38.557, -121.50212), (38.55702, -121.50178),...\n",
       "Name: map.polyline, dtype: object"
      ]
     },
     "execution_count": 31,
     "metadata": {},
     "output_type": "execute_result"
    }
   ],
   "source": [
    "activities_nfs['map.polyline']"
   ]
  },
  {
   "cell_type": "code",
   "execution_count": 38,
   "metadata": {},
   "outputs": [
    {
     "data": {
      "text/html": [
       "<div style=\"width:100%;\"><div style=\"position:relative;width:100%;height:0;padding-bottom:60%;\"><span style=\"color:#565656\">Make this Notebook Trusted to load map: File -> Trust Notebook</span><iframe srcdoc=\"&lt;!DOCTYPE html&gt;\n",
       "&lt;html&gt;\n",
       "&lt;head&gt;\n",
       "    \n",
       "    &lt;meta http-equiv=&quot;content-type&quot; content=&quot;text/html; charset=UTF-8&quot; /&gt;\n",
       "    \n",
       "        &lt;script&gt;\n",
       "            L_NO_TOUCH = false;\n",
       "            L_DISABLE_3D = false;\n",
       "        &lt;/script&gt;\n",
       "    \n",
       "    &lt;style&gt;html, body {width: 100%;height: 100%;margin: 0;padding: 0;}&lt;/style&gt;\n",
       "    &lt;style&gt;#map {position:absolute;top:0;bottom:0;right:0;left:0;}&lt;/style&gt;\n",
       "    &lt;script src=&quot;https://cdn.jsdelivr.net/npm/leaflet@1.6.0/dist/leaflet.js&quot;&gt;&lt;/script&gt;\n",
       "    &lt;script src=&quot;https://code.jquery.com/jquery-1.12.4.min.js&quot;&gt;&lt;/script&gt;\n",
       "    &lt;script src=&quot;https://maxcdn.bootstrapcdn.com/bootstrap/3.2.0/js/bootstrap.min.js&quot;&gt;&lt;/script&gt;\n",
       "    &lt;script src=&quot;https://cdnjs.cloudflare.com/ajax/libs/Leaflet.awesome-markers/2.0.2/leaflet.awesome-markers.js&quot;&gt;&lt;/script&gt;\n",
       "    &lt;link rel=&quot;stylesheet&quot; href=&quot;https://cdn.jsdelivr.net/npm/leaflet@1.6.0/dist/leaflet.css&quot;/&gt;\n",
       "    &lt;link rel=&quot;stylesheet&quot; href=&quot;https://maxcdn.bootstrapcdn.com/bootstrap/3.2.0/css/bootstrap.min.css&quot;/&gt;\n",
       "    &lt;link rel=&quot;stylesheet&quot; href=&quot;https://maxcdn.bootstrapcdn.com/bootstrap/3.2.0/css/bootstrap-theme.min.css&quot;/&gt;\n",
       "    &lt;link rel=&quot;stylesheet&quot; href=&quot;https://maxcdn.bootstrapcdn.com/font-awesome/4.6.3/css/font-awesome.min.css&quot;/&gt;\n",
       "    &lt;link rel=&quot;stylesheet&quot; href=&quot;https://cdnjs.cloudflare.com/ajax/libs/Leaflet.awesome-markers/2.0.2/leaflet.awesome-markers.css&quot;/&gt;\n",
       "    &lt;link rel=&quot;stylesheet&quot; href=&quot;https://cdn.jsdelivr.net/gh/python-visualization/folium/folium/templates/leaflet.awesome.rotate.min.css&quot;/&gt;\n",
       "    \n",
       "            &lt;meta name=&quot;viewport&quot; content=&quot;width=device-width,\n",
       "                initial-scale=1.0, maximum-scale=1.0, user-scalable=no&quot; /&gt;\n",
       "            &lt;style&gt;\n",
       "                #map_81260550be69b820b689c504a2890322 {\n",
       "                    position: relative;\n",
       "                    width: 100.0%;\n",
       "                    height: 100.0%;\n",
       "                    left: 0.0%;\n",
       "                    top: 0.0%;\n",
       "                }\n",
       "            &lt;/style&gt;\n",
       "        \n",
       "&lt;/head&gt;\n",
       "&lt;body&gt;\n",
       "    \n",
       "    \n",
       "            &lt;div class=&quot;folium-map&quot; id=&quot;map_81260550be69b820b689c504a2890322&quot; &gt;&lt;/div&gt;\n",
       "        \n",
       "&lt;/body&gt;\n",
       "&lt;script&gt;\n",
       "    \n",
       "    \n",
       "            var map_81260550be69b820b689c504a2890322 = L.map(\n",
       "                &quot;map_81260550be69b820b689c504a2890322&quot;,\n",
       "                {\n",
       "                    center: [38.557, -121.50212],\n",
       "                    crs: L.CRS.EPSG3857,\n",
       "                    zoom: 14,\n",
       "                    zoomControl: true,\n",
       "                    preferCanvas: false,\n",
       "                }\n",
       "            );\n",
       "\n",
       "            \n",
       "\n",
       "        \n",
       "    \n",
       "            var tile_layer_bbd362c0b6fc19026ca89f1681ab7f6b = L.tileLayer(\n",
       "                &quot;https://{s}.tile.openstreetmap.org/{z}/{x}/{y}.png&quot;,\n",
       "                {&quot;attribution&quot;: &quot;Data by \\u0026copy; \\u003ca href=\\&quot;http://openstreetmap.org\\&quot;\\u003eOpenStreetMap\\u003c/a\\u003e, under \\u003ca href=\\&quot;http://www.openstreetmap.org/copyright\\&quot;\\u003eODbL\\u003c/a\\u003e.&quot;, &quot;detectRetina&quot;: false, &quot;maxNativeZoom&quot;: 18, &quot;maxZoom&quot;: 18, &quot;minZoom&quot;: 0, &quot;noWrap&quot;: false, &quot;opacity&quot;: 1, &quot;subdomains&quot;: &quot;abc&quot;, &quot;tms&quot;: false}\n",
       "            ).addTo(map_81260550be69b820b689c504a2890322);\n",
       "        \n",
       "    \n",
       "            var poly_line_ecc1563153b9635ff35f0d8562c25a47 = L.polyline(\n",
       "                [[[38.56006, -121.50432], [38.56284, -121.50306], [38.5635, -121.5028], [38.5636, -121.50282], [38.56364, -121.5029], [38.56379, -121.50354], [38.56382, -121.50359], [38.5644, -121.50339], [38.56445, -121.5034], [38.56505, -121.5056], [38.56512, -121.50573], [38.56528, -121.50585], [38.56533, -121.50595], [38.56558, -121.50693], [38.56568, -121.50718], [38.56574, -121.50749], [38.56618, -121.50912], [38.56637, -121.50995], [38.56741, -121.51376], [38.56786, -121.51551], [38.56799, -121.51599], [38.56801, -121.51604], [38.56809, -121.51607], [38.56875, -121.51595], [38.56925, -121.51578], [38.56976, -121.51558], [38.57023, -121.5153], [38.57071, -121.51483], [38.5711, -121.51431], [38.57158, -121.5136], [38.57216, -121.51285], [38.57376, -121.51115], [38.57491, -121.51003], [38.5758, -121.50928], [38.57634, -121.50892], [38.57808, -121.50808], [38.57977, -121.50738], [38.58017, -121.50727], [38.58017, -121.50731], [38.58031, -121.50762], [38.58039, -121.5081], [38.58069, -121.50909], [38.58081, -121.50967], [38.58089, -121.50986], [38.58089, -121.50995], [38.58077, -121.51002], [38.58044, -121.51003], [38.57957, -121.51037], [38.5777, -121.51139], [38.57649, -121.51215], [38.57609, -121.51249], [38.57575, -121.51298], [38.57532, -121.51335], [38.57472, -121.51407], [38.57415, -121.51461], [38.57367, -121.51517], [38.57342, -121.51556], [38.57346, -121.51568], [38.57426, -121.51673], [38.57456, -121.5172], [38.57492, -121.51764], [38.57502, -121.51783], [38.57506, -121.518], [38.57494, -121.51813], [38.5738, -121.51897], [38.57222, -121.52004], [38.57119, -121.52077], [38.56841, -121.52339], [38.56805, -121.52366], [38.5676, -121.52387], [38.56713, -121.52398], [38.56666, -121.52398], [38.5662, -121.52387], [38.5657, -121.52361], [38.5653, -121.52346], [38.56145, -121.52343], [38.5602, -121.52337], [38.56012, -121.52326], [38.56004, -121.52291], [38.56008, -121.52261], [38.56012, -121.5211], [38.5601, -121.52043], [38.56006, -121.52001], [38.55994, -121.51958], [38.55972, -121.51916], [38.55942, -121.51882], [38.55912, -121.51863], [38.5574, -121.51801], [38.55706, -121.51776], [38.55681, -121.51745], [38.55653, -121.51698], [38.55623, -121.51663], [38.55593, -121.51642], [38.55457, -121.51584], [38.5528, -121.51528], [38.55063, -121.51472], [38.54925, -121.51419], [38.54875, -121.51408], [38.5483, -121.51412], [38.54733, -121.51437], [38.54698, -121.51437], [38.54678, -121.51434], [38.54587, -121.51404], [38.54539, -121.51393], [38.54496, -121.51388], [38.54424, -121.5139], [38.54386, -121.51397], [38.54329, -121.51414], [38.54221, -121.51461], [38.54166, -121.51492], [38.54128, -121.51519], [38.54084, -121.51555], [38.54053, -121.51584], [38.53982, -121.51664], [38.53968, -121.51683], [38.53921, -121.51755], [38.53883, -121.5183], [38.53767, -121.52093], [38.53762, -121.52096], [38.5374, -121.52149], [38.53719, -121.52226], [38.53627, -121.52656], [38.53613, -121.52718], [38.53607, -121.52734], [38.53597, -121.52748], [38.53529, -121.5281], [38.53488, -121.52859], [38.53428, -121.52949], [38.53368, -121.53068], [38.53327, -121.53124], [38.53244, -121.53211], [38.5317, -121.53284], [38.53135, -121.53304], [38.53093, -121.53317], [38.52998, -121.53343], [38.52952, -121.53353], [38.529, -121.53358], [38.5285, -121.53356], [38.52792, -121.53346], [38.52714, -121.53316], [38.52644, -121.53274], [38.52606, -121.53245], [38.5239, -121.53047], [38.52357, -121.53012], [38.52289, -121.5293], [38.52257, -121.52905], [38.52225, -121.52891], [38.52186, -121.52888], [38.52153, -121.52896], [38.52082, -121.52932], [38.52061, -121.52947], [38.51983, -121.53012], [38.51956, -121.53047], [38.51937, -121.53088], [38.51928, -121.53131], [38.51909, -121.53348], [38.51899, -121.53785], [38.51894, -121.53902], [38.51889, -121.5397], [38.51876, -121.541], [38.51864, -121.54179], [38.51812, -121.54478], [38.51794, -121.54534], [38.51773, -121.54574], [38.51742, -121.54613], [38.51697, -121.54653], [38.5167, -121.54688], [38.51651, -121.54731], [38.51506, -121.55189], [38.51482, -121.55252], [38.51455, -121.55306], [38.51392, -121.55401], [38.51362, -121.55427], [38.51312, -121.55458], [38.51183, -121.55531], [38.51088, -121.55579], [38.50811, -121.55729], [38.5053, -121.55897], [38.50377, -121.55969], [38.50321, -121.55992], [38.5028, -121.56004], [38.50277, -121.56007], [38.50279, -121.56013], [38.50346, -121.55997], [38.5036, -121.55998], [38.50383, -121.56006], [38.50399, -121.56003], [38.50445, -121.55972], [38.50515, -121.55936], [38.50791, -121.55769], [38.51141, -121.55577], [38.512, -121.5555], [38.51291, -121.55511], [38.51391, -121.55444], [38.5162, -121.5532], [38.51656, -121.55316], [38.51687, -121.55325], [38.51715, -121.55345], [38.5192, -121.55582], [38.51938, -121.5559], [38.51968, -121.55595], [38.51984, -121.55596], [38.51993, -121.55589], [38.51997, -121.55512], [38.52002, -121.55481], [38.52024, -121.55401], [38.52209, -121.5489], [38.52237, -121.54825], [38.52266, -121.54779], [38.52309, -121.54721], [38.52356, -121.54651], [38.52378, -121.54604], [38.52424, -121.54479], [38.52448, -121.54422], [38.52509, -121.54308], [38.52522, -121.54276], [38.52537, -121.54225], [38.52548, -121.5416], [38.52548, -121.54086], [38.52529, -121.53964], [38.52528, -121.53897], [38.52535, -121.53838], [38.52549, -121.53782], [38.52571, -121.53723], [38.52606, -121.53663], [38.52644, -121.53618], [38.52687, -121.53583], [38.52897, -121.53465], [38.53139, -121.53343], [38.53179, -121.53319], [38.53224, -121.5328], [38.53595, -121.52887], [38.53629, -121.52836], [38.53656, -121.52776], [38.53673, -121.52719], [38.53722, -121.52486], [38.5375, -121.52395], [38.53783, -121.52318], [38.53815, -121.52265], [38.53847, -121.52219], [38.53893, -121.52166], [38.53935, -121.52126], [38.53976, -121.52096], [38.54047, -121.52054], [38.54218, -121.51962], [38.54298, -121.51913], [38.54328, -121.51888], [38.544, -121.51803], [38.54453, -121.51756], [38.54589, -121.51679], [38.5463, -121.51666], [38.54713, -121.51667], [38.54768, -121.51682], [38.54822, -121.5171], [38.54928, -121.51772], [38.55055, -121.51852], [38.5516, -121.51906], [38.55194, -121.5194], [38.55271, -121.52046], [38.55306, -121.52078], [38.55358, -121.52112], [38.55434, -121.52152], [38.55472, -121.52144], [38.55493, -121.52156], [38.55529, -121.52168], [38.55563, -121.52185], [38.55703, -121.52275], [38.55769, -121.52313], [38.55794, -121.52321], [38.5582, -121.52305], [38.55863, -121.5232], [38.5593, -121.52326], [38.56506, -121.52337], [38.56546, -121.52342], [38.56632, -121.52382], [38.5668, -121.52392], [38.56735, -121.52388], [38.56779, -121.52373], [38.56826, -121.52343], [38.57064, -121.52115], [38.57092, -121.52084], [38.57137, -121.52046], [38.57172, -121.52029], [38.57207, -121.52008], [38.57322, -121.51926], [38.57392, -121.5188], [38.57494, -121.51807], [38.57499, -121.51791], [38.57494, -121.51776], [38.57405, -121.51654], [38.57346, -121.51567], [38.57343, -121.51558], [38.5737, -121.51513], [38.57426, -121.51449], [38.57468, -121.51411], [38.57534, -121.51332], [38.57576, -121.51295], [38.57615, -121.51242], [38.57653, -121.51212], [38.57797, -121.51123], [38.57973, -121.5103], [38.58043, -121.51005], [38.58082, -121.51006], [38.58086, -121.51003], [38.58088, -121.50997], [38.58038, -121.50792], [38.58019, -121.50737], [38.58009, -121.50734], [38.58013, -121.50728], [38.58011, -121.50732], [38.57964, -121.50743], [38.57811, -121.50808], [38.57793, -121.5082], [38.5762, -121.50902], [38.57554, -121.5095], [38.57463, -121.51032], [38.57387, -121.51107], [38.57237, -121.51265], [38.57194, -121.51316], [38.5709, -121.51463], [38.57052, -121.51507], [38.57021, -121.51533], [38.56976, -121.51559], [38.56908, -121.51586], [38.56858, -121.51601], [38.56802, -121.51609], [38.56793, -121.51601], [38.56792, -121.51596], [38.56672, -121.51154], [38.56627, -121.51002], [38.56607, -121.5092], [38.56571, -121.50803], [38.5645, -121.50341], [38.56426, -121.50262], [38.56418, -121.5026], [38.56268, -121.5032], [38.55989, -121.50447]], [[38.56123, -121.50376], [38.56357, -121.50276], [38.56421, -121.50254], [38.5651, -121.50578], [38.56516, -121.50587], [38.56529, -121.50588], [38.56536, -121.50604], [38.5656, -121.50709], [38.56568, -121.50726], [38.56701, -121.51236], [38.5678, -121.51527], [38.56798, -121.5159], [38.56804, -121.51603], [38.56813, -121.5161], [38.56909, -121.51585], [38.56961, -121.51564], [38.57007, -121.5154], [38.57046, -121.51511], [38.57096, -121.51451], [38.57169, -121.51345], [38.57298, -121.51198], [38.5746, -121.51033], [38.57577, -121.5093], [38.57625, -121.509], [38.57843, -121.50793], [38.58014, -121.50729], [38.5804, -121.50713], [38.58172, -121.5067], [38.58276, -121.5064], [38.58553, -121.50537], [38.58597, -121.50535], [38.58688, -121.5049], [38.58832, -121.50484], [38.5888, -121.50489], [38.58973, -121.50513], [38.59115, -121.50534], [38.5919, -121.5057], [38.59276, -121.50595], [38.59362, -121.50631], [38.59487, -121.50646], [38.59613, -121.50685], [38.59652, -121.50691], [38.5968, -121.5068], [38.59722, -121.50652], [38.59813, -121.50584], [38.59863, -121.50534], [38.59884, -121.50521], [38.60097, -121.50756], [38.60094, -121.50777], [38.60089, -121.50786], [38.60077, -121.50792], [38.60064, -121.50782], [38.60043, -121.5075], [38.6004, -121.50735], [38.6006, -121.50702], [38.60115, -121.50647], [38.6012, -121.50632], [38.60122, -121.50593], [38.60117, -121.50549], [38.60128, -121.50523], [38.60147, -121.50504], [38.60172, -121.50497], [38.60197, -121.50502], [38.60253, -121.50527], [38.60265, -121.50524], [38.60286, -121.50508], [38.60318, -121.5047], [38.60334, -121.50415], [38.60339, -121.50332], [38.60346, -121.50274], [38.60351, -121.50261], [38.60451, -121.50116], [38.60474, -121.50076], [38.6048, -121.50048], [38.60476, -121.49949], [38.60477, -121.49881], [38.60484, -121.49807], [38.60481, -121.49785], [38.60468, -121.4976], [38.60387, -121.49692], [38.6035, -121.49628], [38.60349, -121.49615], [38.60352, -121.49602], [38.60387, -121.49564], [38.60391, -121.49551], [38.60418, -121.49402], [38.60429, -121.49258], [38.60437, -121.49248], [38.60461, -121.49243], [38.60552, -121.49261], [38.60588, -121.49263], [38.6063, -121.49258], [38.6067, -121.49244], [38.60702, -121.49222], [38.60729, -121.4919], [38.6077, -121.49132], [38.6078, -121.49103], [38.60769, -121.49025], [38.60756, -121.48895], [38.60752, -121.48747], [38.60737, -121.48648], [38.60736, -121.48582], [38.60718, -121.48454], [38.60714, -121.48389], [38.60706, -121.48326], [38.60678, -121.48227], [38.60625, -121.48081], [38.60536, -121.4787], [38.60521, -121.47794], [38.60514, -121.47782], [38.60503, -121.47775], [38.60468, -121.47767], [38.60453, -121.47747], [38.60419, -121.47597], [38.60423, -121.47587], [38.60437, -121.47578], [38.6044, -121.47566], [38.60438, -121.47539], [38.60422, -121.47518], [38.60419, -121.47505], [38.60421, -121.4742], [38.60425, -121.47393], [38.6042, -121.47366], [38.60419, -121.47332], [38.60422, -121.473], [38.6042, -121.47295], [38.60406, -121.47289], [38.60345, -121.47333], [38.60308, -121.47349], [38.60255, -121.47358], [38.60219, -121.47355], [38.6018, -121.47334], [38.60008, -121.47203], [38.59954, -121.47152], [38.59919, -121.47068], [38.59893, -121.47029], [38.59759, -121.46907], [38.59703, -121.46842], [38.59656, -121.46802], [38.59586, -121.46725], [38.59551, -121.46664], [38.59476, -121.46499], [38.59456, -121.4644], [38.59435, -121.46325], [38.59434, -121.46271], [38.59447, -121.46142], [38.59463, -121.46078], [38.59579, -121.45757], [38.59612, -121.45534], [38.59615, -121.45477], [38.59607, -121.45119], [38.59599, -121.45025], [38.59593, -121.45013], [38.59581, -121.45011], [38.5951, -121.45032], [38.59496, -121.45031], [38.59485, -121.45019], [38.59476, -121.44979], [38.59481, -121.44969], [38.59489, -121.44965], [38.59565, -121.44948], [38.59579, -121.4494], [38.59586, -121.44919], [38.59583, -121.44869], [38.59573, -121.44833], [38.59538, -121.44746], [38.59504, -121.4468], [38.59441, -121.44581], [38.59416, -121.44533], [38.59409, -121.44518], [38.59405, -121.44489], [38.59388, -121.44447], [38.59353, -121.44373], [38.59241, -121.44229], [38.59205, -121.4422], [38.59164, -121.44192], [38.59119, -121.44161], [38.59094, -121.44129], [38.59073, -121.44086], [38.59057, -121.44023], [38.59028, -121.43801], [38.59059, -121.44031], [38.59068, -121.44069], [38.59088, -121.44115], [38.59114, -121.44155], [38.59126, -121.44166], [38.59198, -121.44216], [38.59243, -121.4423], [38.59357, -121.44377], [38.59379, -121.44441], [38.59402, -121.4448], [38.59417, -121.44531], [38.59447, -121.44588], [38.595, -121.44669], [38.59533, -121.4473], [38.59558, -121.44785], [38.59586, -121.44869], [38.59587, -121.4492], [38.59581, -121.44939], [38.59559, -121.4495], [38.59483, -121.44968], [38.59476, -121.4498], [38.59486, -121.45017], [38.59494, -121.45028], [38.59505, -121.45029], [38.59586, -121.45008], [38.59596, -121.45013], [38.59601, -121.45026], [38.59611, -121.45158], [38.59616, -121.45467], [38.59614, -121.45527], [38.59576, -121.45773], [38.59556, -121.45815], [38.59489, -121.46003], [38.59453, -121.46117], [38.59444, -121.46165], [38.59435, -121.46299], [38.59441, -121.46352], [38.59451, -121.46411], [38.59469, -121.46475], [38.59538, -121.46632], [38.59582, -121.46716], [38.5966, -121.46803], [38.597, -121.46836], [38.5974, -121.46883], [38.59894, -121.47029], [38.59924, -121.4707], [38.59944, -121.47127], [38.59959, -121.47155], [38.60004, -121.47197], [38.60172, -121.47327], [38.60234, -121.47356], [38.60334, -121.47337], [38.60399, -121.47289], [38.60409, -121.47285], [38.60418, -121.4729], [38.60424, -121.473], [38.6042, -121.47346], [38.60427, -121.47391], [38.60422, -121.4751], [38.60439, -121.47541], [38.60443, -121.47569], [38.60427, -121.47588], [38.60421, -121.47604], [38.60459, -121.47754], [38.60478, -121.47769], [38.60508, -121.47776], [38.60521, -121.4779], [38.60535, -121.47863], [38.60564, -121.47938], [38.60608, -121.4803], [38.60661, -121.48186], [38.60675, -121.48214], [38.60705, -121.48318], [38.60717, -121.48403], [38.60722, -121.48484], [38.60735, -121.48561], [38.60739, -121.48662], [38.60752, -121.48741], [38.60757, -121.48886], [38.60771, -121.49029], [38.6078, -121.49077], [38.60779, -121.49115], [38.60756, -121.49154], [38.60654, -121.49254], [38.6058, -121.49266], [38.60454, -121.49246], [38.60435, -121.49252], [38.60429, -121.49262], [38.60419, -121.49401], [38.60393, -121.49556], [38.60387, -121.49567], [38.60353, -121.49605], [38.60352, -121.49618], [38.60355, -121.49631], [38.60387, -121.49688], [38.60418, -121.49719], [38.60465, -121.49756], [38.60483, -121.49782], [38.60485, -121.49811], [38.60478, -121.49909], [38.60481, -121.5006], [38.60462, -121.50104], [38.60437, -121.50144], [38.60366, -121.50241], [38.60349, -121.50272], [38.60341, -121.50322], [38.60337, -121.50407], [38.60332, -121.50438], [38.60321, -121.50467], [38.60302, -121.50493], [38.60268, -121.50524], [38.60257, -121.50527], [38.60181, -121.50501], [38.60157, -121.50503], [38.60131, -121.50521], [38.60123, -121.50538], [38.6012, -121.50557], [38.60124, -121.50598], [38.60121, -121.5064], [38.60112, -121.50655], [38.60057, -121.50709], [38.60046, -121.50724], [38.60043, -121.50737], [38.60048, -121.50755], [38.60065, -121.50782], [38.60074, -121.50787], [38.60083, -121.50787], [38.60092, -121.50775], [38.60085, -121.50752], [38.59878, -121.5053], [38.5986, -121.50539], [38.59817, -121.50584], [38.59705, -121.50666], [38.59668, -121.50689], [38.59641, -121.50695], [38.59483, -121.50648], [38.59373, -121.50635], [38.59329, -121.50622], [38.59248, -121.50589], [38.59194, -121.50574], [38.59142, -121.50547], [38.59098, -121.50534], [38.59038, -121.50527], [38.58839, -121.50486], [38.58684, -121.50493], [38.58585, -121.50539], [38.58552, -121.5054], [38.58509, -121.50558], [38.58382, -121.50598], [38.58342, -121.50621], [38.58212, -121.50664], [38.58061, -121.50713], [38.58014, -121.5072], [38.58004, -121.50731], [38.5796, -121.50741], [38.57624, -121.50899], [38.57564, -121.50941], [38.57475, -121.51019], [38.57256, -121.51243], [38.57184, -121.51326], [38.57062, -121.51498], [38.56996, -121.51549], [38.56949, -121.51571], [38.56884, -121.51594], [38.56811, -121.51609], [38.56792, -121.51598], [38.56788, -121.51586], [38.56673, -121.51157], [38.56631, -121.51016], [38.56624, -121.51005], [38.5643, -121.51083], [38.56421, -121.5107], [38.56369, -121.50857], [38.5636, -121.50836], [38.56353, -121.5083], [38.56191, -121.50897], [38.5611, -121.50919], [38.55792, -121.51034], [38.55782, -121.51027], [38.55778, -121.51016], [38.55723, -121.50733], [38.55717, -121.5069], [38.55718, -121.50677], [38.55723, -121.50668]], [[38.56033, -121.50413], [38.56114, -121.50381], [38.56416, -121.50253], [38.56435, -121.50248], [38.56443, -121.50256], [38.56497, -121.50473], [38.56535, -121.50601], [38.56617, -121.50908], [38.56725, -121.5131], [38.56793, -121.51568], [38.56803, -121.51601], [38.56812, -121.51611], [38.56849, -121.51603], [38.56914, -121.51584], [38.56945, -121.51571], [38.56989, -121.51552], [38.57046, -121.51513], [38.57092, -121.51458], [38.57171, -121.51343], [38.57221, -121.51282], [38.57367, -121.51126], [38.57456, -121.51037], [38.5757, -121.50936], [38.57623, -121.50901], [38.57734, -121.50845], [38.57876, -121.50779], [38.57983, -121.50739], [38.58007, -121.50727], [38.58016, -121.50729], [38.58024, -121.50743], [38.5804, -121.50794], [38.5807, -121.50906], [38.58084, -121.50973], [38.5809, -121.5099], [38.58086, -121.50999], [38.58078, -121.51002], [38.58042, -121.51002], [38.57988, -121.51021], [38.5795, -121.51039], [38.57826, -121.51106], [38.57688, -121.51188], [38.57641, -121.51221], [38.57608, -121.51251], [38.57576, -121.51298], [38.5755, -121.51319], [38.57524, -121.51346], [38.57479, -121.51402], [38.57449, -121.51433], [38.57425, -121.51453], [38.57363, -121.51526], [38.57345, -121.51554], [38.57349, -121.51569], [38.57392, -121.51631], [38.57434, -121.51682], [38.57498, -121.51771], [38.57505, -121.51783], [38.57504, -121.51788], [38.57507, -121.51797], [38.57505, -121.51807], [38.57368, -121.51908], [38.57215, -121.52011], [38.57154, -121.52057], [38.57123, -121.52075], [38.56834, -121.52349], [38.56795, -121.52374], [38.56741, -121.52395], [38.56699, -121.52401], [38.56653, -121.52397], [38.56599, -121.52379], [38.56558, -121.52355], [38.56535, -121.52348], [38.56511, -121.52346], [38.55995, -121.5234], [38.55899, -121.52345], [38.55852, -121.52337], [38.55839, -121.52355], [38.55822, -121.52362], [38.55723, -121.52313], [38.55598, -121.52233], [38.55515, -121.52185], [38.55502, -121.52179], [38.55478, -121.5219], [38.55462, -121.5219], [38.55336, -121.52125], [38.55295, -121.52097], [38.55243, -121.52047], [38.55188, -121.51969], [38.55135, -121.51915], [38.55095, -121.51888], [38.54878, -121.51758], [38.54775, -121.517], [38.54734, -121.51686], [38.54694, -121.51679], [38.54634, -121.51682], [38.54586, -121.51696], [38.54463, -121.51762], [38.54425, -121.51794], [38.54334, -121.51898], [38.54286, -121.51937], [38.54019, -121.52082], [38.53974, -121.52111], [38.53935, -121.5214], [38.53889, -121.52185], [38.53855, -121.52226], [38.53807, -121.52297], [38.53785, -121.52339], [38.53755, -121.52411], [38.53729, -121.525], [38.53676, -121.52746], [38.53656, -121.52804], [38.53636, -121.52845], [38.53605, -121.52891], [38.53573, -121.52928], [38.53234, -121.53286], [38.53191, -121.53324], [38.53145, -121.53353], [38.52852, -121.53502], [38.52691, -121.53593], [38.52661, -121.53618], [38.52625, -121.53656], [38.52599, -121.53695], [38.52577, -121.53738], [38.5256, -121.53782], [38.52545, -121.53847], [38.52537, -121.53936], [38.52539, -121.53976], [38.52557, -121.54075], [38.52561, -121.54145], [38.52556, -121.54184], [38.52549, -121.54224], [38.52534, -121.54272], [38.52515, -121.54317], [38.52466, -121.54408], [38.52439, -121.5447], [38.52396, -121.54592], [38.52381, -121.54625], [38.52348, -121.54686], [38.52258, -121.5481], [38.5223, -121.54864], [38.52023, -121.55439], [38.52006, -121.5552], [38.52002, -121.55568], [38.52003, -121.5559], [38.52, -121.55603], [38.51941, -121.55602], [38.51913, -121.55586], [38.51715, -121.55355], [38.51686, -121.55334], [38.51665, -121.55327], [38.51637, -121.55327], [38.516, -121.55341], [38.51399, -121.5545], [38.51317, -121.55507], [38.51266, -121.55536], [38.51173, -121.55572], [38.50832, -121.55759], [38.50565, -121.55916], [38.5043, -121.55988], [38.50405, -121.56006], [38.50384, -121.56012], [38.50357, -121.56006], [38.50309, -121.56016], [38.50296, -121.56012], [38.50291, -121.56006], [38.50293, -121.56], [38.50322, -121.55994], [38.50329, -121.55988], [38.50451, -121.55938], [38.5052, -121.55904], [38.50833, -121.5572], [38.5109, -121.55579], [38.51235, -121.55504], [38.51358, -121.55432], [38.51382, -121.55415], [38.5141, -121.55383], [38.51462, -121.55295], [38.51497, -121.55219], [38.51649, -121.54745], [38.51667, -121.547], [38.51678, -121.5468], [38.51707, -121.54647], [38.51745, -121.54612], [38.51773, -121.54578], [38.51798, -121.54531], [38.51813, -121.54484], [38.51864, -121.54197], [38.51889, -121.53991], [38.519, -121.53827], [38.51909, -121.5337], [38.51926, -121.53163], [38.51936, -121.53098], [38.51953, -121.53057], [38.51976, -121.53021], [38.52021, -121.5298], [38.52061, -121.52949], [38.52112, -121.52916], [38.52167, -121.52892], [38.52219, -121.52889], [38.52239, -121.52896], [38.52273, -121.52914], [38.52297, -121.52938], [38.5233, -121.52978], [38.52398, -121.53054], [38.52588, -121.53228], [38.52634, -121.53266], [38.52678, -121.53296], [38.52729, -121.53323], [38.52783, -121.53343], [38.52818, -121.53351], [38.5288, -121.53357], [38.52921, -121.53356], [38.52977, -121.53348], [38.53083, -121.53321], [38.53132, -121.53307], [38.53166, -121.53291], [38.53203, -121.53257], [38.53336, -121.53112], [38.53386, -121.53041], [38.53411, -121.52985], [38.53452, -121.52912], [38.53475, -121.52879], [38.5351, -121.52835], [38.53595, -121.52754], [38.53608, -121.52735], [38.53616, -121.52719], [38.53624, -121.52685], [38.53725, -121.52203], [38.53736, -121.52164], [38.53745, -121.52147], [38.53745, -121.52142], [38.53895, -121.51808], [38.5395, -121.51711], [38.54003, -121.5164], [38.54045, -121.51593], [38.54117, -121.51528], [38.54155, -121.51501], [38.54215, -121.51466], [38.54298, -121.51427], [38.54365, -121.51403], [38.54414, -121.51392], [38.54498, -121.51388], [38.54546, -121.51394], [38.54668, -121.51432], [38.54728, -121.51438], [38.54759, -121.51433], [38.54838, -121.51411], [38.54871, -121.51408], [38.54899, -121.51411], [38.55084, -121.51478], [38.55282, -121.51529], [38.5544, -121.51579], [38.55574, -121.51631], [38.55601, -121.51644], [38.55627, -121.51664], [38.55653, -121.51692], [38.55696, -121.51759], [38.55733, -121.51792], [38.55773, -121.5181], [38.55922, -121.51863], [38.55948, -121.51883], [38.55977, -121.51916], [38.55998, -121.51958], [38.56011, -121.52004], [38.56016, -121.521], [38.56017, -121.52212], [38.56012, -121.52275], [38.56013, -121.52282], [38.56017, -121.52287], [38.56014, -121.52311], [38.56015, -121.5232], [38.5602, -121.52327], [38.56299, -121.52336], [38.56523, -121.52337], [38.56545, -121.52341], [38.5663, -121.52381], [38.56684, -121.52391], [38.56725, -121.52389], [38.56785, -121.52369], [38.56829, -121.5234], [38.57021, -121.52158], [38.57094, -121.52082], [38.57134, -121.52048], [38.57157, -121.52033], [38.5717, -121.5203], [38.57202, -121.52011], [38.57305, -121.51937], [38.57495, -121.51806], [38.575, -121.51792], [38.57495, -121.51779], [38.57423, -121.51675], [38.57409, -121.51651], [38.57415, -121.51637], [38.57489, -121.51551], [38.57499, -121.51535], [38.57496, -121.51525], [38.57473, -121.51498], [38.57457, -121.51485], [38.57446, -121.51461], [38.57447, -121.5144], [38.57527, -121.51342], [38.57578, -121.51295], [38.57614, -121.51244], [38.57647, -121.51217], [38.57726, -121.51166], [38.57957, -121.51035], [38.57978, -121.51024], [38.58031, -121.51007], [38.58052, -121.51001], [38.58084, -121.50999], [38.58087, -121.50987], [38.58067, -121.50902], [38.58045, -121.50842], [38.58041, -121.50819], [38.58027, -121.50775], [38.58018, -121.50734], [38.57972, -121.50744], [38.57817, -121.50807], [38.57631, -121.50898], [38.57553, -121.50952], [38.57482, -121.51016], [38.574, -121.51095], [38.57228, -121.51278], [38.57176, -121.51341], [38.57111, -121.51437], [38.57083, -121.51473], [38.57035, -121.51526], [38.57, -121.51549], [38.56928, -121.51581], [38.56848, -121.51603], [38.56799, -121.51608], [38.56773, -121.51525], [38.56707, -121.51286], [38.56669, -121.51141], [38.56619, -121.50973], [38.56451, -121.50341], [38.56431, -121.50273], [38.56425, -121.50261], [38.56319, -121.50299], [38.5599, -121.50448]], [[38.557, -121.50212], [38.55702, -121.50178], [38.55951, -121.50037], [38.55955, -121.50015], [38.55813, -121.49576], [38.55648, -121.48953], [38.55608, -121.48859], [38.55601, -121.48804], [38.55624, -121.48734], [38.55435, -121.47998], [38.55441, -121.47602], [38.55442, -121.47447], [38.55449, -121.47403], [38.55424, -121.47389], [38.55405, -121.47345], [38.55054, -121.46031], [38.55113, -121.45525], [38.55097, -121.45396], [38.55087, -121.44946], [38.55055, -121.44859], [38.55069, -121.44825], [38.55131, -121.44794], [38.55356, -121.4481], [38.55401, -121.44797], [38.55353, -121.44624], [38.5535, -121.44599], [38.55363, -121.44588], [38.557, -121.44444], [38.56115, -121.44361], [38.5633, -121.44274], [38.56345, -121.44252], [38.56267, -121.43988], [38.56068, -121.43477], [38.56055, -121.43458], [38.56011, -121.43472], [38.55953, -121.43339], [38.55905, -121.43165], [38.55808, -121.42911], [38.55823, -121.4286], [38.55665, -121.4272], [38.55646, -121.42673], [38.55689, -121.42578], [38.55446, -121.42371], [38.55408, -121.42243], [38.55407, -121.41956], [38.55321, -121.41988], [38.5533, -121.42], [38.55333, -121.4198], [38.55407, -121.41953], [38.55408, -121.41845], [38.55879, -121.41862], [38.55928, -121.41892], [38.56077, -121.42071], [38.56095, -121.42132], [38.56085, -121.42193], [38.56137, -121.42233], [38.56119, -121.42239], [38.56142, -121.42225], [38.56092, -121.41211], [38.56132, -121.41015], [38.56114, -121.40945], [38.56086, -121.40921], [38.56111, -121.40735], [38.56128, -121.40619], [38.56175, -121.40449], [38.56213, -121.4038], [38.56252, -121.40262], [38.56328, -121.39893], [38.56409, -121.39653], [38.56436, -121.39476], [38.56507, -121.39268], [38.56517, -121.39199], [38.56676, -121.38917], [38.56787, -121.38679], [38.5679, -121.38523], [38.56733, -121.38349], [38.56747, -121.38263], [38.56777, -121.38222], [38.56802, -121.38082], [38.56848, -121.37954], [38.56919, -121.37593], [38.5691, -121.37513], [38.56937, -121.37417], [38.56931, -121.37358], [38.56946, -121.37242], [38.5691, -121.37116], [38.56924, -121.36867], [38.57, -121.36808], [38.57053, -121.36635], [38.57163, -121.36445], [38.57315, -121.36106], [38.57335, -121.35969], [38.57387, -121.35835], [38.57479, -121.35731], [38.57581, -121.35503], [38.57674, -121.35357], [38.5773, -121.35109], [38.57729, -121.34991], [38.57774, -121.34905], [38.57794, -121.34793], [38.57896, -121.34685], [38.58048, -121.34473], [38.58132, -121.34395], [38.58194, -121.34172], [38.58252, -121.34075], [38.58149, -121.33873], [38.58162, -121.33792], [38.58301, -121.33612], [38.58407, -121.3346], [38.58464, -121.33455], [38.58612, -121.33501], [38.58666, -121.33497], [38.5879, -121.3344], [38.58873, -121.33372], [38.58999, -121.3335], [38.59119, -121.33297], [38.59153, -121.33196], [38.59382, -121.3291], [38.59344, -121.32823], [38.59276, -121.32763], [38.59223, -121.32636], [38.59155, -121.32571], [38.59093, -121.32542], [38.59031, -121.32467], [38.59027, -121.3233], [38.59086, -121.3225], [38.59182, -121.32204], [38.59253, -121.32219], [38.59312, -121.32256], [38.59457, -121.32244], [38.59517, -121.32272], [38.59631, -121.3226], [38.59686, -121.32288], [38.59782, -121.32283], [38.59912, -121.32242], [38.5994, -121.32142], [38.60018, -121.32066], [38.60093, -121.31956], [38.6014, -121.31787], [38.60123, -121.31733], [38.60143, -121.31564], [38.6023, -121.31443], [38.60318, -121.31428], [38.60496, -121.31208], [38.60579, -121.31072], [38.60621, -121.30959], [38.60846, -121.30642], [38.60958, -121.30512], [38.61198, -121.30307], [38.61276, -121.30275], [38.61388, -121.3028], [38.61456, -121.30217], [38.61607, -121.3028], [38.61697, -121.30376], [38.61718, -121.30438], [38.61751, -121.30469], [38.61899, -121.30446], [38.6196, -121.30334], [38.62049, -121.30293], [38.62091, -121.30199], [38.62159, -121.30128], [38.62239, -121.30006], [38.6226, -121.29909], [38.62295, -121.29891], [38.6234, -121.29813], [38.62396, -121.29763], [38.62378, -121.29676], [38.62409, -121.29585], [38.62327, -121.29319], [38.62334, -121.29203], [38.62234, -121.29071], [38.62166, -121.29006], [38.62152, -121.28962], [38.62048, -121.28929], [38.62056, -121.28794], [38.62013, -121.28632], [38.6199, -121.28371], [38.62045, -121.28373], [38.62171, -121.28238], [38.6225, -121.28181], [38.62286, -121.28096], [38.62406, -121.27946], [38.62402, -121.27906], [38.62371, -121.27859], [38.62397, -121.27723], [38.62486, -121.27638], [38.6241, -121.27727], [38.62388, -121.27862], [38.6242, -121.27932], [38.62388, -121.28007], [38.6229, -121.28111], [38.62252, -121.28194], [38.62175, -121.28246], [38.62048, -121.28381], [38.61998, -121.28383], [38.62026, -121.28648], [38.6207, -121.28788], [38.62061, -121.28921], [38.62073, -121.28939], [38.6211, -121.28934], [38.62173, -121.28963], [38.62214, -121.29039], [38.62288, -121.29112], [38.62349, -121.29204], [38.62345, -121.29317], [38.62424, -121.29589], [38.62392, -121.29672], [38.62403, -121.29741], [38.62391, -121.29805], [38.62362, -121.29821], [38.62301, -121.29906], [38.62271, -121.2992], [38.62247, -121.30022], [38.62177, -121.30133], [38.62107, -121.30204], [38.62076, -121.30288], [38.61971, -121.30345], [38.61908, -121.30451], [38.61759, -121.30471], [38.61715, -121.30428], [38.61698, -121.30371], [38.61617, -121.30292], [38.61558, -121.30253], [38.61462, -121.30226], [38.61393, -121.30286], [38.61294, -121.30282], [38.612, -121.30318], [38.61111, -121.30413], [38.61022, -121.30467], [38.60928, -121.30555], [38.60627, -121.30972], [38.60581, -121.31106], [38.60503, -121.31217], [38.60328, -121.31438], [38.6024, -121.3145], [38.60152, -121.31572], [38.60133, -121.31728], [38.60149, -121.31792], [38.60104, -121.3196], [38.60035, -121.32063], [38.59956, -121.32138], [38.59924, -121.32243], [38.5979, -121.32286], [38.59696, -121.32293], [38.59622, -121.32266], [38.59517, -121.32279], [38.5945, -121.32249], [38.59326, -121.32263], [38.59187, -121.32215], [38.59067, -121.32278], [38.59029, -121.32351], [38.59049, -121.32475], [38.59159, -121.32564], [38.59227, -121.32635], [38.59278, -121.32754], [38.59347, -121.32816], [38.59389, -121.32908], [38.59379, -121.32942], [38.59162, -121.33213], [38.59122, -121.33316], [38.58878, -121.33378], [38.58798, -121.33445], [38.58681, -121.33505], [38.58618, -121.33509], [38.58421, -121.33465], [38.58339, -121.3355], [38.58299, -121.33629], [38.58162, -121.33816], [38.58155, -121.33874], [38.5826, -121.34077], [38.58251, -121.34113], [38.58201, -121.34173], [38.58143, -121.34396], [38.58049, -121.34487], [38.57903, -121.347], [38.57806, -121.34806], [38.57789, -121.34918], [38.57741, -121.34997], [38.5774, -121.35109], [38.57687, -121.35356], [38.57584, -121.35522], [38.57492, -121.35737], [38.57388, -121.35859], [38.57333, -121.36015], [38.57306, -121.36161], [38.57175, -121.36445], [38.57067, -121.36633], [38.57007, -121.36807], [38.56989, -121.36836], [38.56924, -121.36885], [38.56909, -121.3709], [38.56954, -121.37228], [38.56936, -121.37357], [38.56941, -121.3743], [38.56909, -121.37507], [38.5692, -121.37591], [38.5687, -121.37901], [38.56834, -121.38044], [38.5681, -121.38087], [38.56783, -121.38222], [38.56753, -121.38269], [38.56743, -121.38337], [38.56751, -121.38401], [38.56802, -121.38527], [38.56783, -121.38718], [38.5676, -121.38803], [38.56672, -121.38931], [38.56556, -121.39164], [38.56462, -121.3942], [38.56429, -121.3962], [38.56343, -121.39876], [38.56314, -121.40069], [38.56263, -121.40262], [38.56224, -121.40389], [38.56183, -121.40463], [38.56144, -121.40604], [38.56095, -121.409], [38.56139, -121.41023], [38.56089, -121.41245], [38.56084, -121.4139], [38.56096, -121.41491], [38.56177, -121.41722], [38.56296, -121.41897], [38.56151, -121.42187], [38.56133, -121.42194], [38.56106, -121.42167], [38.56093, -121.42178], [38.56126, -121.42223], [38.56081, -121.42199], [38.56081, -121.42118], [38.56055, -121.42055], [38.55882, -121.41877], [38.55538, -121.41872]]],\n",
       "                {&quot;bubblingMouseEvents&quot;: true, &quot;color&quot;: &quot;red&quot;, &quot;dashArray&quot;: null, &quot;dashOffset&quot;: null, &quot;fill&quot;: false, &quot;fillColor&quot;: &quot;red&quot;, &quot;fillOpacity&quot;: 0.2, &quot;fillRule&quot;: &quot;evenodd&quot;, &quot;lineCap&quot;: &quot;round&quot;, &quot;lineJoin&quot;: &quot;round&quot;, &quot;noClip&quot;: false, &quot;opacity&quot;: 1.0, &quot;smoothFactor&quot;: 1.0, &quot;stroke&quot;: true, &quot;weight&quot;: 3}\n",
       "            ).addTo(map_81260550be69b820b689c504a2890322);\n",
       "        \n",
       "&lt;/script&gt;\n",
       "&lt;/html&gt;\" style=\"position:absolute;width:100%;height:100%;left:0;top:0;border:none !important;\" allowfullscreen webkitallowfullscreen mozallowfullscreen></iframe></div></div>"
      ],
      "text/plain": [
       "<folium.folium.Map at 0x2004ae56dd0>"
      ]
     },
     "metadata": {},
     "output_type": "display_data"
    }
   ],
   "source": [
    "# select one activity\n",
    "activities_nfs_map = activities_nfs.iloc[0, :] # first activity (most recent)\n",
    "# plot ride on map\n",
    "# centroid = [\n",
    "#     np.mean([coord[0] for coord in my_ride['map.polyline'][0]]), \n",
    "#     np.mean([coord[1] for coord in my_ride['map.polyline'][0]])\n",
    "# ]\n",
    "m = folium.Map(location=activities_nfs['map.polyline'][9][0], zoom_start=14)\n",
    "folium.PolyLine(activities_nfs['map.polyline'], color='red').add_to(m)\n",
    "\n",
    "activities_nfs_map = activities_nfs.iloc[1, :] # first activity (most recent)\n",
    "m = folium.Map(location=activities_nfs['map.polyline'][16][0], zoom_start=14)\n",
    "folium.PolyLine(activities_nfs['map.polyline'], color='blue').add_to(m)\n",
    "m = folium.Map(location=activities_nfs['map.polyline'][30][0], zoom_start=14)\n",
    "m = folium.Map(location=activities_nfs['map.polyline'][109][0], zoom_start=14)\n",
    "folium.PolyLine(activities_nfs['map.polyline'], color='red').add_to(m)\n",
    "\n",
    "\n",
    "display(m)"
   ]
  },
  {
   "cell_type": "code",
   "execution_count": 11,
   "metadata": {},
   "outputs": [
    {
     "name": "stdout",
     "output_type": "stream",
     "text": [
      "160 32 4.0\n"
     ]
    }
   ],
   "source": [
    "# Set monthly goals in miles per activity\n",
    "practice_sessions = 8\n",
    "\n",
    "# 20 mile ride per session\n",
    "ride_goal = 20 * practice_sessions\n",
    "\n",
    "# 4 mile run per session\n",
    "run_goal = 4 * practice_sessions\n",
    "\n",
    "# half-mile swim per session\n",
    "swim_goal = 0.5 * practice_sessions\n",
    "print(ride_goal, run_goal, swim_goal)"
   ]
  },
  {
   "cell_type": "code",
   "execution_count": 12,
   "metadata": {},
   "outputs": [
    {
     "data": {
      "text/plain": [
       "-13.94907490256901"
      ]
     },
     "execution_count": 12,
     "metadata": {},
     "output_type": "execute_result"
    }
   ],
   "source": [
    "dif_ride_miles = ride_goal - miles_per_activity['distance'][0]\n",
    "dif_ride_miles"
   ]
  },
  {
   "cell_type": "code",
   "execution_count": 13,
   "metadata": {},
   "outputs": [
    {
     "name": "stdout",
     "output_type": "stream",
     "text": [
      "You need to ride -13.94907490256901 to meet your goal this month!\n"
     ]
    }
   ],
   "source": [
    "print(\"You need to ride \" + str(dif_ride_miles) + \" to meet your goal this month!\")"
   ]
  },
  {
   "cell_type": "code",
   "execution_count": null,
   "metadata": {},
   "outputs": [],
   "source": [
    "# filter activities based on start time per month???"
   ]
  },
  {
   "cell_type": "code",
   "execution_count": null,
   "metadata": {},
   "outputs": [],
   "source": [
    "# next step: Refer to Pamela Fox's best practices video.\n",
    "# not for linting, but for managing git"
   ]
  },
  {
   "cell_type": "code",
   "execution_count": 15,
   "metadata": {},
   "outputs": [],
   "source": [
    "import plotly.express as px"
   ]
  },
  {
   "cell_type": "code",
   "execution_count": 9,
   "metadata": {},
   "outputs": [
    {
     "data": {
      "text/plain": [
       "1    140.0\n",
       "4    153.2\n",
       "5    143.3\n",
       "6    160.8\n",
       "8    159.3\n",
       "Name: average_heartrate, dtype: float64"
      ]
     },
     "execution_count": 9,
     "metadata": {},
     "output_type": "execute_result"
    }
   ],
   "source": [
    "activities_copy.average_heartrate.head(5)"
   ]
  },
  {
   "cell_type": "code",
   "execution_count": 16,
   "metadata": {},
   "outputs": [
    {
     "data": {
      "application/vnd.plotly.v1+json": {
       "config": {
        "plotlyServerURL": "https://plot.ly"
       },
       "data": [
        {
         "alignmentgroup": "True",
         "boxpoints": "all",
         "hovertemplate": "sport_type=Ride<br>distance=%{x}<extra></extra>",
         "legendgroup": "Ride",
         "marker": {
          "color": "#636efa"
         },
         "name": "Ride",
         "notched": false,
         "offsetgroup": "Ride",
         "orientation": "h",
         "showlegend": true,
         "type": "box",
         "x": [
          5.5990515390121685,
          30.031739640499485,
          4.04655561520719,
          10.23298934224131,
          6.08173268114213,
          19.68286457090591,
          6.0953407102521275,
          6.258326373975979,
          6.287717231368807,
          5.079585222301758,
          4.000014912908614,
          4.000014912908614,
          20.289819951483338,
          9.848795534080967,
          6.500039767756302,
          7.130980076354092,
          4.326918297144675,
          7.248605643044619,
          5.419785950051698,
          5.788196929929214
         ],
         "x0": " ",
         "xaxis": "x",
         "y0": " ",
         "yaxis": "y"
        },
        {
         "alignmentgroup": "True",
         "boxpoints": "all",
         "hovertemplate": "sport_type=Run<br>distance=%{x}<extra></extra>",
         "legendgroup": "Run",
         "marker": {
          "color": "#EF553B"
         },
         "name": "Run",
         "notched": false,
         "offsetgroup": "Run",
         "orientation": "h",
         "showlegend": true,
         "type": "box",
         "x": [
          7.5207662252445715,
          2.885399268273284,
          4.127706692913385,
          4.028287302155412,
          3.1586161815000398,
          3.9974051539012168,
          0.9999726596675415,
          2.525314662371749,
          2.6508316432036905,
          0.9999726596675415,
          0.9999726596675415,
          4.300012924520798,
          1.2989764773721466,
          2.0958850314165276,
          2.8048074246401016,
          1.5054581245526129,
          1.179113974389565,
          0.991708422810785,
          1.3539678278851506,
          1.298665791776028,
          0.8430764336276146,
          0.884024795196055,
          6.427836435218325,
          0.9802130557543943,
          0.6789723017577348,
          0.7644729778095919,
          1.306370794559771,
          2.004357054799968,
          0.8400317147856519,
          2.0092037500994193,
          6.969609977730056,
          3.6908206076513164,
          2.5043744531933507,
          4.1920807484291736,
          1.0105359699355763,
          0.7271285691561282,
          3.161598763222779,
          2.9697814761791137,
          0.8537018810148732,
          1.1137457249661975,
          0.9168953312654099,
          1.269523482860097,
          1.3043202696253877,
          0.9997241111906466,
          1.7733312455261274,
          2.8674416408176246,
          3.281399129086137,
          5.059763481269386,
          4.0190910085102995,
          1.045767716535433,
          1.4370451562872821,
          1.5040911079296906,
          1.4833994472281875,
          0.7769004016543386,
          1.3229614053925076,
          6.052031138153184,
          2.622559253956892,
          3.1136289071820564,
          3.47601258649487,
          1.52938091545375,
          1.6013978366340569,
          1.630540145549988,
          4.5413534955857795,
          1.482529527559055,
          1.787125685993796,
          1.6682573769187943,
          2.0051648373498767,
          1.5916423089159308,
          1.1017532609560168,
          1.816951503221188,
          1.688141255070389,
          0.7533504334685437
         ],
         "x0": " ",
         "xaxis": "x",
         "y0": " ",
         "yaxis": "y"
        },
        {
         "alignmentgroup": "True",
         "boxpoints": "all",
         "hovertemplate": "sport_type=Swim<br>distance=%{x}<extra></extra>",
         "legendgroup": "Swim",
         "marker": {
          "color": "#00cc96"
         },
         "name": "Swim",
         "notched": false,
         "offsetgroup": "Swim",
         "orientation": "h",
         "showlegend": true,
         "type": "box",
         "x": [
          0.9941939075797344,
          0
         ],
         "x0": " ",
         "xaxis": "x",
         "y0": " ",
         "yaxis": "y"
        }
       ],
       "layout": {
        "boxmode": "group",
        "legend": {
         "title": {
          "text": "sport_type"
         },
         "tracegroupgap": 0
        },
        "template": {
         "data": {
          "bar": [
           {
            "error_x": {
             "color": "#2a3f5f"
            },
            "error_y": {
             "color": "#2a3f5f"
            },
            "marker": {
             "line": {
              "color": "#E5ECF6",
              "width": 0.5
             },
             "pattern": {
              "fillmode": "overlay",
              "size": 10,
              "solidity": 0.2
             }
            },
            "type": "bar"
           }
          ],
          "barpolar": [
           {
            "marker": {
             "line": {
              "color": "#E5ECF6",
              "width": 0.5
             },
             "pattern": {
              "fillmode": "overlay",
              "size": 10,
              "solidity": 0.2
             }
            },
            "type": "barpolar"
           }
          ],
          "carpet": [
           {
            "aaxis": {
             "endlinecolor": "#2a3f5f",
             "gridcolor": "white",
             "linecolor": "white",
             "minorgridcolor": "white",
             "startlinecolor": "#2a3f5f"
            },
            "baxis": {
             "endlinecolor": "#2a3f5f",
             "gridcolor": "white",
             "linecolor": "white",
             "minorgridcolor": "white",
             "startlinecolor": "#2a3f5f"
            },
            "type": "carpet"
           }
          ],
          "choropleth": [
           {
            "colorbar": {
             "outlinewidth": 0,
             "ticks": ""
            },
            "type": "choropleth"
           }
          ],
          "contour": [
           {
            "colorbar": {
             "outlinewidth": 0,
             "ticks": ""
            },
            "colorscale": [
             [
              0,
              "#0d0887"
             ],
             [
              0.1111111111111111,
              "#46039f"
             ],
             [
              0.2222222222222222,
              "#7201a8"
             ],
             [
              0.3333333333333333,
              "#9c179e"
             ],
             [
              0.4444444444444444,
              "#bd3786"
             ],
             [
              0.5555555555555556,
              "#d8576b"
             ],
             [
              0.6666666666666666,
              "#ed7953"
             ],
             [
              0.7777777777777778,
              "#fb9f3a"
             ],
             [
              0.8888888888888888,
              "#fdca26"
             ],
             [
              1,
              "#f0f921"
             ]
            ],
            "type": "contour"
           }
          ],
          "contourcarpet": [
           {
            "colorbar": {
             "outlinewidth": 0,
             "ticks": ""
            },
            "type": "contourcarpet"
           }
          ],
          "heatmap": [
           {
            "colorbar": {
             "outlinewidth": 0,
             "ticks": ""
            },
            "colorscale": [
             [
              0,
              "#0d0887"
             ],
             [
              0.1111111111111111,
              "#46039f"
             ],
             [
              0.2222222222222222,
              "#7201a8"
             ],
             [
              0.3333333333333333,
              "#9c179e"
             ],
             [
              0.4444444444444444,
              "#bd3786"
             ],
             [
              0.5555555555555556,
              "#d8576b"
             ],
             [
              0.6666666666666666,
              "#ed7953"
             ],
             [
              0.7777777777777778,
              "#fb9f3a"
             ],
             [
              0.8888888888888888,
              "#fdca26"
             ],
             [
              1,
              "#f0f921"
             ]
            ],
            "type": "heatmap"
           }
          ],
          "heatmapgl": [
           {
            "colorbar": {
             "outlinewidth": 0,
             "ticks": ""
            },
            "colorscale": [
             [
              0,
              "#0d0887"
             ],
             [
              0.1111111111111111,
              "#46039f"
             ],
             [
              0.2222222222222222,
              "#7201a8"
             ],
             [
              0.3333333333333333,
              "#9c179e"
             ],
             [
              0.4444444444444444,
              "#bd3786"
             ],
             [
              0.5555555555555556,
              "#d8576b"
             ],
             [
              0.6666666666666666,
              "#ed7953"
             ],
             [
              0.7777777777777778,
              "#fb9f3a"
             ],
             [
              0.8888888888888888,
              "#fdca26"
             ],
             [
              1,
              "#f0f921"
             ]
            ],
            "type": "heatmapgl"
           }
          ],
          "histogram": [
           {
            "marker": {
             "pattern": {
              "fillmode": "overlay",
              "size": 10,
              "solidity": 0.2
             }
            },
            "type": "histogram"
           }
          ],
          "histogram2d": [
           {
            "colorbar": {
             "outlinewidth": 0,
             "ticks": ""
            },
            "colorscale": [
             [
              0,
              "#0d0887"
             ],
             [
              0.1111111111111111,
              "#46039f"
             ],
             [
              0.2222222222222222,
              "#7201a8"
             ],
             [
              0.3333333333333333,
              "#9c179e"
             ],
             [
              0.4444444444444444,
              "#bd3786"
             ],
             [
              0.5555555555555556,
              "#d8576b"
             ],
             [
              0.6666666666666666,
              "#ed7953"
             ],
             [
              0.7777777777777778,
              "#fb9f3a"
             ],
             [
              0.8888888888888888,
              "#fdca26"
             ],
             [
              1,
              "#f0f921"
             ]
            ],
            "type": "histogram2d"
           }
          ],
          "histogram2dcontour": [
           {
            "colorbar": {
             "outlinewidth": 0,
             "ticks": ""
            },
            "colorscale": [
             [
              0,
              "#0d0887"
             ],
             [
              0.1111111111111111,
              "#46039f"
             ],
             [
              0.2222222222222222,
              "#7201a8"
             ],
             [
              0.3333333333333333,
              "#9c179e"
             ],
             [
              0.4444444444444444,
              "#bd3786"
             ],
             [
              0.5555555555555556,
              "#d8576b"
             ],
             [
              0.6666666666666666,
              "#ed7953"
             ],
             [
              0.7777777777777778,
              "#fb9f3a"
             ],
             [
              0.8888888888888888,
              "#fdca26"
             ],
             [
              1,
              "#f0f921"
             ]
            ],
            "type": "histogram2dcontour"
           }
          ],
          "mesh3d": [
           {
            "colorbar": {
             "outlinewidth": 0,
             "ticks": ""
            },
            "type": "mesh3d"
           }
          ],
          "parcoords": [
           {
            "line": {
             "colorbar": {
              "outlinewidth": 0,
              "ticks": ""
             }
            },
            "type": "parcoords"
           }
          ],
          "pie": [
           {
            "automargin": true,
            "type": "pie"
           }
          ],
          "scatter": [
           {
            "fillpattern": {
             "fillmode": "overlay",
             "size": 10,
             "solidity": 0.2
            },
            "type": "scatter"
           }
          ],
          "scatter3d": [
           {
            "line": {
             "colorbar": {
              "outlinewidth": 0,
              "ticks": ""
             }
            },
            "marker": {
             "colorbar": {
              "outlinewidth": 0,
              "ticks": ""
             }
            },
            "type": "scatter3d"
           }
          ],
          "scattercarpet": [
           {
            "marker": {
             "colorbar": {
              "outlinewidth": 0,
              "ticks": ""
             }
            },
            "type": "scattercarpet"
           }
          ],
          "scattergeo": [
           {
            "marker": {
             "colorbar": {
              "outlinewidth": 0,
              "ticks": ""
             }
            },
            "type": "scattergeo"
           }
          ],
          "scattergl": [
           {
            "marker": {
             "colorbar": {
              "outlinewidth": 0,
              "ticks": ""
             }
            },
            "type": "scattergl"
           }
          ],
          "scattermapbox": [
           {
            "marker": {
             "colorbar": {
              "outlinewidth": 0,
              "ticks": ""
             }
            },
            "type": "scattermapbox"
           }
          ],
          "scatterpolar": [
           {
            "marker": {
             "colorbar": {
              "outlinewidth": 0,
              "ticks": ""
             }
            },
            "type": "scatterpolar"
           }
          ],
          "scatterpolargl": [
           {
            "marker": {
             "colorbar": {
              "outlinewidth": 0,
              "ticks": ""
             }
            },
            "type": "scatterpolargl"
           }
          ],
          "scatterternary": [
           {
            "marker": {
             "colorbar": {
              "outlinewidth": 0,
              "ticks": ""
             }
            },
            "type": "scatterternary"
           }
          ],
          "surface": [
           {
            "colorbar": {
             "outlinewidth": 0,
             "ticks": ""
            },
            "colorscale": [
             [
              0,
              "#0d0887"
             ],
             [
              0.1111111111111111,
              "#46039f"
             ],
             [
              0.2222222222222222,
              "#7201a8"
             ],
             [
              0.3333333333333333,
              "#9c179e"
             ],
             [
              0.4444444444444444,
              "#bd3786"
             ],
             [
              0.5555555555555556,
              "#d8576b"
             ],
             [
              0.6666666666666666,
              "#ed7953"
             ],
             [
              0.7777777777777778,
              "#fb9f3a"
             ],
             [
              0.8888888888888888,
              "#fdca26"
             ],
             [
              1,
              "#f0f921"
             ]
            ],
            "type": "surface"
           }
          ],
          "table": [
           {
            "cells": {
             "fill": {
              "color": "#EBF0F8"
             },
             "line": {
              "color": "white"
             }
            },
            "header": {
             "fill": {
              "color": "#C8D4E3"
             },
             "line": {
              "color": "white"
             }
            },
            "type": "table"
           }
          ]
         },
         "layout": {
          "annotationdefaults": {
           "arrowcolor": "#2a3f5f",
           "arrowhead": 0,
           "arrowwidth": 1
          },
          "autotypenumbers": "strict",
          "coloraxis": {
           "colorbar": {
            "outlinewidth": 0,
            "ticks": ""
           }
          },
          "colorscale": {
           "diverging": [
            [
             0,
             "#8e0152"
            ],
            [
             0.1,
             "#c51b7d"
            ],
            [
             0.2,
             "#de77ae"
            ],
            [
             0.3,
             "#f1b6da"
            ],
            [
             0.4,
             "#fde0ef"
            ],
            [
             0.5,
             "#f7f7f7"
            ],
            [
             0.6,
             "#e6f5d0"
            ],
            [
             0.7,
             "#b8e186"
            ],
            [
             0.8,
             "#7fbc41"
            ],
            [
             0.9,
             "#4d9221"
            ],
            [
             1,
             "#276419"
            ]
           ],
           "sequential": [
            [
             0,
             "#0d0887"
            ],
            [
             0.1111111111111111,
             "#46039f"
            ],
            [
             0.2222222222222222,
             "#7201a8"
            ],
            [
             0.3333333333333333,
             "#9c179e"
            ],
            [
             0.4444444444444444,
             "#bd3786"
            ],
            [
             0.5555555555555556,
             "#d8576b"
            ],
            [
             0.6666666666666666,
             "#ed7953"
            ],
            [
             0.7777777777777778,
             "#fb9f3a"
            ],
            [
             0.8888888888888888,
             "#fdca26"
            ],
            [
             1,
             "#f0f921"
            ]
           ],
           "sequentialminus": [
            [
             0,
             "#0d0887"
            ],
            [
             0.1111111111111111,
             "#46039f"
            ],
            [
             0.2222222222222222,
             "#7201a8"
            ],
            [
             0.3333333333333333,
             "#9c179e"
            ],
            [
             0.4444444444444444,
             "#bd3786"
            ],
            [
             0.5555555555555556,
             "#d8576b"
            ],
            [
             0.6666666666666666,
             "#ed7953"
            ],
            [
             0.7777777777777778,
             "#fb9f3a"
            ],
            [
             0.8888888888888888,
             "#fdca26"
            ],
            [
             1,
             "#f0f921"
            ]
           ]
          },
          "colorway": [
           "#636efa",
           "#EF553B",
           "#00cc96",
           "#ab63fa",
           "#FFA15A",
           "#19d3f3",
           "#FF6692",
           "#B6E880",
           "#FF97FF",
           "#FECB52"
          ],
          "font": {
           "color": "#2a3f5f"
          },
          "geo": {
           "bgcolor": "white",
           "lakecolor": "white",
           "landcolor": "#E5ECF6",
           "showlakes": true,
           "showland": true,
           "subunitcolor": "white"
          },
          "hoverlabel": {
           "align": "left"
          },
          "hovermode": "closest",
          "mapbox": {
           "style": "light"
          },
          "paper_bgcolor": "white",
          "plot_bgcolor": "#E5ECF6",
          "polar": {
           "angularaxis": {
            "gridcolor": "white",
            "linecolor": "white",
            "ticks": ""
           },
           "bgcolor": "#E5ECF6",
           "radialaxis": {
            "gridcolor": "white",
            "linecolor": "white",
            "ticks": ""
           }
          },
          "scene": {
           "xaxis": {
            "backgroundcolor": "#E5ECF6",
            "gridcolor": "white",
            "gridwidth": 2,
            "linecolor": "white",
            "showbackground": true,
            "ticks": "",
            "zerolinecolor": "white"
           },
           "yaxis": {
            "backgroundcolor": "#E5ECF6",
            "gridcolor": "white",
            "gridwidth": 2,
            "linecolor": "white",
            "showbackground": true,
            "ticks": "",
            "zerolinecolor": "white"
           },
           "zaxis": {
            "backgroundcolor": "#E5ECF6",
            "gridcolor": "white",
            "gridwidth": 2,
            "linecolor": "white",
            "showbackground": true,
            "ticks": "",
            "zerolinecolor": "white"
           }
          },
          "shapedefaults": {
           "line": {
            "color": "#2a3f5f"
           }
          },
          "ternary": {
           "aaxis": {
            "gridcolor": "white",
            "linecolor": "white",
            "ticks": ""
           },
           "baxis": {
            "gridcolor": "white",
            "linecolor": "white",
            "ticks": ""
           },
           "bgcolor": "#E5ECF6",
           "caxis": {
            "gridcolor": "white",
            "linecolor": "white",
            "ticks": ""
           }
          },
          "title": {
           "x": 0.05
          },
          "xaxis": {
           "automargin": true,
           "gridcolor": "white",
           "linecolor": "white",
           "ticks": "",
           "title": {
            "standoff": 15
           },
           "zerolinecolor": "white",
           "zerolinewidth": 2
          },
          "yaxis": {
           "automargin": true,
           "gridcolor": "white",
           "linecolor": "white",
           "ticks": "",
           "title": {
            "standoff": 15
           },
           "zerolinecolor": "white",
           "zerolinewidth": 2
          }
         }
        },
        "title": {
         "text": "1. Boxplot: Distance by Activity Type"
        },
        "xaxis": {
         "anchor": "y",
         "domain": [
          0,
          1
         ],
         "title": {
          "text": "distance"
         }
        },
        "yaxis": {
         "anchor": "x",
         "domain": [
          0,
          1
         ]
        }
       }
      }
     },
     "metadata": {},
     "output_type": "display_data"
    }
   ],
   "source": [
    "fig1 = px.box(\n",
    "    activities_copy, x = \"distance\", \n",
    "    title=\"1. Boxplot: Distance by Activity Type\", \n",
    "    color=\"sport_type\", \n",
    "    points=\"all\"\n",
    ")\n",
    "fig1.show() "
   ]
  }
 ],
 "metadata": {
  "kernelspec": {
   "display_name": "strava_api_env",
   "language": "python",
   "name": "python3"
  },
  "language_info": {
   "codemirror_mode": {
    "name": "ipython",
    "version": 3
   },
   "file_extension": ".py",
   "mimetype": "text/x-python",
   "name": "python",
   "nbconvert_exporter": "python",
   "pygments_lexer": "ipython3",
   "version": "3.11.0"
  },
  "orig_nbformat": 4,
  "vscode": {
   "interpreter": {
    "hash": "43d3d88ee0a7dceeb706b5e2351cee2554f8881a7d082468f764a496b8ef1647"
   }
  }
 },
 "nbformat": 4,
 "nbformat_minor": 2
}
