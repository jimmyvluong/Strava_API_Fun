{
 "cells": [
  {
   "cell_type": "code",
   "execution_count": 1,
   "metadata": {},
   "outputs": [],
   "source": [
    "# import secrets and tokens from config.py\n",
    "from config import client_id, client_secret, refresh_token\n",
    "\n",
    "import requests\n",
    "import urllib3\n",
    "\n",
    "# import packages for data manipulation\n",
    "import pandas as pd\n",
    "from pandas.io.json import json_normalize\n",
    "import numpy as np\n",
    "\n",
    "urllib3.disable_warnings(urllib3.exceptions.InsecureRequestWarning)\n",
    "\n",
    "auth_url = \"https://www.strava.com/oauth/token\"\n",
    "activites_url = \"https://www.strava.com/api/v3/athlete/activities\"\n",
    "\n",
    "payload = {\n",
    "    'client_id': client_id,\n",
    "    'client_secret': client_secret,\n",
    "    'refresh_token': refresh_token,\n",
    "    'grant_type': \"refresh_token\",\n",
    "    'f': 'json'\n",
    "}"
   ]
  },
  {
   "cell_type": "code",
   "execution_count": 3,
   "metadata": {},
   "outputs": [
    {
     "name": "stdout",
     "output_type": "stream",
     "text": [
      "Requesting Token...\n",
      "\n",
      "Access Token = a3eff472316a350ec1039ef3c34222de023dc0e4\n",
      "\n"
     ]
    }
   ],
   "source": [
    "print(\"Requesting Token...\\n\")\n",
    "res = requests.post(auth_url, data=payload, verify=False)\n",
    "access_token = res.json()['access_token']\n",
    "print(\"Access Token = {}\\n\".format(access_token))\n",
    "\n",
    "header = {'Authorization': 'Bearer ' + access_token}\n",
    "param = {'per_page': 200, 'page': 1}\n",
    "my_dataset = requests.get(activites_url, headers=header, params=param).json()"
   ]
  },
  {
   "cell_type": "code",
   "execution_count": 12,
   "metadata": {},
   "outputs": [],
   "source": [
    "activities = pd.json_normalize(my_dataset)"
   ]
  },
  {
   "cell_type": "code",
   "execution_count": 14,
   "metadata": {},
   "outputs": [
    {
     "data": {
      "text/plain": [
       "Index(['resource_state', 'name', 'distance', 'moving_time', 'elapsed_time',\n",
       "       'total_elevation_gain', 'type', 'sport_type', 'workout_type', 'id',\n",
       "       'start_date', 'start_date_local', 'timezone', 'utc_offset',\n",
       "       'location_city', 'location_state', 'location_country',\n",
       "       'achievement_count', 'kudos_count', 'comment_count', 'athlete_count',\n",
       "       'photo_count', 'trainer', 'commute', 'manual', 'private', 'visibility',\n",
       "       'flagged', 'gear_id', 'start_latlng', 'end_latlng', 'average_speed',\n",
       "       'max_speed', 'has_heartrate', 'heartrate_opt_out',\n",
       "       'display_hide_heartrate_option', 'elev_high', 'elev_low', 'upload_id',\n",
       "       'upload_id_str', 'external_id', 'from_accepted_tag', 'pr_count',\n",
       "       'total_photo_count', 'has_kudoed', 'athlete.id',\n",
       "       'athlete.resource_state', 'map.id', 'map.summary_polyline',\n",
       "       'map.resource_state', 'average_heartrate', 'max_heartrate',\n",
       "       'suffer_score', 'average_cadence'],\n",
       "      dtype='object')"
      ]
     },
     "execution_count": 14,
     "metadata": {},
     "output_type": "execute_result"
    }
   ],
   "source": [
    "activities.columns "
   ]
  },
  {
   "cell_type": "code",
   "execution_count": 15,
   "metadata": {},
   "outputs": [
    {
     "data": {
      "text/html": [
       "<div>\n",
       "<style scoped>\n",
       "    .dataframe tbody tr th:only-of-type {\n",
       "        vertical-align: middle;\n",
       "    }\n",
       "\n",
       "    .dataframe tbody tr th {\n",
       "        vertical-align: top;\n",
       "    }\n",
       "\n",
       "    .dataframe thead th {\n",
       "        text-align: right;\n",
       "    }\n",
       "</style>\n",
       "<table border=\"1\" class=\"dataframe\">\n",
       "  <thead>\n",
       "    <tr style=\"text-align: right;\">\n",
       "      <th></th>\n",
       "      <th>resource_state</th>\n",
       "      <th>name</th>\n",
       "      <th>distance</th>\n",
       "      <th>moving_time</th>\n",
       "      <th>elapsed_time</th>\n",
       "      <th>total_elevation_gain</th>\n",
       "      <th>type</th>\n",
       "      <th>sport_type</th>\n",
       "      <th>workout_type</th>\n",
       "      <th>id</th>\n",
       "      <th>...</th>\n",
       "      <th>athlete.id</th>\n",
       "      <th>athlete.resource_state</th>\n",
       "      <th>map.id</th>\n",
       "      <th>map.summary_polyline</th>\n",
       "      <th>map.resource_state</th>\n",
       "      <th>average_heartrate</th>\n",
       "      <th>max_heartrate</th>\n",
       "      <th>suffer_score</th>\n",
       "      <th>average_cadence</th>\n",
       "      <th>start_time</th>\n",
       "    </tr>\n",
       "  </thead>\n",
       "  <tbody>\n",
       "    <tr>\n",
       "      <th>0</th>\n",
       "      <td>2</td>\n",
       "      <td>Chandler Lane x2</td>\n",
       "      <td>2090.5</td>\n",
       "      <td>643</td>\n",
       "      <td>658</td>\n",
       "      <td>28.6</td>\n",
       "      <td>Run</td>\n",
       "      <td>Run</td>\n",
       "      <td>0.0</td>\n",
       "      <td>8290856067</td>\n",
       "      <td>...</td>\n",
       "      <td>43537797</td>\n",
       "      <td>1</td>\n",
       "      <td>a8290856067</td>\n",
       "      <td>wkr`FjiofVFURa@NSRO^KNDVIN?XUTIVYVSRGNMNGh@k@N...</td>\n",
       "      <td>2</td>\n",
       "      <td>NaN</td>\n",
       "      <td>NaN</td>\n",
       "      <td>NaN</td>\n",
       "      <td>NaN</td>\n",
       "      <td>13:23:05</td>\n",
       "    </tr>\n",
       "    <tr>\n",
       "      <th>1</th>\n",
       "      <td>2</td>\n",
       "      <td>Chandler Lane Run</td>\n",
       "      <td>3373.0</td>\n",
       "      <td>1057</td>\n",
       "      <td>1065</td>\n",
       "      <td>55.6</td>\n",
       "      <td>Run</td>\n",
       "      <td>Run</td>\n",
       "      <td>0.0</td>\n",
       "      <td>8287871741</td>\n",
       "      <td>...</td>\n",
       "      <td>43537797</td>\n",
       "      <td>1</td>\n",
       "      <td>a8287871741</td>\n",
       "      <td>obr`FdbofVPIRWLGLCR@l@C`@OXWd@OVAN@XKH?^Sl@STS...</td>\n",
       "      <td>2</td>\n",
       "      <td>NaN</td>\n",
       "      <td>NaN</td>\n",
       "      <td>NaN</td>\n",
       "      <td>NaN</td>\n",
       "      <td>15:02:07</td>\n",
       "    </tr>\n",
       "    <tr>\n",
       "      <th>2</th>\n",
       "      <td>2</td>\n",
       "      <td>SacYard run</td>\n",
       "      <td>4513.9</td>\n",
       "      <td>2017</td>\n",
       "      <td>2177</td>\n",
       "      <td>4.5</td>\n",
       "      <td>Run</td>\n",
       "      <td>Run</td>\n",
       "      <td>0.0</td>\n",
       "      <td>8273019317</td>\n",
       "      <td>...</td>\n",
       "      <td>43537797</td>\n",
       "      <td>1</td>\n",
       "      <td>a8273019317</td>\n",
       "      <td>wskjFdqjdVICMMQIKSDMRKJUBSNS@INK@I?ADEEKYe@US]...</td>\n",
       "      <td>2</td>\n",
       "      <td>NaN</td>\n",
       "      <td>NaN</td>\n",
       "      <td>NaN</td>\n",
       "      <td>NaN</td>\n",
       "      <td>18:07:34</td>\n",
       "    </tr>\n",
       "    <tr>\n",
       "      <th>3</th>\n",
       "      <td>2</td>\n",
       "      <td>Lunch walk with Piper</td>\n",
       "      <td>3057.6</td>\n",
       "      <td>1635</td>\n",
       "      <td>2787</td>\n",
       "      <td>16.5</td>\n",
       "      <td>Walk</td>\n",
       "      <td>Walk</td>\n",
       "      <td>NaN</td>\n",
       "      <td>8225071724</td>\n",
       "      <td>...</td>\n",
       "      <td>43537797</td>\n",
       "      <td>1</td>\n",
       "      <td>a8225071724</td>\n",
       "      <td>oxjjF`xqdV]I{@[WAOOAYR{@LH\\?f@HBB@HVFNTLIB@?DC...</td>\n",
       "      <td>2</td>\n",
       "      <td>NaN</td>\n",
       "      <td>NaN</td>\n",
       "      <td>NaN</td>\n",
       "      <td>NaN</td>\n",
       "      <td>12:31:32</td>\n",
       "    </tr>\n",
       "    <tr>\n",
       "      <th>4</th>\n",
       "      <td>2</td>\n",
       "      <td>Night run with Piper</td>\n",
       "      <td>2422.8</td>\n",
       "      <td>920</td>\n",
       "      <td>1151</td>\n",
       "      <td>2.2</td>\n",
       "      <td>Run</td>\n",
       "      <td>Run</td>\n",
       "      <td>0.0</td>\n",
       "      <td>8222096181</td>\n",
       "      <td>...</td>\n",
       "      <td>43537797</td>\n",
       "      <td>1</td>\n",
       "      <td>a8222096181</td>\n",
       "      <td>yuijFdwrdVLBf@Zd@NxAp@NDHHrAXh@@`@HX@PNH@FDE\\G...</td>\n",
       "      <td>2</td>\n",
       "      <td>NaN</td>\n",
       "      <td>NaN</td>\n",
       "      <td>NaN</td>\n",
       "      <td>NaN</td>\n",
       "      <td>22:05:51</td>\n",
       "    </tr>\n",
       "  </tbody>\n",
       "</table>\n",
       "<p>5 rows × 55 columns</p>\n",
       "</div>"
      ],
      "text/plain": [
       "   resource_state                   name  distance  moving_time  elapsed_time  \\\n",
       "0               2       Chandler Lane x2    2090.5          643           658   \n",
       "1               2      Chandler Lane Run    3373.0         1057          1065   \n",
       "2               2            SacYard run    4513.9         2017          2177   \n",
       "3               2  Lunch walk with Piper    3057.6         1635          2787   \n",
       "4               2   Night run with Piper    2422.8          920          1151   \n",
       "\n",
       "   total_elevation_gain  type sport_type  workout_type          id  ...  \\\n",
       "0                  28.6   Run        Run           0.0  8290856067  ...   \n",
       "1                  55.6   Run        Run           0.0  8287871741  ...   \n",
       "2                   4.5   Run        Run           0.0  8273019317  ...   \n",
       "3                  16.5  Walk       Walk           NaN  8225071724  ...   \n",
       "4                   2.2   Run        Run           0.0  8222096181  ...   \n",
       "\n",
       "  athlete.id athlete.resource_state       map.id  \\\n",
       "0   43537797                      1  a8290856067   \n",
       "1   43537797                      1  a8287871741   \n",
       "2   43537797                      1  a8273019317   \n",
       "3   43537797                      1  a8225071724   \n",
       "4   43537797                      1  a8222096181   \n",
       "\n",
       "                                map.summary_polyline map.resource_state  \\\n",
       "0  wkr`FjiofVFURa@NSRO^KNDVIN?XUTIVYVSRGNMNGh@k@N...                  2   \n",
       "1  obr`FdbofVPIRWLGLCR@l@C`@OXWd@OVAN@XKH?^Sl@STS...                  2   \n",
       "2  wskjFdqjdVICMMQIKSDMRKJUBSNS@INK@I?ADEEKYe@US]...                  2   \n",
       "3  oxjjF`xqdV]I{@[WAOOAYR{@LH\\?f@HBB@HVFNTLIB@?DC...                  2   \n",
       "4  yuijFdwrdVLBf@Zd@NxAp@NDHHrAXh@@`@HX@PNH@FDE\\G...                  2   \n",
       "\n",
       "  average_heartrate max_heartrate  suffer_score  average_cadence  start_time  \n",
       "0               NaN           NaN           NaN              NaN    13:23:05  \n",
       "1               NaN           NaN           NaN              NaN    15:02:07  \n",
       "2               NaN           NaN           NaN              NaN    18:07:34  \n",
       "3               NaN           NaN           NaN              NaN    12:31:32  \n",
       "4               NaN           NaN           NaN              NaN    22:05:51  \n",
       "\n",
       "[5 rows x 55 columns]"
      ]
     },
     "execution_count": 15,
     "metadata": {},
     "output_type": "execute_result"
    }
   ],
   "source": [
    "#Break date into start time and date\n",
    "activities['start_date_local'] = pd.to_datetime(activities['start_date_local'])\n",
    "activities['start_time'] = activities['start_date_local'].dt.time\n",
    "activities['start_date_local'] = activities['start_date_local'].dt.date\n",
    "activities.head(5)"
   ]
  },
  {
   "cell_type": "code",
   "execution_count": 23,
   "metadata": {},
   "outputs": [],
   "source": [
    "# import modules\n",
    "import os\n",
    "import time\n",
    "import matplotlib.pyplot as plt\n",
    "import folium\n",
    "import polyline\n",
    "import base64\n",
    "from tqdm import tqdm"
   ]
  },
  {
   "cell_type": "code",
   "execution_count": 24,
   "metadata": {},
   "outputs": [
    {
     "name": "stdout",
     "output_type": "stream",
     "text": [
      "turkey\n"
     ]
    },
    {
     "name": "stderr",
     "output_type": "stream",
     "text": [
      "  0%|          | 0/94 [00:00<?, ?it/s]"
     ]
    }
   ],
   "source": [
    "# add decoded summary polylines\n",
    "activities['map.polyline'] = activities['map.summary_polyline'].apply(polyline.decode)\n",
    "print(\"turkey\")\n",
    "#####################\n",
    "# define function to get elevation data using the open-elevation API\n",
    "def get_elevation(latitude, longitude):\n",
    "    base_url = 'https://api.open-elevation.com/api/v1/lookup'\n",
    "    payload = {'locations': f'{latitude},{longitude}'}\n",
    "    r = requests.get(base_url, params=payload).json()['results'][0]\n",
    "    return r['elevation']\n",
    "# get elevation data\n",
    "elevation_data = list()\n",
    "for idx in tqdm(activities.index):\n",
    "    activity = activities.loc[idx, :]\n",
    "    elevation = [get_elevation(coord[0], coord[1]) for coord in activity['map.polyline']]\n",
    "    elevation_data.append(elevation)"
   ]
  },
  {
   "cell_type": "code",
   "execution_count": null,
   "metadata": {},
   "outputs": [],
   "source": [
    "# add elevation data to dataframe\n",
    "activities['map.elevation'] = elevation_data"
   ]
  },
  {
   "cell_type": "code",
   "execution_count": null,
   "metadata": {},
   "outputs": [],
   "source": [
    "# Make a copy of activities DataFrame for testing.\n",
    "activities_copy = activities.copy()"
   ]
  },
  {
   "cell_type": "code",
   "execution_count": null,
   "metadata": {},
   "outputs": [],
   "source": [
    "# filter down to Ride, Run, and Swim activities\n",
    "activities_filtered = activities_copy.query(\"type == 'Ride' | type == 'Run' | type == 'Swim'\")\n",
    "print(len(activities_filtered))"
   ]
  }
 ],
 "metadata": {
  "kernelspec": {
   "display_name": "strava_api_env",
   "language": "python",
   "name": "python3"
  },
  "language_info": {
   "codemirror_mode": {
    "name": "ipython",
    "version": 3
   },
   "file_extension": ".py",
   "mimetype": "text/x-python",
   "name": "python",
   "nbconvert_exporter": "python",
   "pygments_lexer": "ipython3",
   "version": "3.11.0"
  },
  "orig_nbformat": 4,
  "vscode": {
   "interpreter": {
    "hash": "43d3d88ee0a7dceeb706b5e2351cee2554f8881a7d082468f764a496b8ef1647"
   }
  }
 },
 "nbformat": 4,
 "nbformat_minor": 2
}
