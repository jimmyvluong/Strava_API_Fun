{
 "cells": [
  {
   "cell_type": "code",
   "execution_count": 1,
   "metadata": {},
   "outputs": [],
   "source": [
    "# import secrets and tokens from config.py\n",
    "from config import client_id, client_secret, refresh_token\n",
    "\n",
    "import requests\n",
    "import urllib3\n",
    "\n",
    "# import packages for data manipulation\n",
    "import pandas as pd\n",
    "from pandas.io.json import json_normalize\n",
    "import numpy as np\n",
    "\n",
    "urllib3.disable_warnings(urllib3.exceptions.InsecureRequestWarning)\n",
    "\n",
    "auth_url = \"https://www.strava.com/oauth/token\"\n",
    "activites_url = \"https://www.strava.com/api/v3/athlete/activities\"\n",
    "\n",
    "payload = {\n",
    "    'client_id': client_id,\n",
    "    'client_secret': client_secret,\n",
    "    'refresh_token': refresh_token,\n",
    "    'grant_type': \"refresh_token\",\n",
    "    'f': 'json'\n",
    "}"
   ]
  },
  {
   "cell_type": "code",
   "execution_count": 2,
   "metadata": {},
   "outputs": [
    {
     "name": "stdout",
     "output_type": "stream",
     "text": [
      "Requesting Token...\n",
      "\n",
      "Access Token = d930cc7c18c09e1756bafa9a66eb922dca43ef43\n",
      "\n"
     ]
    }
   ],
   "source": [
    "print(\"Requesting Token...\\n\")\n",
    "res = requests.post(auth_url, data=payload, verify=False)\n",
    "access_token = res.json()['access_token']\n",
    "# print(\"Access Token = {}\\n\".format(access_token))\n",
    "print(\"Success, token acquired!\")\n",
    "\n",
    "header = {'Authorization': 'Bearer ' + access_token}\n",
    "param = {'per_page': 200, 'page': 1}\n",
    "my_dataset = requests.get(activites_url, headers=header, params=param).json()"
   ]
  },
  {
   "cell_type": "code",
   "execution_count": 3,
   "metadata": {},
   "outputs": [],
   "source": [
    "activities = pd.json_normalize(my_dataset)"
   ]
  },
  {
   "cell_type": "code",
   "execution_count": 4,
   "metadata": {},
   "outputs": [
    {
     "data": {
      "text/plain": [
       "Index(['resource_state', 'name', 'distance', 'moving_time', 'elapsed_time',\n",
       "       'total_elevation_gain', 'type', 'sport_type', 'workout_type', 'id',\n",
       "       'start_date', 'start_date_local', 'timezone', 'utc_offset',\n",
       "       'location_city', 'location_state', 'location_country',\n",
       "       'achievement_count', 'kudos_count', 'comment_count', 'athlete_count',\n",
       "       'photo_count', 'trainer', 'commute', 'manual', 'private', 'visibility',\n",
       "       'flagged', 'gear_id', 'start_latlng', 'end_latlng', 'average_speed',\n",
       "       'max_speed', 'has_heartrate', 'heartrate_opt_out',\n",
       "       'display_hide_heartrate_option', 'elev_high', 'elev_low', 'upload_id',\n",
       "       'upload_id_str', 'external_id', 'from_accepted_tag', 'pr_count',\n",
       "       'total_photo_count', 'has_kudoed', 'athlete.id',\n",
       "       'athlete.resource_state', 'map.id', 'map.summary_polyline',\n",
       "       'map.resource_state', 'average_heartrate', 'max_heartrate',\n",
       "       'suffer_score', 'average_cadence'],\n",
       "      dtype='object')"
      ]
     },
     "execution_count": 4,
     "metadata": {},
     "output_type": "execute_result"
    }
   ],
   "source": [
    "activities.columns "
   ]
  },
  {
   "cell_type": "code",
   "execution_count": 5,
   "metadata": {},
   "outputs": [
    {
     "data": {
      "text/html": [
       "<div>\n",
       "<style scoped>\n",
       "    .dataframe tbody tr th:only-of-type {\n",
       "        vertical-align: middle;\n",
       "    }\n",
       "\n",
       "    .dataframe tbody tr th {\n",
       "        vertical-align: top;\n",
       "    }\n",
       "\n",
       "    .dataframe thead th {\n",
       "        text-align: right;\n",
       "    }\n",
       "</style>\n",
       "<table border=\"1\" class=\"dataframe\">\n",
       "  <thead>\n",
       "    <tr style=\"text-align: right;\">\n",
       "      <th></th>\n",
       "      <th>resource_state</th>\n",
       "      <th>name</th>\n",
       "      <th>distance</th>\n",
       "      <th>moving_time</th>\n",
       "      <th>elapsed_time</th>\n",
       "      <th>total_elevation_gain</th>\n",
       "      <th>type</th>\n",
       "      <th>sport_type</th>\n",
       "      <th>workout_type</th>\n",
       "      <th>id</th>\n",
       "      <th>...</th>\n",
       "      <th>athlete.id</th>\n",
       "      <th>athlete.resource_state</th>\n",
       "      <th>map.id</th>\n",
       "      <th>map.summary_polyline</th>\n",
       "      <th>map.resource_state</th>\n",
       "      <th>average_heartrate</th>\n",
       "      <th>max_heartrate</th>\n",
       "      <th>suffer_score</th>\n",
       "      <th>average_cadence</th>\n",
       "      <th>start_time</th>\n",
       "    </tr>\n",
       "  </thead>\n",
       "  <tbody>\n",
       "    <tr>\n",
       "      <th>0</th>\n",
       "      <td>2</td>\n",
       "      <td>Afternoon ride</td>\n",
       "      <td>9010.8</td>\n",
       "      <td>1797</td>\n",
       "      <td>1901</td>\n",
       "      <td>5.1</td>\n",
       "      <td>Ride</td>\n",
       "      <td>Ride</td>\n",
       "      <td>10.0</td>\n",
       "      <td>8419675852</td>\n",
       "      <td>...</td>\n",
       "      <td>43537797</td>\n",
       "      <td>1</td>\n",
       "      <td>a8419675852</td>\n",
       "      <td>a|ijFntcdVk@nBQt@IRGl@}ArF_@zCCHEDOdAYlA[XSd@K...</td>\n",
       "      <td>2</td>\n",
       "      <td>NaN</td>\n",
       "      <td>NaN</td>\n",
       "      <td>NaN</td>\n",
       "      <td>NaN</td>\n",
       "      <td>13:40:49</td>\n",
       "    </tr>\n",
       "    <tr>\n",
       "      <th>1</th>\n",
       "      <td>2</td>\n",
       "      <td>First NFS team ride. Saw 10+ deer!</td>\n",
       "      <td>48331.4</td>\n",
       "      <td>8518</td>\n",
       "      <td>8962</td>\n",
       "      <td>84.6</td>\n",
       "      <td>Ride</td>\n",
       "      <td>Ride</td>\n",
       "      <td>10.0</td>\n",
       "      <td>8417951962</td>\n",
       "      <td>...</td>\n",
       "      <td>43537797</td>\n",
       "      <td>1</td>\n",
       "      <td>a8417951962</td>\n",
       "      <td>gtijFf{qdVCcAqNyGGk@zGmZhI}e@nA{DLmBm@kCxJ_m@K...</td>\n",
       "      <td>2</td>\n",
       "      <td>108.8</td>\n",
       "      <td>152.0</td>\n",
       "      <td>26.0</td>\n",
       "      <td>NaN</td>\n",
       "      <td>05:49:02</td>\n",
       "    </tr>\n",
       "    <tr>\n",
       "      <th>2</th>\n",
       "      <td>2</td>\n",
       "      <td>Testing out the old Schwinn Paramount</td>\n",
       "      <td>6512.3</td>\n",
       "      <td>1287</td>\n",
       "      <td>1417</td>\n",
       "      <td>20.1</td>\n",
       "      <td>Ride</td>\n",
       "      <td>Ride</td>\n",
       "      <td>10.0</td>\n",
       "      <td>8414026073</td>\n",
       "      <td>...</td>\n",
       "      <td>43537797</td>\n",
       "      <td>1</td>\n",
       "      <td>a8414026073</td>\n",
       "      <td>ybijFdtadVCi@@OKo@g@SKAkCAqAB_@Cw@DaBBcA@a@CW?...</td>\n",
       "      <td>2</td>\n",
       "      <td>NaN</td>\n",
       "      <td>NaN</td>\n",
       "      <td>NaN</td>\n",
       "      <td>NaN</td>\n",
       "      <td>12:00:23</td>\n",
       "    </tr>\n",
       "    <tr>\n",
       "      <th>3</th>\n",
       "      <td>2</td>\n",
       "      <td>FF W3 - Hill Repeats</td>\n",
       "      <td>12103.5</td>\n",
       "      <td>4473</td>\n",
       "      <td>6386</td>\n",
       "      <td>85.7</td>\n",
       "      <td>Run</td>\n",
       "      <td>Run</td>\n",
       "      <td>0.0</td>\n",
       "      <td>8412436546</td>\n",
       "      <td>...</td>\n",
       "      <td>43537797</td>\n",
       "      <td>1</td>\n",
       "      <td>a8412436546</td>\n",
       "      <td>wqijFxdrdVRmC\\gBNMLFd@f@|@XnCxAlCjAzAz@`EdBxBp...</td>\n",
       "      <td>2</td>\n",
       "      <td>151.6</td>\n",
       "      <td>178.0</td>\n",
       "      <td>106.0</td>\n",
       "      <td>NaN</td>\n",
       "      <td>05:29:27</td>\n",
       "    </tr>\n",
       "    <tr>\n",
       "      <th>4</th>\n",
       "      <td>2</td>\n",
       "      <td>Taking the scenic route back</td>\n",
       "      <td>16468.4</td>\n",
       "      <td>3464</td>\n",
       "      <td>3861</td>\n",
       "      <td>31.1</td>\n",
       "      <td>Ride</td>\n",
       "      <td>Ride</td>\n",
       "      <td>10.0</td>\n",
       "      <td>8409775003</td>\n",
       "      <td>...</td>\n",
       "      <td>43537797</td>\n",
       "      <td>1</td>\n",
       "      <td>a8409775003</td>\n",
       "      <td>_dijFfpadVsOLg@Ca@DOCuCDuAPiAb@_At@qAhB_@b@iAf...</td>\n",
       "      <td>2</td>\n",
       "      <td>NaN</td>\n",
       "      <td>NaN</td>\n",
       "      <td>NaN</td>\n",
       "      <td>NaN</td>\n",
       "      <td>16:30:44</td>\n",
       "    </tr>\n",
       "  </tbody>\n",
       "</table>\n",
       "<p>5 rows × 55 columns</p>\n",
       "</div>"
      ],
      "text/plain": [
       "   resource_state                                   name  distance  \\\n",
       "0               2                         Afternoon ride    9010.8   \n",
       "1               2     First NFS team ride. Saw 10+ deer!   48331.4   \n",
       "2               2  Testing out the old Schwinn Paramount    6512.3   \n",
       "3               2                  FF W3 - Hill Repeats    12103.5   \n",
       "4               2           Taking the scenic route back   16468.4   \n",
       "\n",
       "   moving_time  elapsed_time  total_elevation_gain  type sport_type  \\\n",
       "0         1797          1901                   5.1  Ride       Ride   \n",
       "1         8518          8962                  84.6  Ride       Ride   \n",
       "2         1287          1417                  20.1  Ride       Ride   \n",
       "3         4473          6386                  85.7   Run        Run   \n",
       "4         3464          3861                  31.1  Ride       Ride   \n",
       "\n",
       "   workout_type          id  ... athlete.id athlete.resource_state  \\\n",
       "0          10.0  8419675852  ...   43537797                      1   \n",
       "1          10.0  8417951962  ...   43537797                      1   \n",
       "2          10.0  8414026073  ...   43537797                      1   \n",
       "3           0.0  8412436546  ...   43537797                      1   \n",
       "4          10.0  8409775003  ...   43537797                      1   \n",
       "\n",
       "        map.id                               map.summary_polyline  \\\n",
       "0  a8419675852  a|ijFntcdVk@nBQt@IRGl@}ArF_@zCCHEDOdAYlA[XSd@K...   \n",
       "1  a8417951962  gtijFf{qdVCcAqNyGGk@zGmZhI}e@nA{DLmBm@kCxJ_m@K...   \n",
       "2  a8414026073  ybijFdtadVCi@@OKo@g@SKAkCAqAB_@Cw@DaBBcA@a@CW?...   \n",
       "3  a8412436546  wqijFxdrdVRmC\\gBNMLFd@f@|@XnCxAlCjAzAz@`EdBxBp...   \n",
       "4  a8409775003  _dijFfpadVsOLg@Ca@DOCuCDuAPiAb@_At@qAhB_@b@iAf...   \n",
       "\n",
       "  map.resource_state average_heartrate max_heartrate  suffer_score  \\\n",
       "0                  2               NaN           NaN           NaN   \n",
       "1                  2             108.8         152.0          26.0   \n",
       "2                  2               NaN           NaN           NaN   \n",
       "3                  2             151.6         178.0         106.0   \n",
       "4                  2               NaN           NaN           NaN   \n",
       "\n",
       "   average_cadence  start_time  \n",
       "0              NaN    13:40:49  \n",
       "1              NaN    05:49:02  \n",
       "2              NaN    12:00:23  \n",
       "3              NaN    05:29:27  \n",
       "4              NaN    16:30:44  \n",
       "\n",
       "[5 rows x 55 columns]"
      ]
     },
     "execution_count": 5,
     "metadata": {},
     "output_type": "execute_result"
    }
   ],
   "source": [
    "#Break date into start time and date\n",
    "activities['start_date_local'] = pd.to_datetime(activities['start_date_local'])\n",
    "activities['start_time'] = activities['start_date_local'].dt.time\n",
    "activities['start_date_local'] = activities['start_date_local'].dt.date\n",
    "activities.head(5)"
   ]
  },
  {
   "cell_type": "code",
   "execution_count": 6,
   "metadata": {},
   "outputs": [],
   "source": [
    "# import modules\n",
    "import os\n",
    "import time\n",
    "import matplotlib.pyplot as plt\n",
    "import folium\n",
    "import polyline\n",
    "import base64\n",
    "from tqdm import tqdm"
   ]
  },
  {
   "cell_type": "code",
   "execution_count": 24,
   "metadata": {},
   "outputs": [
    {
     "name": "stdout",
     "output_type": "stream",
     "text": [
      "turkey\n"
     ]
    },
    {
     "name": "stderr",
     "output_type": "stream",
     "text": [
      "  1%|          | 1/94 [04:02<6:16:04, 242.63s/it]\n"
     ]
    },
    {
     "ename": "KeyboardInterrupt",
     "evalue": "",
     "output_type": "error",
     "traceback": [
      "\u001b[1;31m---------------------------------------------------------------------------\u001b[0m",
      "\u001b[1;31mKeyboardInterrupt\u001b[0m                         Traceback (most recent call last)",
      "Cell \u001b[1;32mIn[24], line 15\u001b[0m\n\u001b[0;32m     13\u001b[0m \u001b[39mfor\u001b[39;00m idx \u001b[39min\u001b[39;00m tqdm(activities\u001b[39m.\u001b[39mindex):\n\u001b[0;32m     14\u001b[0m     activity \u001b[39m=\u001b[39m activities\u001b[39m.\u001b[39mloc[idx, :]\n\u001b[1;32m---> 15\u001b[0m     elevation \u001b[39m=\u001b[39m [get_elevation(coord[\u001b[39m0\u001b[39;49m], coord[\u001b[39m1\u001b[39;49m]) \u001b[39mfor\u001b[39;49;00m coord \u001b[39min\u001b[39;49;00m activity[\u001b[39m'\u001b[39;49m\u001b[39mmap.polyline\u001b[39;49m\u001b[39m'\u001b[39;49m]]\n\u001b[0;32m     16\u001b[0m     elevation_data\u001b[39m.\u001b[39mappend(elevation)\n",
      "Cell \u001b[1;32mIn[24], line 15\u001b[0m, in \u001b[0;36m<listcomp>\u001b[1;34m(.0)\u001b[0m\n\u001b[0;32m     13\u001b[0m \u001b[39mfor\u001b[39;00m idx \u001b[39min\u001b[39;00m tqdm(activities\u001b[39m.\u001b[39mindex):\n\u001b[0;32m     14\u001b[0m     activity \u001b[39m=\u001b[39m activities\u001b[39m.\u001b[39mloc[idx, :]\n\u001b[1;32m---> 15\u001b[0m     elevation \u001b[39m=\u001b[39m [get_elevation(coord[\u001b[39m0\u001b[39;49m], coord[\u001b[39m1\u001b[39;49m]) \u001b[39mfor\u001b[39;00m coord \u001b[39min\u001b[39;00m activity[\u001b[39m'\u001b[39m\u001b[39mmap.polyline\u001b[39m\u001b[39m'\u001b[39m]]\n\u001b[0;32m     16\u001b[0m     elevation_data\u001b[39m.\u001b[39mappend(elevation)\n",
      "Cell \u001b[1;32mIn[24], line 9\u001b[0m, in \u001b[0;36mget_elevation\u001b[1;34m(latitude, longitude)\u001b[0m\n\u001b[0;32m      7\u001b[0m base_url \u001b[39m=\u001b[39m \u001b[39m'\u001b[39m\u001b[39mhttps://api.open-elevation.com/api/v1/lookup\u001b[39m\u001b[39m'\u001b[39m\n\u001b[0;32m      8\u001b[0m payload \u001b[39m=\u001b[39m {\u001b[39m'\u001b[39m\u001b[39mlocations\u001b[39m\u001b[39m'\u001b[39m: \u001b[39mf\u001b[39m\u001b[39m'\u001b[39m\u001b[39m{\u001b[39;00mlatitude\u001b[39m}\u001b[39;00m\u001b[39m,\u001b[39m\u001b[39m{\u001b[39;00mlongitude\u001b[39m}\u001b[39;00m\u001b[39m'\u001b[39m}\n\u001b[1;32m----> 9\u001b[0m r \u001b[39m=\u001b[39m requests\u001b[39m.\u001b[39;49mget(base_url, params\u001b[39m=\u001b[39;49mpayload)\u001b[39m.\u001b[39mjson()[\u001b[39m'\u001b[39m\u001b[39mresults\u001b[39m\u001b[39m'\u001b[39m][\u001b[39m0\u001b[39m]\n\u001b[0;32m     10\u001b[0m \u001b[39mreturn\u001b[39;00m r[\u001b[39m'\u001b[39m\u001b[39melevation\u001b[39m\u001b[39m'\u001b[39m]\n",
      "File \u001b[1;32mc:\\Users\\jluong\\Miniconda3\\envs\\strava_api_env\\Lib\\site-packages\\requests\\api.py:73\u001b[0m, in \u001b[0;36mget\u001b[1;34m(url, params, **kwargs)\u001b[0m\n\u001b[0;32m     62\u001b[0m \u001b[39mdef\u001b[39;00m \u001b[39mget\u001b[39m(url, params\u001b[39m=\u001b[39m\u001b[39mNone\u001b[39;00m, \u001b[39m*\u001b[39m\u001b[39m*\u001b[39mkwargs):\n\u001b[0;32m     63\u001b[0m     \u001b[39mr\u001b[39m\u001b[39m\"\"\"Sends a GET request.\u001b[39;00m\n\u001b[0;32m     64\u001b[0m \n\u001b[0;32m     65\u001b[0m \u001b[39m    :param url: URL for the new :class:`Request` object.\u001b[39;00m\n\u001b[1;32m   (...)\u001b[0m\n\u001b[0;32m     70\u001b[0m \u001b[39m    :rtype: requests.Response\u001b[39;00m\n\u001b[0;32m     71\u001b[0m \u001b[39m    \"\"\"\u001b[39;00m\n\u001b[1;32m---> 73\u001b[0m     \u001b[39mreturn\u001b[39;00m request(\u001b[39m\"\u001b[39;49m\u001b[39mget\u001b[39;49m\u001b[39m\"\u001b[39;49m, url, params\u001b[39m=\u001b[39;49mparams, \u001b[39m*\u001b[39;49m\u001b[39m*\u001b[39;49mkwargs)\n",
      "File \u001b[1;32mc:\\Users\\jluong\\Miniconda3\\envs\\strava_api_env\\Lib\\site-packages\\requests\\api.py:59\u001b[0m, in \u001b[0;36mrequest\u001b[1;34m(method, url, **kwargs)\u001b[0m\n\u001b[0;32m     55\u001b[0m \u001b[39m# By using the 'with' statement we are sure the session is closed, thus we\u001b[39;00m\n\u001b[0;32m     56\u001b[0m \u001b[39m# avoid leaving sockets open which can trigger a ResourceWarning in some\u001b[39;00m\n\u001b[0;32m     57\u001b[0m \u001b[39m# cases, and look like a memory leak in others.\u001b[39;00m\n\u001b[0;32m     58\u001b[0m \u001b[39mwith\u001b[39;00m sessions\u001b[39m.\u001b[39mSession() \u001b[39mas\u001b[39;00m session:\n\u001b[1;32m---> 59\u001b[0m     \u001b[39mreturn\u001b[39;00m session\u001b[39m.\u001b[39;49mrequest(method\u001b[39m=\u001b[39;49mmethod, url\u001b[39m=\u001b[39;49murl, \u001b[39m*\u001b[39;49m\u001b[39m*\u001b[39;49mkwargs)\n",
      "File \u001b[1;32mc:\\Users\\jluong\\Miniconda3\\envs\\strava_api_env\\Lib\\site-packages\\requests\\sessions.py:587\u001b[0m, in \u001b[0;36mSession.request\u001b[1;34m(self, method, url, params, data, headers, cookies, files, auth, timeout, allow_redirects, proxies, hooks, stream, verify, cert, json)\u001b[0m\n\u001b[0;32m    582\u001b[0m send_kwargs \u001b[39m=\u001b[39m {\n\u001b[0;32m    583\u001b[0m     \u001b[39m\"\u001b[39m\u001b[39mtimeout\u001b[39m\u001b[39m\"\u001b[39m: timeout,\n\u001b[0;32m    584\u001b[0m     \u001b[39m\"\u001b[39m\u001b[39mallow_redirects\u001b[39m\u001b[39m\"\u001b[39m: allow_redirects,\n\u001b[0;32m    585\u001b[0m }\n\u001b[0;32m    586\u001b[0m send_kwargs\u001b[39m.\u001b[39mupdate(settings)\n\u001b[1;32m--> 587\u001b[0m resp \u001b[39m=\u001b[39m \u001b[39mself\u001b[39;49m\u001b[39m.\u001b[39;49msend(prep, \u001b[39m*\u001b[39;49m\u001b[39m*\u001b[39;49msend_kwargs)\n\u001b[0;32m    589\u001b[0m \u001b[39mreturn\u001b[39;00m resp\n",
      "File \u001b[1;32mc:\\Users\\jluong\\Miniconda3\\envs\\strava_api_env\\Lib\\site-packages\\requests\\sessions.py:701\u001b[0m, in \u001b[0;36mSession.send\u001b[1;34m(self, request, **kwargs)\u001b[0m\n\u001b[0;32m    698\u001b[0m start \u001b[39m=\u001b[39m preferred_clock()\n\u001b[0;32m    700\u001b[0m \u001b[39m# Send the request\u001b[39;00m\n\u001b[1;32m--> 701\u001b[0m r \u001b[39m=\u001b[39m adapter\u001b[39m.\u001b[39;49msend(request, \u001b[39m*\u001b[39;49m\u001b[39m*\u001b[39;49mkwargs)\n\u001b[0;32m    703\u001b[0m \u001b[39m# Total elapsed time of the request (approximately)\u001b[39;00m\n\u001b[0;32m    704\u001b[0m elapsed \u001b[39m=\u001b[39m preferred_clock() \u001b[39m-\u001b[39m start\n",
      "File \u001b[1;32mc:\\Users\\jluong\\Miniconda3\\envs\\strava_api_env\\Lib\\site-packages\\requests\\adapters.py:489\u001b[0m, in \u001b[0;36mHTTPAdapter.send\u001b[1;34m(self, request, stream, timeout, verify, cert, proxies)\u001b[0m\n\u001b[0;32m    487\u001b[0m \u001b[39mtry\u001b[39;00m:\n\u001b[0;32m    488\u001b[0m     \u001b[39mif\u001b[39;00m \u001b[39mnot\u001b[39;00m chunked:\n\u001b[1;32m--> 489\u001b[0m         resp \u001b[39m=\u001b[39m conn\u001b[39m.\u001b[39;49murlopen(\n\u001b[0;32m    490\u001b[0m             method\u001b[39m=\u001b[39;49mrequest\u001b[39m.\u001b[39;49mmethod,\n\u001b[0;32m    491\u001b[0m             url\u001b[39m=\u001b[39;49murl,\n\u001b[0;32m    492\u001b[0m             body\u001b[39m=\u001b[39;49mrequest\u001b[39m.\u001b[39;49mbody,\n\u001b[0;32m    493\u001b[0m             headers\u001b[39m=\u001b[39;49mrequest\u001b[39m.\u001b[39;49mheaders,\n\u001b[0;32m    494\u001b[0m             redirect\u001b[39m=\u001b[39;49m\u001b[39mFalse\u001b[39;49;00m,\n\u001b[0;32m    495\u001b[0m             assert_same_host\u001b[39m=\u001b[39;49m\u001b[39mFalse\u001b[39;49;00m,\n\u001b[0;32m    496\u001b[0m             preload_content\u001b[39m=\u001b[39;49m\u001b[39mFalse\u001b[39;49;00m,\n\u001b[0;32m    497\u001b[0m             decode_content\u001b[39m=\u001b[39;49m\u001b[39mFalse\u001b[39;49;00m,\n\u001b[0;32m    498\u001b[0m             retries\u001b[39m=\u001b[39;49m\u001b[39mself\u001b[39;49m\u001b[39m.\u001b[39;49mmax_retries,\n\u001b[0;32m    499\u001b[0m             timeout\u001b[39m=\u001b[39;49mtimeout,\n\u001b[0;32m    500\u001b[0m         )\n\u001b[0;32m    502\u001b[0m     \u001b[39m# Send the request.\u001b[39;00m\n\u001b[0;32m    503\u001b[0m     \u001b[39melse\u001b[39;00m:\n\u001b[0;32m    504\u001b[0m         \u001b[39mif\u001b[39;00m \u001b[39mhasattr\u001b[39m(conn, \u001b[39m\"\u001b[39m\u001b[39mproxy_pool\u001b[39m\u001b[39m\"\u001b[39m):\n",
      "File \u001b[1;32mc:\\Users\\jluong\\Miniconda3\\envs\\strava_api_env\\Lib\\site-packages\\urllib3\\connectionpool.py:703\u001b[0m, in \u001b[0;36mHTTPConnectionPool.urlopen\u001b[1;34m(self, method, url, body, headers, retries, redirect, assert_same_host, timeout, pool_timeout, release_conn, chunked, body_pos, **response_kw)\u001b[0m\n\u001b[0;32m    700\u001b[0m     \u001b[39mself\u001b[39m\u001b[39m.\u001b[39m_prepare_proxy(conn)\n\u001b[0;32m    702\u001b[0m \u001b[39m# Make the request on the httplib connection object.\u001b[39;00m\n\u001b[1;32m--> 703\u001b[0m httplib_response \u001b[39m=\u001b[39m \u001b[39mself\u001b[39;49m\u001b[39m.\u001b[39;49m_make_request(\n\u001b[0;32m    704\u001b[0m     conn,\n\u001b[0;32m    705\u001b[0m     method,\n\u001b[0;32m    706\u001b[0m     url,\n\u001b[0;32m    707\u001b[0m     timeout\u001b[39m=\u001b[39;49mtimeout_obj,\n\u001b[0;32m    708\u001b[0m     body\u001b[39m=\u001b[39;49mbody,\n\u001b[0;32m    709\u001b[0m     headers\u001b[39m=\u001b[39;49mheaders,\n\u001b[0;32m    710\u001b[0m     chunked\u001b[39m=\u001b[39;49mchunked,\n\u001b[0;32m    711\u001b[0m )\n\u001b[0;32m    713\u001b[0m \u001b[39m# If we're going to release the connection in ``finally:``, then\u001b[39;00m\n\u001b[0;32m    714\u001b[0m \u001b[39m# the response doesn't need to know about the connection. Otherwise\u001b[39;00m\n\u001b[0;32m    715\u001b[0m \u001b[39m# it will also try to release it and we'll have a double-release\u001b[39;00m\n\u001b[0;32m    716\u001b[0m \u001b[39m# mess.\u001b[39;00m\n\u001b[0;32m    717\u001b[0m response_conn \u001b[39m=\u001b[39m conn \u001b[39mif\u001b[39;00m \u001b[39mnot\u001b[39;00m release_conn \u001b[39melse\u001b[39;00m \u001b[39mNone\u001b[39;00m\n",
      "File \u001b[1;32mc:\\Users\\jluong\\Miniconda3\\envs\\strava_api_env\\Lib\\site-packages\\urllib3\\connectionpool.py:386\u001b[0m, in \u001b[0;36mHTTPConnectionPool._make_request\u001b[1;34m(self, conn, method, url, timeout, chunked, **httplib_request_kw)\u001b[0m\n\u001b[0;32m    384\u001b[0m \u001b[39m# Trigger any extra validation we need to do.\u001b[39;00m\n\u001b[0;32m    385\u001b[0m \u001b[39mtry\u001b[39;00m:\n\u001b[1;32m--> 386\u001b[0m     \u001b[39mself\u001b[39;49m\u001b[39m.\u001b[39;49m_validate_conn(conn)\n\u001b[0;32m    387\u001b[0m \u001b[39mexcept\u001b[39;00m (SocketTimeout, BaseSSLError) \u001b[39mas\u001b[39;00m e:\n\u001b[0;32m    388\u001b[0m     \u001b[39m# Py2 raises this as a BaseSSLError, Py3 raises it as socket timeout.\u001b[39;00m\n\u001b[0;32m    389\u001b[0m     \u001b[39mself\u001b[39m\u001b[39m.\u001b[39m_raise_timeout(err\u001b[39m=\u001b[39me, url\u001b[39m=\u001b[39murl, timeout_value\u001b[39m=\u001b[39mconn\u001b[39m.\u001b[39mtimeout)\n",
      "File \u001b[1;32mc:\\Users\\jluong\\Miniconda3\\envs\\strava_api_env\\Lib\\site-packages\\urllib3\\connectionpool.py:1042\u001b[0m, in \u001b[0;36mHTTPSConnectionPool._validate_conn\u001b[1;34m(self, conn)\u001b[0m\n\u001b[0;32m   1040\u001b[0m \u001b[39m# Force connect early to allow us to validate the connection.\u001b[39;00m\n\u001b[0;32m   1041\u001b[0m \u001b[39mif\u001b[39;00m \u001b[39mnot\u001b[39;00m \u001b[39mgetattr\u001b[39m(conn, \u001b[39m\"\u001b[39m\u001b[39msock\u001b[39m\u001b[39m\"\u001b[39m, \u001b[39mNone\u001b[39;00m):  \u001b[39m# AppEngine might not have  `.sock`\u001b[39;00m\n\u001b[1;32m-> 1042\u001b[0m     conn\u001b[39m.\u001b[39;49mconnect()\n\u001b[0;32m   1044\u001b[0m \u001b[39mif\u001b[39;00m \u001b[39mnot\u001b[39;00m conn\u001b[39m.\u001b[39mis_verified:\n\u001b[0;32m   1045\u001b[0m     warnings\u001b[39m.\u001b[39mwarn(\n\u001b[0;32m   1046\u001b[0m         (\n\u001b[0;32m   1047\u001b[0m             \u001b[39m\"\u001b[39m\u001b[39mUnverified HTTPS request is being made to host \u001b[39m\u001b[39m'\u001b[39m\u001b[39m%s\u001b[39;00m\u001b[39m'\u001b[39m\u001b[39m. \u001b[39m\u001b[39m\"\u001b[39m\n\u001b[1;32m   (...)\u001b[0m\n\u001b[0;32m   1052\u001b[0m         InsecureRequestWarning,\n\u001b[0;32m   1053\u001b[0m     )\n",
      "File \u001b[1;32mc:\\Users\\jluong\\Miniconda3\\envs\\strava_api_env\\Lib\\site-packages\\urllib3\\connection.py:414\u001b[0m, in \u001b[0;36mHTTPSConnection.connect\u001b[1;34m(self)\u001b[0m\n\u001b[0;32m    405\u001b[0m \u001b[39mif\u001b[39;00m (\n\u001b[0;32m    406\u001b[0m     \u001b[39mnot\u001b[39;00m \u001b[39mself\u001b[39m\u001b[39m.\u001b[39mca_certs\n\u001b[0;32m    407\u001b[0m     \u001b[39mand\u001b[39;00m \u001b[39mnot\u001b[39;00m \u001b[39mself\u001b[39m\u001b[39m.\u001b[39mca_cert_dir\n\u001b[1;32m   (...)\u001b[0m\n\u001b[0;32m    410\u001b[0m     \u001b[39mand\u001b[39;00m \u001b[39mhasattr\u001b[39m(context, \u001b[39m\"\u001b[39m\u001b[39mload_default_certs\u001b[39m\u001b[39m\"\u001b[39m)\n\u001b[0;32m    411\u001b[0m ):\n\u001b[0;32m    412\u001b[0m     context\u001b[39m.\u001b[39mload_default_certs()\n\u001b[1;32m--> 414\u001b[0m \u001b[39mself\u001b[39m\u001b[39m.\u001b[39msock \u001b[39m=\u001b[39m ssl_wrap_socket(\n\u001b[0;32m    415\u001b[0m     sock\u001b[39m=\u001b[39;49mconn,\n\u001b[0;32m    416\u001b[0m     keyfile\u001b[39m=\u001b[39;49m\u001b[39mself\u001b[39;49m\u001b[39m.\u001b[39;49mkey_file,\n\u001b[0;32m    417\u001b[0m     certfile\u001b[39m=\u001b[39;49m\u001b[39mself\u001b[39;49m\u001b[39m.\u001b[39;49mcert_file,\n\u001b[0;32m    418\u001b[0m     key_password\u001b[39m=\u001b[39;49m\u001b[39mself\u001b[39;49m\u001b[39m.\u001b[39;49mkey_password,\n\u001b[0;32m    419\u001b[0m     ca_certs\u001b[39m=\u001b[39;49m\u001b[39mself\u001b[39;49m\u001b[39m.\u001b[39;49mca_certs,\n\u001b[0;32m    420\u001b[0m     ca_cert_dir\u001b[39m=\u001b[39;49m\u001b[39mself\u001b[39;49m\u001b[39m.\u001b[39;49mca_cert_dir,\n\u001b[0;32m    421\u001b[0m     ca_cert_data\u001b[39m=\u001b[39;49m\u001b[39mself\u001b[39;49m\u001b[39m.\u001b[39;49mca_cert_data,\n\u001b[0;32m    422\u001b[0m     server_hostname\u001b[39m=\u001b[39;49mserver_hostname,\n\u001b[0;32m    423\u001b[0m     ssl_context\u001b[39m=\u001b[39;49mcontext,\n\u001b[0;32m    424\u001b[0m     tls_in_tls\u001b[39m=\u001b[39;49mtls_in_tls,\n\u001b[0;32m    425\u001b[0m )\n\u001b[0;32m    427\u001b[0m \u001b[39m# If we're using all defaults and the connection\u001b[39;00m\n\u001b[0;32m    428\u001b[0m \u001b[39m# is TLSv1 or TLSv1.1 we throw a DeprecationWarning\u001b[39;00m\n\u001b[0;32m    429\u001b[0m \u001b[39m# for the host.\u001b[39;00m\n\u001b[0;32m    430\u001b[0m \u001b[39mif\u001b[39;00m (\n\u001b[0;32m    431\u001b[0m     default_ssl_context\n\u001b[0;32m    432\u001b[0m     \u001b[39mand\u001b[39;00m \u001b[39mself\u001b[39m\u001b[39m.\u001b[39mssl_version \u001b[39mis\u001b[39;00m \u001b[39mNone\u001b[39;00m\n\u001b[0;32m    433\u001b[0m     \u001b[39mand\u001b[39;00m \u001b[39mhasattr\u001b[39m(\u001b[39mself\u001b[39m\u001b[39m.\u001b[39msock, \u001b[39m\"\u001b[39m\u001b[39mversion\u001b[39m\u001b[39m\"\u001b[39m)\n\u001b[0;32m    434\u001b[0m     \u001b[39mand\u001b[39;00m \u001b[39mself\u001b[39m\u001b[39m.\u001b[39msock\u001b[39m.\u001b[39mversion() \u001b[39min\u001b[39;00m {\u001b[39m\"\u001b[39m\u001b[39mTLSv1\u001b[39m\u001b[39m\"\u001b[39m, \u001b[39m\"\u001b[39m\u001b[39mTLSv1.1\u001b[39m\u001b[39m\"\u001b[39m}\n\u001b[0;32m    435\u001b[0m ):\n",
      "File \u001b[1;32mc:\\Users\\jluong\\Miniconda3\\envs\\strava_api_env\\Lib\\site-packages\\urllib3\\util\\ssl_.py:402\u001b[0m, in \u001b[0;36mssl_wrap_socket\u001b[1;34m(sock, keyfile, certfile, cert_reqs, ca_certs, server_hostname, ssl_version, ciphers, ssl_context, ca_cert_dir, key_password, ca_cert_data, tls_in_tls)\u001b[0m\n\u001b[0;32m    400\u001b[0m \u001b[39mif\u001b[39;00m ca_certs \u001b[39mor\u001b[39;00m ca_cert_dir \u001b[39mor\u001b[39;00m ca_cert_data:\n\u001b[0;32m    401\u001b[0m     \u001b[39mtry\u001b[39;00m:\n\u001b[1;32m--> 402\u001b[0m         context\u001b[39m.\u001b[39;49mload_verify_locations(ca_certs, ca_cert_dir, ca_cert_data)\n\u001b[0;32m    403\u001b[0m     \u001b[39mexcept\u001b[39;00m (\u001b[39mIOError\u001b[39;00m, \u001b[39mOSError\u001b[39;00m) \u001b[39mas\u001b[39;00m e:\n\u001b[0;32m    404\u001b[0m         \u001b[39mraise\u001b[39;00m SSLError(e)\n",
      "\u001b[1;31mKeyboardInterrupt\u001b[0m: "
     ]
    }
   ],
   "source": [
    "# add decoded summary polylines\n",
    "activities['map.polyline'] = activities['map.summary_polyline'].apply(polyline.decode)\n",
    "print(\"turkey\")\n",
    "#####################\n",
    "# define function to get elevation data using the open-elevation API\n",
    "def get_elevation(latitude, longitude):\n",
    "    base_url = 'https://api.open-elevation.com/api/v1/lookup'\n",
    "    payload = {'locations': f'{latitude},{longitude}'}\n",
    "    r = requests.get(base_url, params=payload).json()['results'][0]\n",
    "    return r['elevation']\n",
    "# get elevation data\n",
    "elevation_data = list()\n",
    "for idx in tqdm(activities.index):\n",
    "    activity = activities.loc[idx, :]\n",
    "    elevation = [get_elevation(coord[0], coord[1]) for coord in activity['map.polyline']]\n",
    "    elevation_data.append(elevation)"
   ]
  },
  {
   "cell_type": "code",
   "execution_count": null,
   "metadata": {},
   "outputs": [],
   "source": [
    "# add elevation data to dataframe\n",
    "activities['map.elevation'] = elevation_data"
   ]
  },
  {
   "cell_type": "code",
   "execution_count": 7,
   "metadata": {},
   "outputs": [],
   "source": [
    "# Make a copy of activities DataFrame for feature engineering\n",
    "activities_copy = activities.copy()"
   ]
  },
  {
   "cell_type": "code",
   "execution_count": 8,
   "metadata": {},
   "outputs": [
    {
     "name": "stdout",
     "output_type": "stream",
     "text": [
      "94\n"
     ]
    }
   ],
   "source": [
    "# filter down to Ride, Run, and Swim activities\n",
    "activities_copy = activities_copy.query(\"type == 'Ride' | type == 'Run' | type == 'Swim'\")\n",
    "print(len(activities_copy))"
   ]
  },
  {
   "cell_type": "code",
   "execution_count": 9,
   "metadata": {},
   "outputs": [
    {
     "name": "stderr",
     "output_type": "stream",
     "text": [
      "C:\\Users\\jimmy\\AppData\\Local\\Temp\\ipykernel_22940\\363641948.py:2: FutureWarning: In a future version, `df.iloc[:, i] = newvals` will attempt to set the values inplace instead of always setting a new array. To retain the old behavior, use either `df[df.columns[i]] = newvals` or, if columns are non-unique, `df.isetitem(i, newvals)`\n",
      "  activities_copy.loc[:, 'start_date'] = pd.to_datetime(activities_copy['start_date']).dt.tz_localize(None)\n",
      "C:\\Users\\jimmy\\AppData\\Local\\Temp\\ipykernel_22940\\363641948.py:3: FutureWarning: In a future version, `df.iloc[:, i] = newvals` will attempt to set the values inplace instead of always setting a new array. To retain the old behavior, use either `df[df.columns[i]] = newvals` or, if columns are non-unique, `df.isetitem(i, newvals)`\n",
      "  activities_copy.loc[:, 'start_date_local'] = pd.to_datetime(activities_copy['start_date_local']).dt.tz_localize(None)\n"
     ]
    }
   ],
   "source": [
    "# convert data types\n",
    "activities_copy.loc[:, 'start_date'] = pd.to_datetime(activities_copy['start_date']).dt.tz_localize(None)\n",
    "activities_copy.loc[:, 'start_date_local'] = pd.to_datetime(activities_copy['start_date_local']).dt.tz_localize(None)\n",
    "# convert values\n",
    "activities_copy.loc[:, 'distance'] /= 1609.344 # convert from meters to miles\n",
    "activities_copy.loc[:, 'average_speed'] *= 2.23693629 # convert from meters/second to miles/hour\n",
    "activities_copy.loc[:, 'max_speed'] *= 2.23693629 # convert from meters/second to miles/hour\n",
    "# set index\n",
    "activities_copy.set_index('start_date_local', inplace=True)"
   ]
  },
  {
   "cell_type": "code",
   "execution_count": 14,
   "metadata": {},
   "outputs": [
    {
     "data": {
      "text/html": [
       "<div>\n",
       "<style scoped>\n",
       "    .dataframe tbody tr th:only-of-type {\n",
       "        vertical-align: middle;\n",
       "    }\n",
       "\n",
       "    .dataframe tbody tr th {\n",
       "        vertical-align: top;\n",
       "    }\n",
       "\n",
       "    .dataframe thead th {\n",
       "        text-align: right;\n",
       "    }\n",
       "</style>\n",
       "<table border=\"1\" class=\"dataframe\">\n",
       "  <thead>\n",
       "    <tr style=\"text-align: right;\">\n",
       "      <th></th>\n",
       "      <th>resource_state</th>\n",
       "      <th>name</th>\n",
       "      <th>distance</th>\n",
       "      <th>moving_time</th>\n",
       "      <th>elapsed_time</th>\n",
       "      <th>total_elevation_gain</th>\n",
       "      <th>type</th>\n",
       "      <th>sport_type</th>\n",
       "      <th>workout_type</th>\n",
       "      <th>id</th>\n",
       "      <th>...</th>\n",
       "      <th>athlete.id</th>\n",
       "      <th>athlete.resource_state</th>\n",
       "      <th>map.id</th>\n",
       "      <th>map.summary_polyline</th>\n",
       "      <th>map.resource_state</th>\n",
       "      <th>average_heartrate</th>\n",
       "      <th>max_heartrate</th>\n",
       "      <th>suffer_score</th>\n",
       "      <th>average_cadence</th>\n",
       "      <th>start_time</th>\n",
       "    </tr>\n",
       "    <tr>\n",
       "      <th>start_date_local</th>\n",
       "      <th></th>\n",
       "      <th></th>\n",
       "      <th></th>\n",
       "      <th></th>\n",
       "      <th></th>\n",
       "      <th></th>\n",
       "      <th></th>\n",
       "      <th></th>\n",
       "      <th></th>\n",
       "      <th></th>\n",
       "      <th></th>\n",
       "      <th></th>\n",
       "      <th></th>\n",
       "      <th></th>\n",
       "      <th></th>\n",
       "      <th></th>\n",
       "      <th></th>\n",
       "      <th></th>\n",
       "      <th></th>\n",
       "      <th></th>\n",
       "      <th></th>\n",
       "    </tr>\n",
       "  </thead>\n",
       "  <tbody>\n",
       "    <tr>\n",
       "      <th>2023-01-19</th>\n",
       "      <td>2</td>\n",
       "      <td>Afternoon ride</td>\n",
       "      <td>5.599052</td>\n",
       "      <td>1797</td>\n",
       "      <td>1901</td>\n",
       "      <td>5.1</td>\n",
       "      <td>Ride</td>\n",
       "      <td>Ride</td>\n",
       "      <td>10.0</td>\n",
       "      <td>8419675852</td>\n",
       "      <td>...</td>\n",
       "      <td>43537797</td>\n",
       "      <td>1</td>\n",
       "      <td>a8419675852</td>\n",
       "      <td>a|ijFntcdVk@nBQt@IRGl@}ArF_@zCCHEDOdAYlA[XSd@K...</td>\n",
       "      <td>2</td>\n",
       "      <td>NaN</td>\n",
       "      <td>NaN</td>\n",
       "      <td>NaN</td>\n",
       "      <td>NaN</td>\n",
       "      <td>13:40:49</td>\n",
       "    </tr>\n",
       "    <tr>\n",
       "      <th>2023-01-19</th>\n",
       "      <td>2</td>\n",
       "      <td>First NFS team ride. Saw 10+ deer!</td>\n",
       "      <td>30.031740</td>\n",
       "      <td>8518</td>\n",
       "      <td>8962</td>\n",
       "      <td>84.6</td>\n",
       "      <td>Ride</td>\n",
       "      <td>Ride</td>\n",
       "      <td>10.0</td>\n",
       "      <td>8417951962</td>\n",
       "      <td>...</td>\n",
       "      <td>43537797</td>\n",
       "      <td>1</td>\n",
       "      <td>a8417951962</td>\n",
       "      <td>gtijFf{qdVCcAqNyGGk@zGmZhI}e@nA{DLmBm@kCxJ_m@K...</td>\n",
       "      <td>2</td>\n",
       "      <td>108.8</td>\n",
       "      <td>152.0</td>\n",
       "      <td>26.0</td>\n",
       "      <td>NaN</td>\n",
       "      <td>05:49:02</td>\n",
       "    </tr>\n",
       "    <tr>\n",
       "      <th>2023-01-18</th>\n",
       "      <td>2</td>\n",
       "      <td>Testing out the old Schwinn Paramount</td>\n",
       "      <td>4.046556</td>\n",
       "      <td>1287</td>\n",
       "      <td>1417</td>\n",
       "      <td>20.1</td>\n",
       "      <td>Ride</td>\n",
       "      <td>Ride</td>\n",
       "      <td>10.0</td>\n",
       "      <td>8414026073</td>\n",
       "      <td>...</td>\n",
       "      <td>43537797</td>\n",
       "      <td>1</td>\n",
       "      <td>a8414026073</td>\n",
       "      <td>ybijFdtadVCi@@OKo@g@SKAkCAqAB_@Cw@DaBBcA@a@CW?...</td>\n",
       "      <td>2</td>\n",
       "      <td>NaN</td>\n",
       "      <td>NaN</td>\n",
       "      <td>NaN</td>\n",
       "      <td>NaN</td>\n",
       "      <td>12:00:23</td>\n",
       "    </tr>\n",
       "    <tr>\n",
       "      <th>2023-01-18</th>\n",
       "      <td>2</td>\n",
       "      <td>FF W3 - Hill Repeats</td>\n",
       "      <td>7.520766</td>\n",
       "      <td>4473</td>\n",
       "      <td>6386</td>\n",
       "      <td>85.7</td>\n",
       "      <td>Run</td>\n",
       "      <td>Run</td>\n",
       "      <td>0.0</td>\n",
       "      <td>8412436546</td>\n",
       "      <td>...</td>\n",
       "      <td>43537797</td>\n",
       "      <td>1</td>\n",
       "      <td>a8412436546</td>\n",
       "      <td>wqijFxdrdVRmC\\gBNMLFd@f@|@XnCxAlCjAzAz@`EdBxBp...</td>\n",
       "      <td>2</td>\n",
       "      <td>151.6</td>\n",
       "      <td>178.0</td>\n",
       "      <td>106.0</td>\n",
       "      <td>NaN</td>\n",
       "      <td>05:29:27</td>\n",
       "    </tr>\n",
       "    <tr>\n",
       "      <th>2023-01-17</th>\n",
       "      <td>2</td>\n",
       "      <td>Taking the scenic route back</td>\n",
       "      <td>10.232989</td>\n",
       "      <td>3464</td>\n",
       "      <td>3861</td>\n",
       "      <td>31.1</td>\n",
       "      <td>Ride</td>\n",
       "      <td>Ride</td>\n",
       "      <td>10.0</td>\n",
       "      <td>8409775003</td>\n",
       "      <td>...</td>\n",
       "      <td>43537797</td>\n",
       "      <td>1</td>\n",
       "      <td>a8409775003</td>\n",
       "      <td>_dijFfpadVsOLg@Ca@DOCuCDuAPiAb@_At@qAhB_@b@iAf...</td>\n",
       "      <td>2</td>\n",
       "      <td>NaN</td>\n",
       "      <td>NaN</td>\n",
       "      <td>NaN</td>\n",
       "      <td>NaN</td>\n",
       "      <td>16:30:44</td>\n",
       "    </tr>\n",
       "  </tbody>\n",
       "</table>\n",
       "<p>5 rows × 54 columns</p>\n",
       "</div>"
      ],
      "text/plain": [
       "                  resource_state                                   name  \\\n",
       "start_date_local                                                          \n",
       "2023-01-19                     2                         Afternoon ride   \n",
       "2023-01-19                     2     First NFS team ride. Saw 10+ deer!   \n",
       "2023-01-18                     2  Testing out the old Schwinn Paramount   \n",
       "2023-01-18                     2                  FF W3 - Hill Repeats    \n",
       "2023-01-17                     2           Taking the scenic route back   \n",
       "\n",
       "                   distance  moving_time  elapsed_time  total_elevation_gain  \\\n",
       "start_date_local                                                               \n",
       "2023-01-19         5.599052         1797          1901                   5.1   \n",
       "2023-01-19        30.031740         8518          8962                  84.6   \n",
       "2023-01-18         4.046556         1287          1417                  20.1   \n",
       "2023-01-18         7.520766         4473          6386                  85.7   \n",
       "2023-01-17        10.232989         3464          3861                  31.1   \n",
       "\n",
       "                  type sport_type  workout_type          id  ... athlete.id  \\\n",
       "start_date_local                                             ...              \n",
       "2023-01-19        Ride       Ride          10.0  8419675852  ...   43537797   \n",
       "2023-01-19        Ride       Ride          10.0  8417951962  ...   43537797   \n",
       "2023-01-18        Ride       Ride          10.0  8414026073  ...   43537797   \n",
       "2023-01-18         Run        Run           0.0  8412436546  ...   43537797   \n",
       "2023-01-17        Ride       Ride          10.0  8409775003  ...   43537797   \n",
       "\n",
       "                 athlete.resource_state       map.id  \\\n",
       "start_date_local                                       \n",
       "2023-01-19                            1  a8419675852   \n",
       "2023-01-19                            1  a8417951962   \n",
       "2023-01-18                            1  a8414026073   \n",
       "2023-01-18                            1  a8412436546   \n",
       "2023-01-17                            1  a8409775003   \n",
       "\n",
       "                                               map.summary_polyline  \\\n",
       "start_date_local                                                      \n",
       "2023-01-19        a|ijFntcdVk@nBQt@IRGl@}ArF_@zCCHEDOdAYlA[XSd@K...   \n",
       "2023-01-19        gtijFf{qdVCcAqNyGGk@zGmZhI}e@nA{DLmBm@kCxJ_m@K...   \n",
       "2023-01-18        ybijFdtadVCi@@OKo@g@SKAkCAqAB_@Cw@DaBBcA@a@CW?...   \n",
       "2023-01-18        wqijFxdrdVRmC\\gBNMLFd@f@|@XnCxAlCjAzAz@`EdBxBp...   \n",
       "2023-01-17        _dijFfpadVsOLg@Ca@DOCuCDuAPiAb@_At@qAhB_@b@iAf...   \n",
       "\n",
       "                 map.resource_state average_heartrate  max_heartrate  \\\n",
       "start_date_local                                                       \n",
       "2023-01-19                        2               NaN            NaN   \n",
       "2023-01-19                        2             108.8          152.0   \n",
       "2023-01-18                        2               NaN            NaN   \n",
       "2023-01-18                        2             151.6          178.0   \n",
       "2023-01-17                        2               NaN            NaN   \n",
       "\n",
       "                  suffer_score  average_cadence  start_time  \n",
       "start_date_local                                             \n",
       "2023-01-19                 NaN              NaN    13:40:49  \n",
       "2023-01-19                26.0              NaN    05:49:02  \n",
       "2023-01-18                 NaN              NaN    12:00:23  \n",
       "2023-01-18               106.0              NaN    05:29:27  \n",
       "2023-01-17                 NaN              NaN    16:30:44  \n",
       "\n",
       "[5 rows x 54 columns]"
      ]
     },
     "execution_count": 14,
     "metadata": {},
     "output_type": "execute_result"
    }
   ],
   "source": [
    "activities_copy.head()"
   ]
  },
  {
   "cell_type": "code",
   "execution_count": 10,
   "metadata": {},
   "outputs": [
    {
     "data": {
      "text/html": [
       "<div>\n",
       "<style scoped>\n",
       "    .dataframe tbody tr th:only-of-type {\n",
       "        vertical-align: middle;\n",
       "    }\n",
       "\n",
       "    .dataframe tbody tr th {\n",
       "        vertical-align: top;\n",
       "    }\n",
       "\n",
       "    .dataframe thead th {\n",
       "        text-align: right;\n",
       "    }\n",
       "</style>\n",
       "<table border=\"1\" class=\"dataframe\">\n",
       "  <thead>\n",
       "    <tr style=\"text-align: right;\">\n",
       "      <th></th>\n",
       "      <th>type</th>\n",
       "      <th>distance</th>\n",
       "    </tr>\n",
       "  </thead>\n",
       "  <tbody>\n",
       "    <tr>\n",
       "      <th>0</th>\n",
       "      <td>Ride</td>\n",
       "      <td>173.949075</td>\n",
       "    </tr>\n",
       "    <tr>\n",
       "      <th>1</th>\n",
       "      <td>Run</td>\n",
       "      <td>162.178254</td>\n",
       "    </tr>\n",
       "    <tr>\n",
       "      <th>2</th>\n",
       "      <td>Swim</td>\n",
       "      <td>0.994194</td>\n",
       "    </tr>\n",
       "  </tbody>\n",
       "</table>\n",
       "</div>"
      ],
      "text/plain": [
       "   type    distance\n",
       "0  Ride  173.949075\n",
       "1   Run  162.178254\n",
       "2  Swim    0.994194"
      ]
     },
     "execution_count": 10,
     "metadata": {},
     "output_type": "execute_result"
    }
   ],
   "source": [
    "miles_per_activity = pd.DataFrame(activities_copy.groupby(['type'])['distance'].sum().reset_index())\n",
    "miles_per_activity"
   ]
  },
  {
   "cell_type": "code",
   "execution_count": 52,
   "metadata": {},
   "outputs": [
    {
     "data": {
      "text/plain": [
       "pandas.core.frame.DataFrame"
      ]
     },
     "execution_count": 52,
     "metadata": {},
     "output_type": "execute_result"
    }
   ],
   "source": [
    "type(miles_per_activity)"
   ]
  },
  {
   "cell_type": "code",
   "execution_count": 11,
   "metadata": {},
   "outputs": [
    {
     "name": "stdout",
     "output_type": "stream",
     "text": [
      "160 32 4.0\n"
     ]
    }
   ],
   "source": [
    "# Set monthly goals in miles per activity\n",
    "practice_sessions = 8\n",
    "\n",
    "# 20 mile ride per session\n",
    "ride_goal = 20 * practice_sessions\n",
    "\n",
    "# 4 mile run per session\n",
    "run_goal = 4 * practice_sessions\n",
    "\n",
    "# half-mile swim per session\n",
    "swim_goal = 0.5 * practice_sessions\n",
    "print(ride_goal, run_goal, swim_goal)"
   ]
  },
  {
   "cell_type": "code",
   "execution_count": 12,
   "metadata": {},
   "outputs": [
    {
     "data": {
      "text/plain": [
       "-13.94907490256901"
      ]
     },
     "execution_count": 12,
     "metadata": {},
     "output_type": "execute_result"
    }
   ],
   "source": [
    "dif_ride_miles = ride_goal - miles_per_activity['distance'][0]\n",
    "dif_ride_miles"
   ]
  },
  {
   "cell_type": "code",
   "execution_count": 13,
   "metadata": {},
   "outputs": [
    {
     "name": "stdout",
     "output_type": "stream",
     "text": [
      "You need to ride -13.94907490256901 to meet your goal this month!\n"
     ]
    }
   ],
   "source": [
    "print(\"You need to ride \" + str(dif_ride_miles) + \" to meet your goal this month!\")"
   ]
  },
  {
   "cell_type": "code",
   "execution_count": null,
   "metadata": {},
   "outputs": [],
   "source": [
    "# filter activities based on start time per month???"
   ]
  },
  {
   "cell_type": "code",
   "execution_count": null,
   "metadata": {},
   "outputs": [],
   "source": [
    "# next step: Refer to Pamela Fox's best practices video.\n",
    "# not for linting, but for managing git"
   ]
  },
  {
   "cell_type": "code",
   "execution_count": 15,
   "metadata": {},
   "outputs": [],
   "source": [
    "import plotly.express as px"
   ]
  },
  {
   "cell_type": "code",
   "execution_count": null,
   "metadata": {},
   "outputs": [],
   "source": []
  },
  {
   "cell_type": "code",
   "execution_count": 16,
   "metadata": {},
   "outputs": [
    {
     "data": {
      "application/vnd.plotly.v1+json": {
       "config": {
        "plotlyServerURL": "https://plot.ly"
       },
       "data": [
        {
         "alignmentgroup": "True",
         "boxpoints": "all",
         "hovertemplate": "sport_type=Ride<br>distance=%{x}<extra></extra>",
         "legendgroup": "Ride",
         "marker": {
          "color": "#636efa"
         },
         "name": "Ride",
         "notched": false,
         "offsetgroup": "Ride",
         "orientation": "h",
         "showlegend": true,
         "type": "box",
         "x": [
          5.5990515390121685,
          30.031739640499485,
          4.04655561520719,
          10.23298934224131,
          6.08173268114213,
          19.68286457090591,
          6.0953407102521275,
          6.258326373975979,
          6.287717231368807,
          5.079585222301758,
          4.000014912908614,
          4.000014912908614,
          20.289819951483338,
          9.848795534080967,
          6.500039767756302,
          7.130980076354092,
          4.326918297144675,
          7.248605643044619,
          5.419785950051698,
          5.788196929929214
         ],
         "x0": " ",
         "xaxis": "x",
         "y0": " ",
         "yaxis": "y"
        },
        {
         "alignmentgroup": "True",
         "boxpoints": "all",
         "hovertemplate": "sport_type=Run<br>distance=%{x}<extra></extra>",
         "legendgroup": "Run",
         "marker": {
          "color": "#EF553B"
         },
         "name": "Run",
         "notched": false,
         "offsetgroup": "Run",
         "orientation": "h",
         "showlegend": true,
         "type": "box",
         "x": [
          7.5207662252445715,
          2.885399268273284,
          4.127706692913385,
          4.028287302155412,
          3.1586161815000398,
          3.9974051539012168,
          0.9999726596675415,
          2.525314662371749,
          2.6508316432036905,
          0.9999726596675415,
          0.9999726596675415,
          4.300012924520798,
          1.2989764773721466,
          2.0958850314165276,
          2.8048074246401016,
          1.5054581245526129,
          1.179113974389565,
          0.991708422810785,
          1.3539678278851506,
          1.298665791776028,
          0.8430764336276146,
          0.884024795196055,
          6.427836435218325,
          0.9802130557543943,
          0.6789723017577348,
          0.7644729778095919,
          1.306370794559771,
          2.004357054799968,
          0.8400317147856519,
          2.0092037500994193,
          6.969609977730056,
          3.6908206076513164,
          2.5043744531933507,
          4.1920807484291736,
          1.0105359699355763,
          0.7271285691561282,
          3.161598763222779,
          2.9697814761791137,
          0.8537018810148732,
          1.1137457249661975,
          0.9168953312654099,
          1.269523482860097,
          1.3043202696253877,
          0.9997241111906466,
          1.7733312455261274,
          2.8674416408176246,
          3.281399129086137,
          5.059763481269386,
          4.0190910085102995,
          1.045767716535433,
          1.4370451562872821,
          1.5040911079296906,
          1.4833994472281875,
          0.7769004016543386,
          1.3229614053925076,
          6.052031138153184,
          2.622559253956892,
          3.1136289071820564,
          3.47601258649487,
          1.52938091545375,
          1.6013978366340569,
          1.630540145549988,
          4.5413534955857795,
          1.482529527559055,
          1.787125685993796,
          1.6682573769187943,
          2.0051648373498767,
          1.5916423089159308,
          1.1017532609560168,
          1.816951503221188,
          1.688141255070389,
          0.7533504334685437
         ],
         "x0": " ",
         "xaxis": "x",
         "y0": " ",
         "yaxis": "y"
        },
        {
         "alignmentgroup": "True",
         "boxpoints": "all",
         "hovertemplate": "sport_type=Swim<br>distance=%{x}<extra></extra>",
         "legendgroup": "Swim",
         "marker": {
          "color": "#00cc96"
         },
         "name": "Swim",
         "notched": false,
         "offsetgroup": "Swim",
         "orientation": "h",
         "showlegend": true,
         "type": "box",
         "x": [
          0.9941939075797344,
          0
         ],
         "x0": " ",
         "xaxis": "x",
         "y0": " ",
         "yaxis": "y"
        }
       ],
       "layout": {
        "boxmode": "group",
        "legend": {
         "title": {
          "text": "sport_type"
         },
         "tracegroupgap": 0
        },
        "template": {
         "data": {
          "bar": [
           {
            "error_x": {
             "color": "#2a3f5f"
            },
            "error_y": {
             "color": "#2a3f5f"
            },
            "marker": {
             "line": {
              "color": "#E5ECF6",
              "width": 0.5
             },
             "pattern": {
              "fillmode": "overlay",
              "size": 10,
              "solidity": 0.2
             }
            },
            "type": "bar"
           }
          ],
          "barpolar": [
           {
            "marker": {
             "line": {
              "color": "#E5ECF6",
              "width": 0.5
             },
             "pattern": {
              "fillmode": "overlay",
              "size": 10,
              "solidity": 0.2
             }
            },
            "type": "barpolar"
           }
          ],
          "carpet": [
           {
            "aaxis": {
             "endlinecolor": "#2a3f5f",
             "gridcolor": "white",
             "linecolor": "white",
             "minorgridcolor": "white",
             "startlinecolor": "#2a3f5f"
            },
            "baxis": {
             "endlinecolor": "#2a3f5f",
             "gridcolor": "white",
             "linecolor": "white",
             "minorgridcolor": "white",
             "startlinecolor": "#2a3f5f"
            },
            "type": "carpet"
           }
          ],
          "choropleth": [
           {
            "colorbar": {
             "outlinewidth": 0,
             "ticks": ""
            },
            "type": "choropleth"
           }
          ],
          "contour": [
           {
            "colorbar": {
             "outlinewidth": 0,
             "ticks": ""
            },
            "colorscale": [
             [
              0,
              "#0d0887"
             ],
             [
              0.1111111111111111,
              "#46039f"
             ],
             [
              0.2222222222222222,
              "#7201a8"
             ],
             [
              0.3333333333333333,
              "#9c179e"
             ],
             [
              0.4444444444444444,
              "#bd3786"
             ],
             [
              0.5555555555555556,
              "#d8576b"
             ],
             [
              0.6666666666666666,
              "#ed7953"
             ],
             [
              0.7777777777777778,
              "#fb9f3a"
             ],
             [
              0.8888888888888888,
              "#fdca26"
             ],
             [
              1,
              "#f0f921"
             ]
            ],
            "type": "contour"
           }
          ],
          "contourcarpet": [
           {
            "colorbar": {
             "outlinewidth": 0,
             "ticks": ""
            },
            "type": "contourcarpet"
           }
          ],
          "heatmap": [
           {
            "colorbar": {
             "outlinewidth": 0,
             "ticks": ""
            },
            "colorscale": [
             [
              0,
              "#0d0887"
             ],
             [
              0.1111111111111111,
              "#46039f"
             ],
             [
              0.2222222222222222,
              "#7201a8"
             ],
             [
              0.3333333333333333,
              "#9c179e"
             ],
             [
              0.4444444444444444,
              "#bd3786"
             ],
             [
              0.5555555555555556,
              "#d8576b"
             ],
             [
              0.6666666666666666,
              "#ed7953"
             ],
             [
              0.7777777777777778,
              "#fb9f3a"
             ],
             [
              0.8888888888888888,
              "#fdca26"
             ],
             [
              1,
              "#f0f921"
             ]
            ],
            "type": "heatmap"
           }
          ],
          "heatmapgl": [
           {
            "colorbar": {
             "outlinewidth": 0,
             "ticks": ""
            },
            "colorscale": [
             [
              0,
              "#0d0887"
             ],
             [
              0.1111111111111111,
              "#46039f"
             ],
             [
              0.2222222222222222,
              "#7201a8"
             ],
             [
              0.3333333333333333,
              "#9c179e"
             ],
             [
              0.4444444444444444,
              "#bd3786"
             ],
             [
              0.5555555555555556,
              "#d8576b"
             ],
             [
              0.6666666666666666,
              "#ed7953"
             ],
             [
              0.7777777777777778,
              "#fb9f3a"
             ],
             [
              0.8888888888888888,
              "#fdca26"
             ],
             [
              1,
              "#f0f921"
             ]
            ],
            "type": "heatmapgl"
           }
          ],
          "histogram": [
           {
            "marker": {
             "pattern": {
              "fillmode": "overlay",
              "size": 10,
              "solidity": 0.2
             }
            },
            "type": "histogram"
           }
          ],
          "histogram2d": [
           {
            "colorbar": {
             "outlinewidth": 0,
             "ticks": ""
            },
            "colorscale": [
             [
              0,
              "#0d0887"
             ],
             [
              0.1111111111111111,
              "#46039f"
             ],
             [
              0.2222222222222222,
              "#7201a8"
             ],
             [
              0.3333333333333333,
              "#9c179e"
             ],
             [
              0.4444444444444444,
              "#bd3786"
             ],
             [
              0.5555555555555556,
              "#d8576b"
             ],
             [
              0.6666666666666666,
              "#ed7953"
             ],
             [
              0.7777777777777778,
              "#fb9f3a"
             ],
             [
              0.8888888888888888,
              "#fdca26"
             ],
             [
              1,
              "#f0f921"
             ]
            ],
            "type": "histogram2d"
           }
          ],
          "histogram2dcontour": [
           {
            "colorbar": {
             "outlinewidth": 0,
             "ticks": ""
            },
            "colorscale": [
             [
              0,
              "#0d0887"
             ],
             [
              0.1111111111111111,
              "#46039f"
             ],
             [
              0.2222222222222222,
              "#7201a8"
             ],
             [
              0.3333333333333333,
              "#9c179e"
             ],
             [
              0.4444444444444444,
              "#bd3786"
             ],
             [
              0.5555555555555556,
              "#d8576b"
             ],
             [
              0.6666666666666666,
              "#ed7953"
             ],
             [
              0.7777777777777778,
              "#fb9f3a"
             ],
             [
              0.8888888888888888,
              "#fdca26"
             ],
             [
              1,
              "#f0f921"
             ]
            ],
            "type": "histogram2dcontour"
           }
          ],
          "mesh3d": [
           {
            "colorbar": {
             "outlinewidth": 0,
             "ticks": ""
            },
            "type": "mesh3d"
           }
          ],
          "parcoords": [
           {
            "line": {
             "colorbar": {
              "outlinewidth": 0,
              "ticks": ""
             }
            },
            "type": "parcoords"
           }
          ],
          "pie": [
           {
            "automargin": true,
            "type": "pie"
           }
          ],
          "scatter": [
           {
            "fillpattern": {
             "fillmode": "overlay",
             "size": 10,
             "solidity": 0.2
            },
            "type": "scatter"
           }
          ],
          "scatter3d": [
           {
            "line": {
             "colorbar": {
              "outlinewidth": 0,
              "ticks": ""
             }
            },
            "marker": {
             "colorbar": {
              "outlinewidth": 0,
              "ticks": ""
             }
            },
            "type": "scatter3d"
           }
          ],
          "scattercarpet": [
           {
            "marker": {
             "colorbar": {
              "outlinewidth": 0,
              "ticks": ""
             }
            },
            "type": "scattercarpet"
           }
          ],
          "scattergeo": [
           {
            "marker": {
             "colorbar": {
              "outlinewidth": 0,
              "ticks": ""
             }
            },
            "type": "scattergeo"
           }
          ],
          "scattergl": [
           {
            "marker": {
             "colorbar": {
              "outlinewidth": 0,
              "ticks": ""
             }
            },
            "type": "scattergl"
           }
          ],
          "scattermapbox": [
           {
            "marker": {
             "colorbar": {
              "outlinewidth": 0,
              "ticks": ""
             }
            },
            "type": "scattermapbox"
           }
          ],
          "scatterpolar": [
           {
            "marker": {
             "colorbar": {
              "outlinewidth": 0,
              "ticks": ""
             }
            },
            "type": "scatterpolar"
           }
          ],
          "scatterpolargl": [
           {
            "marker": {
             "colorbar": {
              "outlinewidth": 0,
              "ticks": ""
             }
            },
            "type": "scatterpolargl"
           }
          ],
          "scatterternary": [
           {
            "marker": {
             "colorbar": {
              "outlinewidth": 0,
              "ticks": ""
             }
            },
            "type": "scatterternary"
           }
          ],
          "surface": [
           {
            "colorbar": {
             "outlinewidth": 0,
             "ticks": ""
            },
            "colorscale": [
             [
              0,
              "#0d0887"
             ],
             [
              0.1111111111111111,
              "#46039f"
             ],
             [
              0.2222222222222222,
              "#7201a8"
             ],
             [
              0.3333333333333333,
              "#9c179e"
             ],
             [
              0.4444444444444444,
              "#bd3786"
             ],
             [
              0.5555555555555556,
              "#d8576b"
             ],
             [
              0.6666666666666666,
              "#ed7953"
             ],
             [
              0.7777777777777778,
              "#fb9f3a"
             ],
             [
              0.8888888888888888,
              "#fdca26"
             ],
             [
              1,
              "#f0f921"
             ]
            ],
            "type": "surface"
           }
          ],
          "table": [
           {
            "cells": {
             "fill": {
              "color": "#EBF0F8"
             },
             "line": {
              "color": "white"
             }
            },
            "header": {
             "fill": {
              "color": "#C8D4E3"
             },
             "line": {
              "color": "white"
             }
            },
            "type": "table"
           }
          ]
         },
         "layout": {
          "annotationdefaults": {
           "arrowcolor": "#2a3f5f",
           "arrowhead": 0,
           "arrowwidth": 1
          },
          "autotypenumbers": "strict",
          "coloraxis": {
           "colorbar": {
            "outlinewidth": 0,
            "ticks": ""
           }
          },
          "colorscale": {
           "diverging": [
            [
             0,
             "#8e0152"
            ],
            [
             0.1,
             "#c51b7d"
            ],
            [
             0.2,
             "#de77ae"
            ],
            [
             0.3,
             "#f1b6da"
            ],
            [
             0.4,
             "#fde0ef"
            ],
            [
             0.5,
             "#f7f7f7"
            ],
            [
             0.6,
             "#e6f5d0"
            ],
            [
             0.7,
             "#b8e186"
            ],
            [
             0.8,
             "#7fbc41"
            ],
            [
             0.9,
             "#4d9221"
            ],
            [
             1,
             "#276419"
            ]
           ],
           "sequential": [
            [
             0,
             "#0d0887"
            ],
            [
             0.1111111111111111,
             "#46039f"
            ],
            [
             0.2222222222222222,
             "#7201a8"
            ],
            [
             0.3333333333333333,
             "#9c179e"
            ],
            [
             0.4444444444444444,
             "#bd3786"
            ],
            [
             0.5555555555555556,
             "#d8576b"
            ],
            [
             0.6666666666666666,
             "#ed7953"
            ],
            [
             0.7777777777777778,
             "#fb9f3a"
            ],
            [
             0.8888888888888888,
             "#fdca26"
            ],
            [
             1,
             "#f0f921"
            ]
           ],
           "sequentialminus": [
            [
             0,
             "#0d0887"
            ],
            [
             0.1111111111111111,
             "#46039f"
            ],
            [
             0.2222222222222222,
             "#7201a8"
            ],
            [
             0.3333333333333333,
             "#9c179e"
            ],
            [
             0.4444444444444444,
             "#bd3786"
            ],
            [
             0.5555555555555556,
             "#d8576b"
            ],
            [
             0.6666666666666666,
             "#ed7953"
            ],
            [
             0.7777777777777778,
             "#fb9f3a"
            ],
            [
             0.8888888888888888,
             "#fdca26"
            ],
            [
             1,
             "#f0f921"
            ]
           ]
          },
          "colorway": [
           "#636efa",
           "#EF553B",
           "#00cc96",
           "#ab63fa",
           "#FFA15A",
           "#19d3f3",
           "#FF6692",
           "#B6E880",
           "#FF97FF",
           "#FECB52"
          ],
          "font": {
           "color": "#2a3f5f"
          },
          "geo": {
           "bgcolor": "white",
           "lakecolor": "white",
           "landcolor": "#E5ECF6",
           "showlakes": true,
           "showland": true,
           "subunitcolor": "white"
          },
          "hoverlabel": {
           "align": "left"
          },
          "hovermode": "closest",
          "mapbox": {
           "style": "light"
          },
          "paper_bgcolor": "white",
          "plot_bgcolor": "#E5ECF6",
          "polar": {
           "angularaxis": {
            "gridcolor": "white",
            "linecolor": "white",
            "ticks": ""
           },
           "bgcolor": "#E5ECF6",
           "radialaxis": {
            "gridcolor": "white",
            "linecolor": "white",
            "ticks": ""
           }
          },
          "scene": {
           "xaxis": {
            "backgroundcolor": "#E5ECF6",
            "gridcolor": "white",
            "gridwidth": 2,
            "linecolor": "white",
            "showbackground": true,
            "ticks": "",
            "zerolinecolor": "white"
           },
           "yaxis": {
            "backgroundcolor": "#E5ECF6",
            "gridcolor": "white",
            "gridwidth": 2,
            "linecolor": "white",
            "showbackground": true,
            "ticks": "",
            "zerolinecolor": "white"
           },
           "zaxis": {
            "backgroundcolor": "#E5ECF6",
            "gridcolor": "white",
            "gridwidth": 2,
            "linecolor": "white",
            "showbackground": true,
            "ticks": "",
            "zerolinecolor": "white"
           }
          },
          "shapedefaults": {
           "line": {
            "color": "#2a3f5f"
           }
          },
          "ternary": {
           "aaxis": {
            "gridcolor": "white",
            "linecolor": "white",
            "ticks": ""
           },
           "baxis": {
            "gridcolor": "white",
            "linecolor": "white",
            "ticks": ""
           },
           "bgcolor": "#E5ECF6",
           "caxis": {
            "gridcolor": "white",
            "linecolor": "white",
            "ticks": ""
           }
          },
          "title": {
           "x": 0.05
          },
          "xaxis": {
           "automargin": true,
           "gridcolor": "white",
           "linecolor": "white",
           "ticks": "",
           "title": {
            "standoff": 15
           },
           "zerolinecolor": "white",
           "zerolinewidth": 2
          },
          "yaxis": {
           "automargin": true,
           "gridcolor": "white",
           "linecolor": "white",
           "ticks": "",
           "title": {
            "standoff": 15
           },
           "zerolinecolor": "white",
           "zerolinewidth": 2
          }
         }
        },
        "title": {
         "text": "1. Boxplot: Distance by Activity Type"
        },
        "xaxis": {
         "anchor": "y",
         "domain": [
          0,
          1
         ],
         "title": {
          "text": "distance"
         }
        },
        "yaxis": {
         "anchor": "x",
         "domain": [
          0,
          1
         ]
        }
       }
      }
     },
     "metadata": {},
     "output_type": "display_data"
    }
   ],
   "source": [
    "fig1 = px.box(\n",
    "    activities_copy, x = \"distance\", \n",
    "    title=\"1. Boxplot: Distance by Activity Type\", \n",
    "    color=\"sport_type\", \n",
    "    points=\"all\"\n",
    ")\n",
    "fig1.show() "
   ]
  }
 ],
 "metadata": {
  "kernelspec": {
   "display_name": "strava_api_env",
   "language": "python",
   "name": "python3"
  },
  "language_info": {
   "codemirror_mode": {
    "name": "ipython",
    "version": 3
   },
   "file_extension": ".py",
   "mimetype": "text/x-python",
   "name": "python",
   "nbconvert_exporter": "python",
   "pygments_lexer": "ipython3",
   "version": "3.11.0"
  },
  "orig_nbformat": 4,
  "vscode": {
   "interpreter": {
    "hash": "f5cbce73e02f143b2b16e0c2bdc10ad5d0782e042fa81f2b05e5264e96e07ae6"
   }
  }
 },
 "nbformat": 4,
 "nbformat_minor": 2
}
