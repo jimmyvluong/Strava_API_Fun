{
 "cells": [
  {
   "cell_type": "code",
   "execution_count": 1,
   "metadata": {},
   "outputs": [],
   "source": [
    "import pandas as pd"
   ]
  },
  {
   "cell_type": "code",
   "execution_count": 2,
   "metadata": {},
   "outputs": [],
   "source": [
    "my_ride = pd.DataFrame( {\"map.polyline\" : [(38.58233, -121.48709), (38.58243, -121.48759), (38.58273, -121.48845)]})\n",
    "\n",
    "\n"
   ]
  },
  {
   "cell_type": "code",
   "execution_count": 3,
   "metadata": {},
   "outputs": [
    {
     "data": {
      "text/plain": [
       "0    (38.58233, -121.48709)\n",
       "1    (38.58243, -121.48759)\n",
       "2    (38.58273, -121.48845)\n",
       "Name: map.polyline, dtype: object"
      ]
     },
     "execution_count": 3,
     "metadata": {},
     "output_type": "execute_result"
    }
   ],
   "source": [
    "my_ride['map.polyline']"
   ]
  },
  {
   "cell_type": "code",
   "execution_count": 4,
   "metadata": {},
   "outputs": [
    {
     "data": {
      "text/plain": [
       "(38.58233, -121.48709)"
      ]
     },
     "execution_count": 4,
     "metadata": {},
     "output_type": "execute_result"
    }
   ],
   "source": [
    "my_ride['map.polyline'][0]"
   ]
  },
  {
   "cell_type": "code",
   "execution_count": 6,
   "metadata": {},
   "outputs": [
    {
     "data": {
      "text/plain": [
       "38.58233"
      ]
     },
     "execution_count": 6,
     "metadata": {},
     "output_type": "execute_result"
    }
   ],
   "source": [
    "my_ride['map.polyline'][0][0]"
   ]
  },
  {
   "cell_type": "code",
   "execution_count": 10,
   "metadata": {},
   "outputs": [
    {
     "data": {
      "text/plain": [
       "3"
      ]
     },
     "execution_count": 10,
     "metadata": {},
     "output_type": "execute_result"
    }
   ],
   "source": [
    "len(my_ride['map.polyline'])"
   ]
  },
  {
   "cell_type": "code",
   "execution_count": 16,
   "metadata": {},
   "outputs": [],
   "source": [
    "polyline = [(38.58233, -121.48709), (38.58243, -121.48759), (38.58273, -121.48845)]"
   ]
  },
  {
   "cell_type": "code",
   "execution_count": 17,
   "metadata": {},
   "outputs": [
    {
     "data": {
      "text/plain": [
       "(38.58233, -121.48709)"
      ]
     },
     "execution_count": 17,
     "metadata": {},
     "output_type": "execute_result"
    }
   ],
   "source": [
    "polyline[0]"
   ]
  },
  {
   "cell_type": "code",
   "execution_count": 18,
   "metadata": {},
   "outputs": [
    {
     "name": "stdout",
     "output_type": "stream",
     "text": [
      "0\n",
      "1\n",
      "38.58233\n",
      "2\n",
      "38.58243\n",
      "3\n",
      "38.58273\n"
     ]
    }
   ],
   "source": [
    "centroid_lat_val = 0\n",
    "counter = 0\n",
    "while counter < len(my_ride['map.polyline']) - 1:\n",
    "    print(counter)\n",
    "    for index in my_ride['map.polyline']:\n",
    "        centroid_lat_val = my_ride['map.polyline'][counter][0]\n",
    "        counter += 1\n",
    "        print(counter)\n",
    "        print(centroid_lat_val)\n"
   ]
  },
  {
   "cell_type": "code",
   "execution_count": 23,
   "metadata": {},
   "outputs": [],
   "source": [
    "counter = 1"
   ]
  },
  {
   "cell_type": "code",
   "execution_count": 26,
   "metadata": {},
   "outputs": [
    {
     "name": "stdout",
     "output_type": "stream",
     "text": [
      "38.58243\n",
      "-121.48759\n"
     ]
    }
   ],
   "source": [
    "print(my_ride['map.polyline'][counter][0])\n",
    "print(my_ride['map.polyline'][counter][1])"
   ]
  },
  {
   "cell_type": "code",
   "execution_count": 27,
   "metadata": {},
   "outputs": [
    {
     "name": "stdout",
     "output_type": "stream",
     "text": [
      "38.58233\n",
      "[38.58233]\n",
      "38.58233\n",
      "38.58243\n",
      "[38.58233, 38.58243]\n",
      "38.58238\n",
      "38.58273\n",
      "[38.58233, 38.58243, 38.58273]\n",
      "38.582496666666664\n"
     ]
    }
   ],
   "source": [
    "import numpy as np\n",
    "# centroid_lat_val = 0\n",
    "centroid_lat_val_list = list()\n",
    "centroid_long_val_list = list()\n",
    "counter = 0\n",
    "for index in my_ride['map.polyline']:\n",
    "    centroid_lat_val = my_ride['map.polyline'][counter][0]\n",
    "    centroid_long_val = my_ride['map.polyline'][counter][1]\n",
    "    counter += 1\n",
    "    print(centroid_lat_val)\n",
    "    centroid_lat_val_list.append(centroid_lat_val)\n",
    "    centroid_long_val_list.append(centroid_long_val)\n",
    "    print(centroid_lat_val_list)\n",
    "    print(np.mean(centroid_lat_val_list))\n",
    "\n",
    "\n"
   ]
  },
  {
   "cell_type": "code",
   "execution_count": 29,
   "metadata": {},
   "outputs": [],
   "source": [
    "import numpy as np\n",
    "\n",
    "centroid_lat_val_list = list()\n",
    "centroid_long_val_list = list()\n",
    "counter = 0\n",
    "for idx in my_ride['map.polyline']:\n",
    "    centroid_lat_val = my_ride['map.polyline'][counter][0]\n",
    "    centroid_long_val = my_ride['map.polyline'][counter][1]\n",
    "    counter += 1\n",
    "    centroid_lat_val_list.append(centroid_lat_val)\n",
    "    centroid_long_val_list.append(centroid_long_val)"
   ]
  },
  {
   "cell_type": "code",
   "execution_count": 30,
   "metadata": {},
   "outputs": [
    {
     "name": "stdout",
     "output_type": "stream",
     "text": [
      "[38.582496666666664, -121.48770999999999]\n"
     ]
    }
   ],
   "source": [
    "centroid = [np.mean(centroid_lat_val_list), np.mean(centroid_long_val_list)]\n",
    "print(centroid)"
   ]
  },
  {
   "cell_type": "code",
   "execution_count": null,
   "metadata": {},
   "outputs": [],
   "source": []
  }
 ],
 "metadata": {
  "kernelspec": {
   "display_name": "Python 3.11.0 ('strava_api_env')",
   "language": "python",
   "name": "python3"
  },
  "language_info": {
   "codemirror_mode": {
    "name": "ipython",
    "version": 3
   },
   "file_extension": ".py",
   "mimetype": "text/x-python",
   "name": "python",
   "nbconvert_exporter": "python",
   "pygments_lexer": "ipython3",
   "version": "3.11.0 | packaged by conda-forge | (main, Oct 25 2022, 06:12:32) [MSC v.1929 64 bit (AMD64)]"
  },
  "orig_nbformat": 4,
  "vscode": {
   "interpreter": {
    "hash": "43d3d88ee0a7dceeb706b5e2351cee2554f8881a7d082468f764a496b8ef1647"
   }
  }
 },
 "nbformat": 4,
 "nbformat_minor": 2
}
