{
 "cells": [
  {
   "cell_type": "code",
   "execution_count": 1,
   "metadata": {},
   "outputs": [],
   "source": [
    "from datetime import datetime"
   ]
  },
  {
   "cell_type": "code",
   "execution_count": 2,
   "metadata": {},
   "outputs": [],
   "source": [
    "# import secrets and tokens from config.py\n",
    "from config import client_id, client_secret, refresh_token\n",
    "\n",
    "import requests\n",
    "import urllib3\n",
    "\n",
    "# import packages for data manipulation\n",
    "import pandas as pd\n",
    "from pandas.io.json import json_normalize\n",
    "import numpy as np\n",
    "\n",
    "urllib3.disable_warnings(urllib3.exceptions.InsecureRequestWarning)\n",
    "\n",
    "auth_url = \"https://www.strava.com/oauth/token\"\n",
    "activites_url = \"https://www.strava.com/api/v3/athlete/activities\"\n",
    "\n",
    "payload = {\n",
    "    'client_id': client_id,\n",
    "    'client_secret': client_secret,\n",
    "    'refresh_token': refresh_token,\n",
    "    'grant_type': \"refresh_token\",\n",
    "    'f': 'json'\n",
    "}"
   ]
  },
  {
   "cell_type": "code",
   "execution_count": 3,
   "metadata": {},
   "outputs": [
    {
     "name": "stdout",
     "output_type": "stream",
     "text": [
      "Requesting Token...\n",
      "\n",
      "Access Token = 914152ebe6f19f7fa6c2d00d1c80140eb850a199\n",
      "\n"
     ]
    }
   ],
   "source": [
    "print(\"Requesting Token...\\n\")\n",
    "res = requests.post(auth_url, data=payload, verify=False)\n",
    "access_token = res.json()['access_token']\n",
    "print(\"Access Token = {}\\n\".format(access_token))\n",
    "\n",
    "header = {'Authorization': 'Bearer ' + access_token}\n",
    "param = {'per_page': 200, 'page': 1}\n",
    "my_dataset = requests.get(activites_url, headers=header, params=param).json()"
   ]
  },
  {
   "cell_type": "code",
   "execution_count": 4,
   "metadata": {},
   "outputs": [],
   "source": [
    "activities = pd.json_normalize(my_dataset)"
   ]
  },
  {
   "cell_type": "code",
   "execution_count": 5,
   "metadata": {},
   "outputs": [
    {
     "data": {
      "text/plain": [
       "Index(['resource_state', 'name', 'distance', 'moving_time', 'elapsed_time',\n",
       "       'total_elevation_gain', 'type', 'sport_type', 'workout_type', 'id',\n",
       "       'start_date', 'start_date_local', 'timezone', 'utc_offset',\n",
       "       'location_city', 'location_state', 'location_country',\n",
       "       'achievement_count', 'kudos_count', 'comment_count', 'athlete_count',\n",
       "       'photo_count', 'trainer', 'commute', 'manual', 'private', 'visibility',\n",
       "       'flagged', 'gear_id', 'start_latlng', 'end_latlng', 'average_speed',\n",
       "       'max_speed', 'average_cadence', 'average_watts', 'max_watts',\n",
       "       'weighted_average_watts', 'kilojoules', 'device_watts', 'has_heartrate',\n",
       "       'average_heartrate', 'max_heartrate', 'heartrate_opt_out',\n",
       "       'display_hide_heartrate_option', 'elev_high', 'elev_low', 'upload_id',\n",
       "       'upload_id_str', 'external_id', 'from_accepted_tag', 'pr_count',\n",
       "       'total_photo_count', 'has_kudoed', 'suffer_score', 'athlete.id',\n",
       "       'athlete.resource_state', 'map.id', 'map.summary_polyline',\n",
       "       'map.resource_state', 'average_temp'],\n",
       "      dtype='object')"
      ]
     },
     "execution_count": 5,
     "metadata": {},
     "output_type": "execute_result"
    }
   ],
   "source": [
    "activities.columns "
   ]
  },
  {
   "cell_type": "code",
   "execution_count": 6,
   "metadata": {},
   "outputs": [
    {
     "data": {
      "text/html": [
       "<div>\n",
       "<style scoped>\n",
       "    .dataframe tbody tr th:only-of-type {\n",
       "        vertical-align: middle;\n",
       "    }\n",
       "\n",
       "    .dataframe tbody tr th {\n",
       "        vertical-align: top;\n",
       "    }\n",
       "\n",
       "    .dataframe thead th {\n",
       "        text-align: right;\n",
       "    }\n",
       "</style>\n",
       "<table border=\"1\" class=\"dataframe\">\n",
       "  <thead>\n",
       "    <tr style=\"text-align: right;\">\n",
       "      <th></th>\n",
       "      <th>resource_state</th>\n",
       "      <th>name</th>\n",
       "      <th>distance</th>\n",
       "      <th>moving_time</th>\n",
       "      <th>elapsed_time</th>\n",
       "      <th>total_elevation_gain</th>\n",
       "      <th>type</th>\n",
       "      <th>sport_type</th>\n",
       "      <th>workout_type</th>\n",
       "      <th>id</th>\n",
       "      <th>...</th>\n",
       "      <th>total_photo_count</th>\n",
       "      <th>has_kudoed</th>\n",
       "      <th>suffer_score</th>\n",
       "      <th>athlete.id</th>\n",
       "      <th>athlete.resource_state</th>\n",
       "      <th>map.id</th>\n",
       "      <th>map.summary_polyline</th>\n",
       "      <th>map.resource_state</th>\n",
       "      <th>average_temp</th>\n",
       "      <th>start_time</th>\n",
       "    </tr>\n",
       "  </thead>\n",
       "  <tbody>\n",
       "    <tr>\n",
       "      <th>0</th>\n",
       "      <td>2</td>\n",
       "      <td>Afternoon Run</td>\n",
       "      <td>4087.6</td>\n",
       "      <td>1345</td>\n",
       "      <td>1349</td>\n",
       "      <td>3.0</td>\n",
       "      <td>Run</td>\n",
       "      <td>Run</td>\n",
       "      <td>NaN</td>\n",
       "      <td>10489592906</td>\n",
       "      <td>...</td>\n",
       "      <td>0</td>\n",
       "      <td>False</td>\n",
       "      <td>23.0</td>\n",
       "      <td>43537797</td>\n",
       "      <td>1</td>\n",
       "      <td>a10489592906</td>\n",
       "      <td>omhjFnyvcV]Ri@b@c@b@c@r@a@fAIDE?GEiAkAYOOSyBiB...</td>\n",
       "      <td>2</td>\n",
       "      <td>NaN</td>\n",
       "      <td>17:00:41</td>\n",
       "    </tr>\n",
       "    <tr>\n",
       "      <th>1</th>\n",
       "      <td>2</td>\n",
       "      <td>Evening Weight Training</td>\n",
       "      <td>0.0</td>\n",
       "      <td>3602</td>\n",
       "      <td>3602</td>\n",
       "      <td>0.0</td>\n",
       "      <td>WeightTraining</td>\n",
       "      <td>WeightTraining</td>\n",
       "      <td>NaN</td>\n",
       "      <td>10483472946</td>\n",
       "      <td>...</td>\n",
       "      <td>0</td>\n",
       "      <td>False</td>\n",
       "      <td>11.0</td>\n",
       "      <td>43537797</td>\n",
       "      <td>1</td>\n",
       "      <td>a10483472946</td>\n",
       "      <td></td>\n",
       "      <td>2</td>\n",
       "      <td>NaN</td>\n",
       "      <td>19:45:11</td>\n",
       "    </tr>\n",
       "    <tr>\n",
       "      <th>2</th>\n",
       "      <td>2</td>\n",
       "      <td>Afternoon Run</td>\n",
       "      <td>5020.6</td>\n",
       "      <td>1819</td>\n",
       "      <td>1837</td>\n",
       "      <td>3.0</td>\n",
       "      <td>Run</td>\n",
       "      <td>Run</td>\n",
       "      <td>NaN</td>\n",
       "      <td>10476390069</td>\n",
       "      <td>...</td>\n",
       "      <td>0</td>\n",
       "      <td>False</td>\n",
       "      <td>37.0</td>\n",
       "      <td>43537797</td>\n",
       "      <td>1</td>\n",
       "      <td>a10476390069</td>\n",
       "      <td>aimjFdtidVZDdBl@TBd@Nf@TBHELWZAPF`@HZI\\DHBTCHE...</td>\n",
       "      <td>2</td>\n",
       "      <td>NaN</td>\n",
       "      <td>14:26:41</td>\n",
       "    </tr>\n",
       "    <tr>\n",
       "      <th>3</th>\n",
       "      <td>2</td>\n",
       "      <td>Morning Trail Run</td>\n",
       "      <td>21602.5</td>\n",
       "      <td>11258</td>\n",
       "      <td>11264</td>\n",
       "      <td>721.0</td>\n",
       "      <td>Run</td>\n",
       "      <td>TrailRun</td>\n",
       "      <td>0.0</td>\n",
       "      <td>10470281355</td>\n",
       "      <td>...</td>\n",
       "      <td>2</td>\n",
       "      <td>False</td>\n",
       "      <td>144.0</td>\n",
       "      <td>43537797</td>\n",
       "      <td>1</td>\n",
       "      <td>a10470281355</td>\n",
       "      <td>azjlFl}|aVCW|AsArBm@d@}@hD]dBiEqA_AMgBB}@pA_FJ...</td>\n",
       "      <td>2</td>\n",
       "      <td>NaN</td>\n",
       "      <td>08:49:13</td>\n",
       "    </tr>\n",
       "    <tr>\n",
       "      <th>4</th>\n",
       "      <td>2</td>\n",
       "      <td>Afternoon Run</td>\n",
       "      <td>3650.2</td>\n",
       "      <td>1383</td>\n",
       "      <td>1456</td>\n",
       "      <td>1.0</td>\n",
       "      <td>Run</td>\n",
       "      <td>Run</td>\n",
       "      <td>NaN</td>\n",
       "      <td>10465220968</td>\n",
       "      <td>...</td>\n",
       "      <td>0</td>\n",
       "      <td>False</td>\n",
       "      <td>5.0</td>\n",
       "      <td>43537797</td>\n",
       "      <td>1</td>\n",
       "      <td>a10465220968</td>\n",
       "      <td>ymhjFryvcVk@`@e@f@i@r@]p@M`@GFIAWYe@a@GKICKI_A...</td>\n",
       "      <td>2</td>\n",
       "      <td>NaN</td>\n",
       "      <td>16:45:22</td>\n",
       "    </tr>\n",
       "  </tbody>\n",
       "</table>\n",
       "<p>5 rows × 61 columns</p>\n",
       "</div>"
      ],
      "text/plain": [
       "   resource_state                     name  distance  moving_time  \\\n",
       "0               2            Afternoon Run    4087.6         1345   \n",
       "1               2  Evening Weight Training       0.0         3602   \n",
       "2               2            Afternoon Run    5020.6         1819   \n",
       "3               2        Morning Trail Run   21602.5        11258   \n",
       "4               2            Afternoon Run    3650.2         1383   \n",
       "\n",
       "   elapsed_time  total_elevation_gain            type      sport_type  \\\n",
       "0          1349                   3.0             Run             Run   \n",
       "1          3602                   0.0  WeightTraining  WeightTraining   \n",
       "2          1837                   3.0             Run             Run   \n",
       "3         11264                 721.0             Run        TrailRun   \n",
       "4          1456                   1.0             Run             Run   \n",
       "\n",
       "   workout_type           id  ... total_photo_count has_kudoed suffer_score  \\\n",
       "0           NaN  10489592906  ...                 0      False         23.0   \n",
       "1           NaN  10483472946  ...                 0      False         11.0   \n",
       "2           NaN  10476390069  ...                 0      False         37.0   \n",
       "3           0.0  10470281355  ...                 2      False        144.0   \n",
       "4           NaN  10465220968  ...                 0      False          5.0   \n",
       "\n",
       "   athlete.id athlete.resource_state        map.id  \\\n",
       "0    43537797                      1  a10489592906   \n",
       "1    43537797                      1  a10483472946   \n",
       "2    43537797                      1  a10476390069   \n",
       "3    43537797                      1  a10470281355   \n",
       "4    43537797                      1  a10465220968   \n",
       "\n",
       "                                map.summary_polyline  map.resource_state  \\\n",
       "0  omhjFnyvcV]Ri@b@c@b@c@r@a@fAIDE?GEiAkAYOOSyBiB...                   2   \n",
       "1                                                                      2   \n",
       "2  aimjFdtidVZDdBl@TBd@Nf@TBHELWZAPF`@HZI\\DHBTCHE...                   2   \n",
       "3  azjlFl}|aVCW|AsArBm@d@}@hD]dBiEqA_AMgBB}@pA_FJ...                   2   \n",
       "4  ymhjFryvcVk@`@e@f@i@r@]p@M`@GFIAWYe@a@GKICKI_A...                   2   \n",
       "\n",
       "   average_temp  start_time  \n",
       "0           NaN    17:00:41  \n",
       "1           NaN    19:45:11  \n",
       "2           NaN    14:26:41  \n",
       "3           NaN    08:49:13  \n",
       "4           NaN    16:45:22  \n",
       "\n",
       "[5 rows x 61 columns]"
      ]
     },
     "execution_count": 6,
     "metadata": {},
     "output_type": "execute_result"
    }
   ],
   "source": [
    "#Break date into start time and date\n",
    "activities['start_date_local'] = pd.to_datetime(activities['start_date_local'])\n",
    "activities['start_time'] = activities['start_date_local'].dt.time\n",
    "activities['start_date_local'] = activities['start_date_local'].dt.date\n",
    "activities.head(5)"
   ]
  },
  {
   "cell_type": "code",
   "execution_count": 14,
   "metadata": {},
   "outputs": [],
   "source": [
    "# Make a copy of activities DataFrame for testing.\n",
    "activities_copy = activities.copy()"
   ]
  },
  {
   "cell_type": "code",
   "execution_count": 8,
   "metadata": {},
   "outputs": [],
   "source": [
    "activities_copy.drop(\n",
    "    [\n",
    "        'map.summary_polyline', \n",
    "        'resource_state',\n",
    "        'external_id', \n",
    "        'upload_id', \n",
    "        'location_city', \n",
    "        'location_state', \n",
    "        'has_kudoed', \n",
    "        'start_date', \n",
    "        'athlete.resource_state', \n",
    "        'utc_offset', \n",
    "        'map.resource_state', \n",
    "        'athlete.id', \n",
    "        'visibility', \n",
    "        'heartrate_opt_out', \n",
    "        'upload_id_str', \n",
    "        'from_accepted_tag', \n",
    "        'map.id', \n",
    "        'manual', \n",
    "        'private', \n",
    "        'flagged', \n",
    "    ], \n",
    "    axis=1, \n",
    "    inplace=True\n",
    ")"
   ]
  },
  {
   "cell_type": "code",
   "execution_count": 16,
   "metadata": {},
   "outputs": [
    {
     "name": "stdout",
     "output_type": "stream",
     "text": [
      "54\n"
     ]
    }
   ],
   "source": [
    "# filter down to Ride, Run, and Swim activities\n",
    "activities_copy = activities_copy.query(\"start_date >= '2023-08-01T00:00:00Z' & start_date <= '2023-12-03T00:00:00Z' & (type == 'Run' | type == 'TrailRun')\")\n",
    "print(len(activities_copy))"
   ]
  },
  {
   "cell_type": "code",
   "execution_count": 17,
   "metadata": {},
   "outputs": [
    {
     "name": "stderr",
     "output_type": "stream",
     "text": [
      "C:\\Users\\jimmy\\AppData\\Local\\Temp\\ipykernel_26052\\4159416693.py:6: FutureWarning: In a future version, `df.iloc[:, i] = newvals` will attempt to set the values inplace instead of always setting a new array. To retain the old behavior, use either `df[df.columns[i]] = newvals` or, if columns are non-unique, `df.isetitem(i, newvals)`\n",
      "  activities_copy.loc[:, 'start_date_local'] = pd.to_datetime(activities_copy['start_date_local']).dt.tz_localize(None)\n"
     ]
    }
   ],
   "source": [
    "# convert data types\n",
    "\n",
    "# what does this do?\n",
    "# activities_copy.loc[:, 'start_date'] = pd.to_datetime(activities_copy['start_date']).dt.tz_localize(None)\n",
    "# what does this do?\n",
    "activities_copy.loc[:, 'start_date_local'] = pd.to_datetime(activities_copy['start_date_local']).dt.tz_localize(None)\n",
    "# convert values\n",
    "activities_copy.loc[:, 'distance'] /= 1609.344 # convert from meters to miles\n",
    "activities_copy.loc[:, 'average_speed'] *= 2.23693629 # convert from meters/second to miles/hour\n",
    "activities_copy.loc[:, 'max_speed'] *= 2.23693629 # convert from meters/second to miles/hour\n",
    "# set index\n",
    "#activities_copy.set_index('start_date_local', inplace=True)"
   ]
  },
  {
   "cell_type": "code",
   "execution_count": 18,
   "metadata": {},
   "outputs": [
    {
     "data": {
      "text/html": [
       "<div>\n",
       "<style scoped>\n",
       "    .dataframe tbody tr th:only-of-type {\n",
       "        vertical-align: middle;\n",
       "    }\n",
       "\n",
       "    .dataframe tbody tr th {\n",
       "        vertical-align: top;\n",
       "    }\n",
       "\n",
       "    .dataframe thead th {\n",
       "        text-align: right;\n",
       "    }\n",
       "</style>\n",
       "<table border=\"1\" class=\"dataframe\">\n",
       "  <thead>\n",
       "    <tr style=\"text-align: right;\">\n",
       "      <th></th>\n",
       "      <th>resource_state</th>\n",
       "      <th>name</th>\n",
       "      <th>distance</th>\n",
       "      <th>moving_time</th>\n",
       "      <th>elapsed_time</th>\n",
       "      <th>total_elevation_gain</th>\n",
       "      <th>type</th>\n",
       "      <th>sport_type</th>\n",
       "      <th>workout_type</th>\n",
       "      <th>id</th>\n",
       "      <th>...</th>\n",
       "      <th>total_photo_count</th>\n",
       "      <th>has_kudoed</th>\n",
       "      <th>suffer_score</th>\n",
       "      <th>athlete.id</th>\n",
       "      <th>athlete.resource_state</th>\n",
       "      <th>map.id</th>\n",
       "      <th>map.summary_polyline</th>\n",
       "      <th>map.resource_state</th>\n",
       "      <th>average_temp</th>\n",
       "      <th>start_time</th>\n",
       "    </tr>\n",
       "  </thead>\n",
       "  <tbody>\n",
       "    <tr>\n",
       "      <th>18</th>\n",
       "      <td>2</td>\n",
       "      <td>Lunch Run</td>\n",
       "      <td>2.021569</td>\n",
       "      <td>1062</td>\n",
       "      <td>1065</td>\n",
       "      <td>4.0</td>\n",
       "      <td>Run</td>\n",
       "      <td>Run</td>\n",
       "      <td>NaN</td>\n",
       "      <td>10318307329</td>\n",
       "      <td>...</td>\n",
       "      <td>0</td>\n",
       "      <td>False</td>\n",
       "      <td>20.0</td>\n",
       "      <td>43537797</td>\n",
       "      <td>1</td>\n",
       "      <td>a10318307329</td>\n",
       "      <td>qhhjFtpvcVOIi@_@u@{@aAyAi@iAGEEACBkBtBURg@RYNI...</td>\n",
       "      <td>2</td>\n",
       "      <td>NaN</td>\n",
       "      <td>12:10:17</td>\n",
       "    </tr>\n",
       "    <tr>\n",
       "      <th>19</th>\n",
       "      <td>2</td>\n",
       "      <td>Afternoon Run</td>\n",
       "      <td>1.006062</td>\n",
       "      <td>521</td>\n",
       "      <td>521</td>\n",
       "      <td>1.0</td>\n",
       "      <td>Run</td>\n",
       "      <td>Run</td>\n",
       "      <td>NaN</td>\n",
       "      <td>10313452620</td>\n",
       "      <td>...</td>\n",
       "      <td>0</td>\n",
       "      <td>False</td>\n",
       "      <td>8.0</td>\n",
       "      <td>43537797</td>\n",
       "      <td>1</td>\n",
       "      <td>a10313452620</td>\n",
       "      <td>_nhjFryvcVoA`ASTa@r@c@bAEBI?w@u@cA{@oAmA{DeDEM...</td>\n",
       "      <td>2</td>\n",
       "      <td>NaN</td>\n",
       "      <td>15:31:32</td>\n",
       "    </tr>\n",
       "    <tr>\n",
       "      <th>20</th>\n",
       "      <td>2</td>\n",
       "      <td>Evening Run</td>\n",
       "      <td>4.279570</td>\n",
       "      <td>2308</td>\n",
       "      <td>2500</td>\n",
       "      <td>7.0</td>\n",
       "      <td>Run</td>\n",
       "      <td>Run</td>\n",
       "      <td>NaN</td>\n",
       "      <td>10304280924</td>\n",
       "      <td>...</td>\n",
       "      <td>0</td>\n",
       "      <td>False</td>\n",
       "      <td>69.0</td>\n",
       "      <td>43537797</td>\n",
       "      <td>1</td>\n",
       "      <td>a10304280924</td>\n",
       "      <td>{ggjFtjrdVe@`DIfAUvAETYt@Ib@OtAEh@YfBMlAIVKHG?...</td>\n",
       "      <td>2</td>\n",
       "      <td>NaN</td>\n",
       "      <td>18:14:53</td>\n",
       "    </tr>\n",
       "    <tr>\n",
       "      <th>21</th>\n",
       "      <td>2</td>\n",
       "      <td>Afternoon Run</td>\n",
       "      <td>3.131773</td>\n",
       "      <td>1621</td>\n",
       "      <td>1642</td>\n",
       "      <td>2.0</td>\n",
       "      <td>Run</td>\n",
       "      <td>Run</td>\n",
       "      <td>NaN</td>\n",
       "      <td>10292678447</td>\n",
       "      <td>...</td>\n",
       "      <td>0</td>\n",
       "      <td>False</td>\n",
       "      <td>52.0</td>\n",
       "      <td>43537797</td>\n",
       "      <td>1</td>\n",
       "      <td>a10292678447</td>\n",
       "      <td>ktmjF~vidVfAmGJcALq@T{@@W\\mBDMPYHEJ@f@Xt@TBBBL...</td>\n",
       "      <td>2</td>\n",
       "      <td>NaN</td>\n",
       "      <td>15:36:20</td>\n",
       "    </tr>\n",
       "    <tr>\n",
       "      <th>22</th>\n",
       "      <td>2</td>\n",
       "      <td>Morning Run</td>\n",
       "      <td>9.332188</td>\n",
       "      <td>5056</td>\n",
       "      <td>5353</td>\n",
       "      <td>34.0</td>\n",
       "      <td>Run</td>\n",
       "      <td>Run</td>\n",
       "      <td>NaN</td>\n",
       "      <td>10286282969</td>\n",
       "      <td>...</td>\n",
       "      <td>0</td>\n",
       "      <td>False</td>\n",
       "      <td>82.0</td>\n",
       "      <td>43537797</td>\n",
       "      <td>1</td>\n",
       "      <td>a10286282969</td>\n",
       "      <td>umjjFbl_dVEu@]gBKoB]aAi@eCWcCM]o@aAUm@UaAOsAe@...</td>\n",
       "      <td>2</td>\n",
       "      <td>NaN</td>\n",
       "      <td>07:19:50</td>\n",
       "    </tr>\n",
       "  </tbody>\n",
       "</table>\n",
       "<p>5 rows × 61 columns</p>\n",
       "</div>"
      ],
      "text/plain": [
       "    resource_state           name  distance  moving_time  elapsed_time  \\\n",
       "18               2      Lunch Run  2.021569         1062          1065   \n",
       "19               2  Afternoon Run  1.006062          521           521   \n",
       "20               2    Evening Run  4.279570         2308          2500   \n",
       "21               2  Afternoon Run  3.131773         1621          1642   \n",
       "22               2    Morning Run  9.332188         5056          5353   \n",
       "\n",
       "    total_elevation_gain type sport_type  workout_type           id  ...  \\\n",
       "18                   4.0  Run        Run           NaN  10318307329  ...   \n",
       "19                   1.0  Run        Run           NaN  10313452620  ...   \n",
       "20                   7.0  Run        Run           NaN  10304280924  ...   \n",
       "21                   2.0  Run        Run           NaN  10292678447  ...   \n",
       "22                  34.0  Run        Run           NaN  10286282969  ...   \n",
       "\n",
       "   total_photo_count has_kudoed suffer_score  athlete.id  \\\n",
       "18                 0      False         20.0    43537797   \n",
       "19                 0      False          8.0    43537797   \n",
       "20                 0      False         69.0    43537797   \n",
       "21                 0      False         52.0    43537797   \n",
       "22                 0      False         82.0    43537797   \n",
       "\n",
       "   athlete.resource_state        map.id  \\\n",
       "18                      1  a10318307329   \n",
       "19                      1  a10313452620   \n",
       "20                      1  a10304280924   \n",
       "21                      1  a10292678447   \n",
       "22                      1  a10286282969   \n",
       "\n",
       "                                 map.summary_polyline  map.resource_state  \\\n",
       "18  qhhjFtpvcVOIi@_@u@{@aAyAi@iAGEEACBkBtBURg@RYNI...                   2   \n",
       "19  _nhjFryvcVoA`ASTa@r@c@bAEBI?w@u@cA{@oAmA{DeDEM...                   2   \n",
       "20  {ggjFtjrdVe@`DIfAUvAETYt@Ib@OtAEh@YfBMlAIVKHG?...                   2   \n",
       "21  ktmjF~vidVfAmGJcALq@T{@@W\\mBDMPYHEJ@f@Xt@TBBBL...                   2   \n",
       "22  umjjFbl_dVEu@]gBKoB]aAi@eCWcCM]o@aAUm@UaAOsAe@...                   2   \n",
       "\n",
       "    average_temp  start_time  \n",
       "18           NaN    12:10:17  \n",
       "19           NaN    15:31:32  \n",
       "20           NaN    18:14:53  \n",
       "21           NaN    15:36:20  \n",
       "22           NaN    07:19:50  \n",
       "\n",
       "[5 rows x 61 columns]"
      ]
     },
     "execution_count": 18,
     "metadata": {},
     "output_type": "execute_result"
    }
   ],
   "source": [
    "activities_copy.head()"
   ]
  },
  {
   "cell_type": "code",
   "execution_count": 19,
   "metadata": {},
   "outputs": [],
   "source": [
    "# https://stackoverflow.com/questions/25146121/extracting-just-month-and-year-separately-from-pandas-datetime-column\n",
    "# create a column that extracts month and year from the activity\n",
    "# df['yyyy-mm'] = pd.to_datetime(df['ArrivalDate']).dt.strftime('%Y-%m')\n",
    "activities_copy['Month_Year'] = pd.to_datetime(activities_copy['start_date_local']).dt.strftime('%Y-%m')"
   ]
  },
  {
   "cell_type": "code",
   "execution_count": 20,
   "metadata": {},
   "outputs": [],
   "source": [
    "# https://stackoverflow.com/questions/2600775/how-to-get-week-number-in-python\n",
    "# make a Week_Of_Year column\n",
    "activities_copy['Week_Of_Year'] = pd.to_datetime(activities_copy['start_date_local']).dt.strftime('%U')"
   ]
  },
  {
   "cell_type": "code",
   "execution_count": 14,
   "metadata": {},
   "outputs": [],
   "source": [
    "# sort by start_date_local asc"
   ]
  },
  {
   "cell_type": "code",
   "execution_count": 21,
   "metadata": {},
   "outputs": [
    {
     "name": "stderr",
     "output_type": "stream",
     "text": [
      "C:\\Users\\jimmy\\AppData\\Local\\Temp\\ipykernel_26052\\229282904.py:2: FutureWarning: Indexing with multiple keys (implicitly converted to a tuple of keys) will be deprecated, use a list instead.\n",
      "  df_miles_per_week = pd.DataFrame(activities_copy.groupby(['Week_Of_Year'])['distance', 'moving_time'].sum().reset_index())\n"
     ]
    }
   ],
   "source": [
    "# get weekly mileage and total weekly moving time\n",
    "df_miles_per_week = pd.DataFrame(activities_copy.groupby(['Week_Of_Year'])['distance', 'moving_time'].sum().reset_index())"
   ]
  },
  {
   "cell_type": "code",
   "execution_count": 22,
   "metadata": {},
   "outputs": [],
   "source": [
    "# make a average mph column\n",
    "df_miles_per_week['Average Moving Speed (mph)'] = df_miles_per_week['distance']/(df_miles_per_week['moving_time']/(60*60))"
   ]
  },
  {
   "cell_type": "code",
   "execution_count": 25,
   "metadata": {},
   "outputs": [
    {
     "data": {
      "text/html": [
       "<div>\n",
       "<style scoped>\n",
       "    .dataframe tbody tr th:only-of-type {\n",
       "        vertical-align: middle;\n",
       "    }\n",
       "\n",
       "    .dataframe tbody tr th {\n",
       "        vertical-align: top;\n",
       "    }\n",
       "\n",
       "    .dataframe thead th {\n",
       "        text-align: right;\n",
       "    }\n",
       "</style>\n",
       "<table border=\"1\" class=\"dataframe\">\n",
       "  <thead>\n",
       "    <tr style=\"text-align: right;\">\n",
       "      <th></th>\n",
       "      <th>Week_Of_Year</th>\n",
       "      <th>Weekly Mileage</th>\n",
       "      <th>Total Moving Time (seconds)</th>\n",
       "      <th>Average Moving Speed (mph)</th>\n",
       "    </tr>\n",
       "  </thead>\n",
       "  <tbody>\n",
       "    <tr>\n",
       "      <th>0</th>\n",
       "      <td>31</td>\n",
       "      <td>15.476741</td>\n",
       "      <td>8104</td>\n",
       "      <td>6.875156</td>\n",
       "    </tr>\n",
       "    <tr>\n",
       "      <th>1</th>\n",
       "      <td>32</td>\n",
       "      <td>14.770677</td>\n",
       "      <td>8366</td>\n",
       "      <td>6.356017</td>\n",
       "    </tr>\n",
       "    <tr>\n",
       "      <th>2</th>\n",
       "      <td>33</td>\n",
       "      <td>19.479738</td>\n",
       "      <td>10692</td>\n",
       "      <td>6.558834</td>\n",
       "    </tr>\n",
       "    <tr>\n",
       "      <th>3</th>\n",
       "      <td>34</td>\n",
       "      <td>14.133461</td>\n",
       "      <td>7854</td>\n",
       "      <td>6.478286</td>\n",
       "    </tr>\n",
       "    <tr>\n",
       "      <th>4</th>\n",
       "      <td>35</td>\n",
       "      <td>15.211975</td>\n",
       "      <td>8236</td>\n",
       "      <td>6.649236</td>\n",
       "    </tr>\n",
       "    <tr>\n",
       "      <th>5</th>\n",
       "      <td>36</td>\n",
       "      <td>24.359242</td>\n",
       "      <td>13719</td>\n",
       "      <td>6.392104</td>\n",
       "    </tr>\n",
       "    <tr>\n",
       "      <th>6</th>\n",
       "      <td>37</td>\n",
       "      <td>5.669018</td>\n",
       "      <td>3086</td>\n",
       "      <td>6.613242</td>\n",
       "    </tr>\n",
       "    <tr>\n",
       "      <th>7</th>\n",
       "      <td>38</td>\n",
       "      <td>21.595569</td>\n",
       "      <td>11881</td>\n",
       "      <td>6.543561</td>\n",
       "    </tr>\n",
       "    <tr>\n",
       "      <th>8</th>\n",
       "      <td>39</td>\n",
       "      <td>4.591933</td>\n",
       "      <td>2441</td>\n",
       "      <td>6.772208</td>\n",
       "    </tr>\n",
       "    <tr>\n",
       "      <th>9</th>\n",
       "      <td>40</td>\n",
       "      <td>20.116768</td>\n",
       "      <td>10984</td>\n",
       "      <td>6.593260</td>\n",
       "    </tr>\n",
       "    <tr>\n",
       "      <th>10</th>\n",
       "      <td>41</td>\n",
       "      <td>3.952356</td>\n",
       "      <td>2352</td>\n",
       "      <td>6.049524</td>\n",
       "    </tr>\n",
       "    <tr>\n",
       "      <th>11</th>\n",
       "      <td>42</td>\n",
       "      <td>14.380953</td>\n",
       "      <td>7684</td>\n",
       "      <td>6.737562</td>\n",
       "    </tr>\n",
       "    <tr>\n",
       "      <th>12</th>\n",
       "      <td>43</td>\n",
       "      <td>21.404125</td>\n",
       "      <td>12551</td>\n",
       "      <td>6.139339</td>\n",
       "    </tr>\n",
       "    <tr>\n",
       "      <th>13</th>\n",
       "      <td>44</td>\n",
       "      <td>16.393512</td>\n",
       "      <td>8575</td>\n",
       "      <td>6.882407</td>\n",
       "    </tr>\n",
       "    <tr>\n",
       "      <th>14</th>\n",
       "      <td>45</td>\n",
       "      <td>31.391983</td>\n",
       "      <td>16920</td>\n",
       "      <td>6.679145</td>\n",
       "    </tr>\n",
       "    <tr>\n",
       "      <th>15</th>\n",
       "      <td>46</td>\n",
       "      <td>12.068085</td>\n",
       "      <td>6370</td>\n",
       "      <td>6.820268</td>\n",
       "    </tr>\n",
       "    <tr>\n",
       "      <th>16</th>\n",
       "      <td>47</td>\n",
       "      <td>20.653011</td>\n",
       "      <td>11087</td>\n",
       "      <td>6.706128</td>\n",
       "    </tr>\n",
       "    <tr>\n",
       "      <th>17</th>\n",
       "      <td>48</td>\n",
       "      <td>19.771161</td>\n",
       "      <td>10568</td>\n",
       "      <td>6.735066</td>\n",
       "    </tr>\n",
       "  </tbody>\n",
       "</table>\n",
       "</div>"
      ],
      "text/plain": [
       "   Week_Of_Year  Weekly Mileage  Total Moving Time (seconds)  \\\n",
       "0            31       15.476741                         8104   \n",
       "1            32       14.770677                         8366   \n",
       "2            33       19.479738                        10692   \n",
       "3            34       14.133461                         7854   \n",
       "4            35       15.211975                         8236   \n",
       "5            36       24.359242                        13719   \n",
       "6            37        5.669018                         3086   \n",
       "7            38       21.595569                        11881   \n",
       "8            39        4.591933                         2441   \n",
       "9            40       20.116768                        10984   \n",
       "10           41        3.952356                         2352   \n",
       "11           42       14.380953                         7684   \n",
       "12           43       21.404125                        12551   \n",
       "13           44       16.393512                         8575   \n",
       "14           45       31.391983                        16920   \n",
       "15           46       12.068085                         6370   \n",
       "16           47       20.653011                        11087   \n",
       "17           48       19.771161                        10568   \n",
       "\n",
       "    Average Moving Speed (mph)  \n",
       "0                     6.875156  \n",
       "1                     6.356017  \n",
       "2                     6.558834  \n",
       "3                     6.478286  \n",
       "4                     6.649236  \n",
       "5                     6.392104  \n",
       "6                     6.613242  \n",
       "7                     6.543561  \n",
       "8                     6.772208  \n",
       "9                     6.593260  \n",
       "10                    6.049524  \n",
       "11                    6.737562  \n",
       "12                    6.139339  \n",
       "13                    6.882407  \n",
       "14                    6.679145  \n",
       "15                    6.820268  \n",
       "16                    6.706128  \n",
       "17                    6.735066  "
      ]
     },
     "execution_count": 25,
     "metadata": {},
     "output_type": "execute_result"
    }
   ],
   "source": [
    "df_miles_per_week.rename(columns={\"distance\": \"Weekly Mileage\", \"moving_time\": \"Total Moving Time (seconds)\"})"
   ]
  },
  {
   "cell_type": "code",
   "execution_count": 29,
   "metadata": {},
   "outputs": [],
   "source": [
    "# Make function that calculates weekly mileage targets\n",
    "def weekly_mileage_target(easy_runs_minutes, long_run_mileage):\n",
    "\n",
    "    easy_miles = easy_runs_minutes/10\n",
    "    total_weekly_mileage = easy_miles + long_run_mileage\n",
    "    return total_weekly_mileage"
   ]
  },
  {
   "cell_type": "code",
   "execution_count": 30,
   "metadata": {},
   "outputs": [],
   "source": [
    "# convert the Week_Of_Year column to numeric type so we can filter on it\n",
    "df_miles_per_week[\"Week_Of_Year\"] = pd.to_numeric(df_miles_per_week[\"Week_Of_Year\"])\n"
   ]
  },
  {
   "cell_type": "code",
   "execution_count": 41,
   "metadata": {},
   "outputs": [],
   "source": [
    "# Instead, read in the weekly mileage goals from a .csv file\n",
    "goal_df = pd.read_csv('..\\data\\CIM Training Plans 2023 - Weekly Mileage Goals.csv')"
   ]
  },
  {
   "cell_type": "code",
   "execution_count": 43,
   "metadata": {},
   "outputs": [
    {
     "data": {
      "text/html": [
       "<div>\n",
       "<style scoped>\n",
       "    .dataframe tbody tr th:only-of-type {\n",
       "        vertical-align: middle;\n",
       "    }\n",
       "\n",
       "    .dataframe tbody tr th {\n",
       "        vertical-align: top;\n",
       "    }\n",
       "\n",
       "    .dataframe thead th {\n",
       "        text-align: right;\n",
       "    }\n",
       "</style>\n",
       "<table border=\"1\" class=\"dataframe\">\n",
       "  <thead>\n",
       "    <tr style=\"text-align: right;\">\n",
       "      <th></th>\n",
       "      <th>Week</th>\n",
       "      <th>Long Run</th>\n",
       "      <th>Total Easy Minutes</th>\n",
       "      <th>Total Mileage</th>\n",
       "    </tr>\n",
       "  </thead>\n",
       "  <tbody>\n",
       "    <tr>\n",
       "      <th>0</th>\n",
       "      <td>31</td>\n",
       "      <td>8</td>\n",
       "      <td>190.0</td>\n",
       "      <td>27.00</td>\n",
       "    </tr>\n",
       "    <tr>\n",
       "      <th>1</th>\n",
       "      <td>32</td>\n",
       "      <td>10</td>\n",
       "      <td>190.0</td>\n",
       "      <td>29.00</td>\n",
       "    </tr>\n",
       "    <tr>\n",
       "      <th>2</th>\n",
       "      <td>33</td>\n",
       "      <td>10</td>\n",
       "      <td>210.0</td>\n",
       "      <td>31.00</td>\n",
       "    </tr>\n",
       "    <tr>\n",
       "      <th>3</th>\n",
       "      <td>34</td>\n",
       "      <td>12</td>\n",
       "      <td>212.0</td>\n",
       "      <td>33.20</td>\n",
       "    </tr>\n",
       "    <tr>\n",
       "      <th>4</th>\n",
       "      <td>35</td>\n",
       "      <td>14</td>\n",
       "      <td>226.5</td>\n",
       "      <td>36.65</td>\n",
       "    </tr>\n",
       "  </tbody>\n",
       "</table>\n",
       "</div>"
      ],
      "text/plain": [
       "   Week  Long Run  Total Easy Minutes  Total Mileage\n",
       "0    31         8               190.0          27.00\n",
       "1    32        10               190.0          29.00\n",
       "2    33        10               210.0          31.00\n",
       "3    34        12               212.0          33.20\n",
       "4    35        14               226.5          36.65"
      ]
     },
     "execution_count": 43,
     "metadata": {},
     "output_type": "execute_result"
    }
   ],
   "source": [
    "goal_df.head()"
   ]
  },
  {
   "cell_type": "code",
   "execution_count": 31,
   "metadata": {},
   "outputs": [
    {
     "data": {
      "text/html": [
       "<div>\n",
       "<style scoped>\n",
       "    .dataframe tbody tr th:only-of-type {\n",
       "        vertical-align: middle;\n",
       "    }\n",
       "\n",
       "    .dataframe tbody tr th {\n",
       "        vertical-align: top;\n",
       "    }\n",
       "\n",
       "    .dataframe thead th {\n",
       "        text-align: right;\n",
       "    }\n",
       "</style>\n",
       "<table border=\"1\" class=\"dataframe\">\n",
       "  <thead>\n",
       "    <tr style=\"text-align: right;\">\n",
       "      <th></th>\n",
       "      <th>Week_Of_Year</th>\n",
       "      <th>distance</th>\n",
       "      <th>moving_time</th>\n",
       "      <th>Average Moving Speed (mph)</th>\n",
       "    </tr>\n",
       "  </thead>\n",
       "  <tbody>\n",
       "    <tr>\n",
       "      <th>0</th>\n",
       "      <td>31</td>\n",
       "      <td>15.476741</td>\n",
       "      <td>8104</td>\n",
       "      <td>6.875156</td>\n",
       "    </tr>\n",
       "    <tr>\n",
       "      <th>1</th>\n",
       "      <td>32</td>\n",
       "      <td>14.770677</td>\n",
       "      <td>8366</td>\n",
       "      <td>6.356017</td>\n",
       "    </tr>\n",
       "    <tr>\n",
       "      <th>2</th>\n",
       "      <td>33</td>\n",
       "      <td>19.479738</td>\n",
       "      <td>10692</td>\n",
       "      <td>6.558834</td>\n",
       "    </tr>\n",
       "    <tr>\n",
       "      <th>3</th>\n",
       "      <td>34</td>\n",
       "      <td>14.133461</td>\n",
       "      <td>7854</td>\n",
       "      <td>6.478286</td>\n",
       "    </tr>\n",
       "    <tr>\n",
       "      <th>4</th>\n",
       "      <td>35</td>\n",
       "      <td>15.211975</td>\n",
       "      <td>8236</td>\n",
       "      <td>6.649236</td>\n",
       "    </tr>\n",
       "  </tbody>\n",
       "</table>\n",
       "</div>"
      ],
      "text/plain": [
       "   Week_Of_Year   distance  moving_time  Average Moving Speed (mph)\n",
       "0            31  15.476741         8104                    6.875156\n",
       "1            32  14.770677         8366                    6.356017\n",
       "2            33  19.479738        10692                    6.558834\n",
       "3            34  14.133461         7854                    6.478286\n",
       "4            35  15.211975         8236                    6.649236"
      ]
     },
     "execution_count": 31,
     "metadata": {},
     "output_type": "execute_result"
    }
   ],
   "source": [
    "# sort down to marathon training start\n",
    "df_marathon = df_miles_per_week.query(\"Week_Of_Year >= 31\")\n",
    "df_marathon.head()\n",
    "# calculate difference to targets"
   ]
  },
  {
   "cell_type": "code",
   "execution_count": 44,
   "metadata": {},
   "outputs": [],
   "source": [
    "# merge Weekly_Mileage_Goal onto the df_marathon\n",
    "df_combined = df_marathon.merge(goal_df, how = 'left', left_on='Week_Of_Year', right_on='Week')"
   ]
  },
  {
   "cell_type": "code",
   "execution_count": 45,
   "metadata": {},
   "outputs": [
    {
     "data": {
      "text/html": [
       "<div>\n",
       "<style scoped>\n",
       "    .dataframe tbody tr th:only-of-type {\n",
       "        vertical-align: middle;\n",
       "    }\n",
       "\n",
       "    .dataframe tbody tr th {\n",
       "        vertical-align: top;\n",
       "    }\n",
       "\n",
       "    .dataframe thead th {\n",
       "        text-align: right;\n",
       "    }\n",
       "</style>\n",
       "<table border=\"1\" class=\"dataframe\">\n",
       "  <thead>\n",
       "    <tr style=\"text-align: right;\">\n",
       "      <th></th>\n",
       "      <th>Week_Of_Year</th>\n",
       "      <th>distance</th>\n",
       "      <th>moving_time</th>\n",
       "      <th>Average Moving Speed (mph)</th>\n",
       "      <th>Week</th>\n",
       "      <th>Long Run</th>\n",
       "      <th>Total Easy Minutes</th>\n",
       "      <th>Total Mileage</th>\n",
       "    </tr>\n",
       "  </thead>\n",
       "  <tbody>\n",
       "    <tr>\n",
       "      <th>0</th>\n",
       "      <td>31</td>\n",
       "      <td>15.476741</td>\n",
       "      <td>8104</td>\n",
       "      <td>6.875156</td>\n",
       "      <td>31.0</td>\n",
       "      <td>8.0</td>\n",
       "      <td>190.0</td>\n",
       "      <td>27.00</td>\n",
       "    </tr>\n",
       "    <tr>\n",
       "      <th>1</th>\n",
       "      <td>32</td>\n",
       "      <td>14.770677</td>\n",
       "      <td>8366</td>\n",
       "      <td>6.356017</td>\n",
       "      <td>32.0</td>\n",
       "      <td>10.0</td>\n",
       "      <td>190.0</td>\n",
       "      <td>29.00</td>\n",
       "    </tr>\n",
       "    <tr>\n",
       "      <th>2</th>\n",
       "      <td>33</td>\n",
       "      <td>19.479738</td>\n",
       "      <td>10692</td>\n",
       "      <td>6.558834</td>\n",
       "      <td>33.0</td>\n",
       "      <td>10.0</td>\n",
       "      <td>210.0</td>\n",
       "      <td>31.00</td>\n",
       "    </tr>\n",
       "    <tr>\n",
       "      <th>3</th>\n",
       "      <td>34</td>\n",
       "      <td>14.133461</td>\n",
       "      <td>7854</td>\n",
       "      <td>6.478286</td>\n",
       "      <td>34.0</td>\n",
       "      <td>12.0</td>\n",
       "      <td>212.0</td>\n",
       "      <td>33.20</td>\n",
       "    </tr>\n",
       "    <tr>\n",
       "      <th>4</th>\n",
       "      <td>35</td>\n",
       "      <td>15.211975</td>\n",
       "      <td>8236</td>\n",
       "      <td>6.649236</td>\n",
       "      <td>35.0</td>\n",
       "      <td>14.0</td>\n",
       "      <td>226.5</td>\n",
       "      <td>36.65</td>\n",
       "    </tr>\n",
       "  </tbody>\n",
       "</table>\n",
       "</div>"
      ],
      "text/plain": [
       "   Week_Of_Year   distance  moving_time  Average Moving Speed (mph)  Week  \\\n",
       "0            31  15.476741         8104                    6.875156  31.0   \n",
       "1            32  14.770677         8366                    6.356017  32.0   \n",
       "2            33  19.479738        10692                    6.558834  33.0   \n",
       "3            34  14.133461         7854                    6.478286  34.0   \n",
       "4            35  15.211975         8236                    6.649236  35.0   \n",
       "\n",
       "   Long Run  Total Easy Minutes  Total Mileage  \n",
       "0       8.0               190.0          27.00  \n",
       "1      10.0               190.0          29.00  \n",
       "2      10.0               210.0          31.00  \n",
       "3      12.0               212.0          33.20  \n",
       "4      14.0               226.5          36.65  "
      ]
     },
     "execution_count": 45,
     "metadata": {},
     "output_type": "execute_result"
    }
   ],
   "source": [
    "df_combined.head()"
   ]
  },
  {
   "cell_type": "code",
   "execution_count": 46,
   "metadata": {},
   "outputs": [],
   "source": [
    "df_combined['Training Week'] = df_combined['Week_Of_Year'] - 30"
   ]
  },
  {
   "cell_type": "code",
   "execution_count": 55,
   "metadata": {},
   "outputs": [],
   "source": [
    "df_combined['distance']= round(df_combined['distance'],1)"
   ]
  },
  {
   "cell_type": "code",
   "execution_count": 56,
   "metadata": {},
   "outputs": [],
   "source": [
    "df_combined['Mileage Difference'] = round(df_combined['distance'] - df_combined['Total Mileage'], 1)"
   ]
  },
  {
   "cell_type": "code",
   "execution_count": 57,
   "metadata": {},
   "outputs": [
    {
     "data": {
      "text/html": [
       "<div>\n",
       "<style scoped>\n",
       "    .dataframe tbody tr th:only-of-type {\n",
       "        vertical-align: middle;\n",
       "    }\n",
       "\n",
       "    .dataframe tbody tr th {\n",
       "        vertical-align: top;\n",
       "    }\n",
       "\n",
       "    .dataframe thead th {\n",
       "        text-align: right;\n",
       "    }\n",
       "</style>\n",
       "<table border=\"1\" class=\"dataframe\">\n",
       "  <thead>\n",
       "    <tr style=\"text-align: right;\">\n",
       "      <th></th>\n",
       "      <th>Week_Of_Year</th>\n",
       "      <th>distance</th>\n",
       "      <th>moving_time</th>\n",
       "      <th>Average Moving Speed (mph)</th>\n",
       "      <th>Week</th>\n",
       "      <th>Long Run</th>\n",
       "      <th>Total Easy Minutes</th>\n",
       "      <th>Total Mileage</th>\n",
       "      <th>Training Week</th>\n",
       "      <th>Mileage Difference</th>\n",
       "    </tr>\n",
       "  </thead>\n",
       "  <tbody>\n",
       "    <tr>\n",
       "      <th>0</th>\n",
       "      <td>31</td>\n",
       "      <td>15.5</td>\n",
       "      <td>8104</td>\n",
       "      <td>6.875156</td>\n",
       "      <td>31.0</td>\n",
       "      <td>8.0</td>\n",
       "      <td>190.0</td>\n",
       "      <td>27.00</td>\n",
       "      <td>1</td>\n",
       "      <td>-11.5</td>\n",
       "    </tr>\n",
       "    <tr>\n",
       "      <th>1</th>\n",
       "      <td>32</td>\n",
       "      <td>14.8</td>\n",
       "      <td>8366</td>\n",
       "      <td>6.356017</td>\n",
       "      <td>32.0</td>\n",
       "      <td>10.0</td>\n",
       "      <td>190.0</td>\n",
       "      <td>29.00</td>\n",
       "      <td>2</td>\n",
       "      <td>-14.2</td>\n",
       "    </tr>\n",
       "    <tr>\n",
       "      <th>2</th>\n",
       "      <td>33</td>\n",
       "      <td>19.5</td>\n",
       "      <td>10692</td>\n",
       "      <td>6.558834</td>\n",
       "      <td>33.0</td>\n",
       "      <td>10.0</td>\n",
       "      <td>210.0</td>\n",
       "      <td>31.00</td>\n",
       "      <td>3</td>\n",
       "      <td>-11.5</td>\n",
       "    </tr>\n",
       "    <tr>\n",
       "      <th>3</th>\n",
       "      <td>34</td>\n",
       "      <td>14.1</td>\n",
       "      <td>7854</td>\n",
       "      <td>6.478286</td>\n",
       "      <td>34.0</td>\n",
       "      <td>12.0</td>\n",
       "      <td>212.0</td>\n",
       "      <td>33.20</td>\n",
       "      <td>4</td>\n",
       "      <td>-19.1</td>\n",
       "    </tr>\n",
       "    <tr>\n",
       "      <th>4</th>\n",
       "      <td>35</td>\n",
       "      <td>15.2</td>\n",
       "      <td>8236</td>\n",
       "      <td>6.649236</td>\n",
       "      <td>35.0</td>\n",
       "      <td>14.0</td>\n",
       "      <td>226.5</td>\n",
       "      <td>36.65</td>\n",
       "      <td>5</td>\n",
       "      <td>-21.4</td>\n",
       "    </tr>\n",
       "  </tbody>\n",
       "</table>\n",
       "</div>"
      ],
      "text/plain": [
       "   Week_Of_Year  distance  moving_time  Average Moving Speed (mph)  Week  \\\n",
       "0            31      15.5         8104                    6.875156  31.0   \n",
       "1            32      14.8         8366                    6.356017  32.0   \n",
       "2            33      19.5        10692                    6.558834  33.0   \n",
       "3            34      14.1         7854                    6.478286  34.0   \n",
       "4            35      15.2         8236                    6.649236  35.0   \n",
       "\n",
       "   Long Run  Total Easy Minutes  Total Mileage  Training Week  \\\n",
       "0       8.0               190.0          27.00              1   \n",
       "1      10.0               190.0          29.00              2   \n",
       "2      10.0               210.0          31.00              3   \n",
       "3      12.0               212.0          33.20              4   \n",
       "4      14.0               226.5          36.65              5   \n",
       "\n",
       "   Mileage Difference  \n",
       "0               -11.5  \n",
       "1               -14.2  \n",
       "2               -11.5  \n",
       "3               -19.1  \n",
       "4               -21.4  "
      ]
     },
     "execution_count": 57,
     "metadata": {},
     "output_type": "execute_result"
    }
   ],
   "source": [
    "df_combined.head()"
   ]
  },
  {
   "cell_type": "code",
   "execution_count": 58,
   "metadata": {},
   "outputs": [
    {
     "data": {
      "application/vnd.plotly.v1+json": {
       "config": {
        "plotlyServerURL": "https://plot.ly"
       },
       "data": [
        {
         "alignmentgroup": "True",
         "hovertemplate": "Training Week=%{x}<br>Distance (miles) =%{y}<extra></extra>",
         "legendgroup": "",
         "marker": {
          "color": "#636efa",
          "line": {
           "width": 2.5
          },
          "pattern": {
           "shape": ""
          }
         },
         "name": "",
         "offsetgroup": "",
         "orientation": "v",
         "showlegend": false,
         "textposition": "auto",
         "type": "bar",
         "x": [
          1,
          2,
          3,
          4,
          5,
          6,
          7,
          8,
          9,
          10,
          11,
          12,
          13,
          14,
          15,
          16,
          17,
          18
         ],
         "xaxis": "x",
         "y": [
          15.5,
          14.8,
          19.5,
          14.1,
          15.2,
          24.4,
          5.7,
          21.6,
          4.6,
          20.1,
          4,
          14.4,
          21.4,
          16.4,
          31.4,
          12.1,
          20.7,
          19.8
         ],
         "yaxis": "y"
        }
       ],
       "layout": {
        "barmode": "relative",
        "legend": {
         "tracegroupgap": 0
        },
        "template": {
         "data": {
          "bar": [
           {
            "error_x": {
             "color": "#2a3f5f"
            },
            "error_y": {
             "color": "#2a3f5f"
            },
            "marker": {
             "line": {
              "color": "#E5ECF6",
              "width": 0.5
             },
             "pattern": {
              "fillmode": "overlay",
              "size": 10,
              "solidity": 0.2
             }
            },
            "type": "bar"
           }
          ],
          "barpolar": [
           {
            "marker": {
             "line": {
              "color": "#E5ECF6",
              "width": 0.5
             },
             "pattern": {
              "fillmode": "overlay",
              "size": 10,
              "solidity": 0.2
             }
            },
            "type": "barpolar"
           }
          ],
          "carpet": [
           {
            "aaxis": {
             "endlinecolor": "#2a3f5f",
             "gridcolor": "white",
             "linecolor": "white",
             "minorgridcolor": "white",
             "startlinecolor": "#2a3f5f"
            },
            "baxis": {
             "endlinecolor": "#2a3f5f",
             "gridcolor": "white",
             "linecolor": "white",
             "minorgridcolor": "white",
             "startlinecolor": "#2a3f5f"
            },
            "type": "carpet"
           }
          ],
          "choropleth": [
           {
            "colorbar": {
             "outlinewidth": 0,
             "ticks": ""
            },
            "type": "choropleth"
           }
          ],
          "contour": [
           {
            "colorbar": {
             "outlinewidth": 0,
             "ticks": ""
            },
            "colorscale": [
             [
              0,
              "#0d0887"
             ],
             [
              0.1111111111111111,
              "#46039f"
             ],
             [
              0.2222222222222222,
              "#7201a8"
             ],
             [
              0.3333333333333333,
              "#9c179e"
             ],
             [
              0.4444444444444444,
              "#bd3786"
             ],
             [
              0.5555555555555556,
              "#d8576b"
             ],
             [
              0.6666666666666666,
              "#ed7953"
             ],
             [
              0.7777777777777778,
              "#fb9f3a"
             ],
             [
              0.8888888888888888,
              "#fdca26"
             ],
             [
              1,
              "#f0f921"
             ]
            ],
            "type": "contour"
           }
          ],
          "contourcarpet": [
           {
            "colorbar": {
             "outlinewidth": 0,
             "ticks": ""
            },
            "type": "contourcarpet"
           }
          ],
          "heatmap": [
           {
            "colorbar": {
             "outlinewidth": 0,
             "ticks": ""
            },
            "colorscale": [
             [
              0,
              "#0d0887"
             ],
             [
              0.1111111111111111,
              "#46039f"
             ],
             [
              0.2222222222222222,
              "#7201a8"
             ],
             [
              0.3333333333333333,
              "#9c179e"
             ],
             [
              0.4444444444444444,
              "#bd3786"
             ],
             [
              0.5555555555555556,
              "#d8576b"
             ],
             [
              0.6666666666666666,
              "#ed7953"
             ],
             [
              0.7777777777777778,
              "#fb9f3a"
             ],
             [
              0.8888888888888888,
              "#fdca26"
             ],
             [
              1,
              "#f0f921"
             ]
            ],
            "type": "heatmap"
           }
          ],
          "heatmapgl": [
           {
            "colorbar": {
             "outlinewidth": 0,
             "ticks": ""
            },
            "colorscale": [
             [
              0,
              "#0d0887"
             ],
             [
              0.1111111111111111,
              "#46039f"
             ],
             [
              0.2222222222222222,
              "#7201a8"
             ],
             [
              0.3333333333333333,
              "#9c179e"
             ],
             [
              0.4444444444444444,
              "#bd3786"
             ],
             [
              0.5555555555555556,
              "#d8576b"
             ],
             [
              0.6666666666666666,
              "#ed7953"
             ],
             [
              0.7777777777777778,
              "#fb9f3a"
             ],
             [
              0.8888888888888888,
              "#fdca26"
             ],
             [
              1,
              "#f0f921"
             ]
            ],
            "type": "heatmapgl"
           }
          ],
          "histogram": [
           {
            "marker": {
             "pattern": {
              "fillmode": "overlay",
              "size": 10,
              "solidity": 0.2
             }
            },
            "type": "histogram"
           }
          ],
          "histogram2d": [
           {
            "colorbar": {
             "outlinewidth": 0,
             "ticks": ""
            },
            "colorscale": [
             [
              0,
              "#0d0887"
             ],
             [
              0.1111111111111111,
              "#46039f"
             ],
             [
              0.2222222222222222,
              "#7201a8"
             ],
             [
              0.3333333333333333,
              "#9c179e"
             ],
             [
              0.4444444444444444,
              "#bd3786"
             ],
             [
              0.5555555555555556,
              "#d8576b"
             ],
             [
              0.6666666666666666,
              "#ed7953"
             ],
             [
              0.7777777777777778,
              "#fb9f3a"
             ],
             [
              0.8888888888888888,
              "#fdca26"
             ],
             [
              1,
              "#f0f921"
             ]
            ],
            "type": "histogram2d"
           }
          ],
          "histogram2dcontour": [
           {
            "colorbar": {
             "outlinewidth": 0,
             "ticks": ""
            },
            "colorscale": [
             [
              0,
              "#0d0887"
             ],
             [
              0.1111111111111111,
              "#46039f"
             ],
             [
              0.2222222222222222,
              "#7201a8"
             ],
             [
              0.3333333333333333,
              "#9c179e"
             ],
             [
              0.4444444444444444,
              "#bd3786"
             ],
             [
              0.5555555555555556,
              "#d8576b"
             ],
             [
              0.6666666666666666,
              "#ed7953"
             ],
             [
              0.7777777777777778,
              "#fb9f3a"
             ],
             [
              0.8888888888888888,
              "#fdca26"
             ],
             [
              1,
              "#f0f921"
             ]
            ],
            "type": "histogram2dcontour"
           }
          ],
          "mesh3d": [
           {
            "colorbar": {
             "outlinewidth": 0,
             "ticks": ""
            },
            "type": "mesh3d"
           }
          ],
          "parcoords": [
           {
            "line": {
             "colorbar": {
              "outlinewidth": 0,
              "ticks": ""
             }
            },
            "type": "parcoords"
           }
          ],
          "pie": [
           {
            "automargin": true,
            "type": "pie"
           }
          ],
          "scatter": [
           {
            "fillpattern": {
             "fillmode": "overlay",
             "size": 10,
             "solidity": 0.2
            },
            "type": "scatter"
           }
          ],
          "scatter3d": [
           {
            "line": {
             "colorbar": {
              "outlinewidth": 0,
              "ticks": ""
             }
            },
            "marker": {
             "colorbar": {
              "outlinewidth": 0,
              "ticks": ""
             }
            },
            "type": "scatter3d"
           }
          ],
          "scattercarpet": [
           {
            "marker": {
             "colorbar": {
              "outlinewidth": 0,
              "ticks": ""
             }
            },
            "type": "scattercarpet"
           }
          ],
          "scattergeo": [
           {
            "marker": {
             "colorbar": {
              "outlinewidth": 0,
              "ticks": ""
             }
            },
            "type": "scattergeo"
           }
          ],
          "scattergl": [
           {
            "marker": {
             "colorbar": {
              "outlinewidth": 0,
              "ticks": ""
             }
            },
            "type": "scattergl"
           }
          ],
          "scattermapbox": [
           {
            "marker": {
             "colorbar": {
              "outlinewidth": 0,
              "ticks": ""
             }
            },
            "type": "scattermapbox"
           }
          ],
          "scatterpolar": [
           {
            "marker": {
             "colorbar": {
              "outlinewidth": 0,
              "ticks": ""
             }
            },
            "type": "scatterpolar"
           }
          ],
          "scatterpolargl": [
           {
            "marker": {
             "colorbar": {
              "outlinewidth": 0,
              "ticks": ""
             }
            },
            "type": "scatterpolargl"
           }
          ],
          "scatterternary": [
           {
            "marker": {
             "colorbar": {
              "outlinewidth": 0,
              "ticks": ""
             }
            },
            "type": "scatterternary"
           }
          ],
          "surface": [
           {
            "colorbar": {
             "outlinewidth": 0,
             "ticks": ""
            },
            "colorscale": [
             [
              0,
              "#0d0887"
             ],
             [
              0.1111111111111111,
              "#46039f"
             ],
             [
              0.2222222222222222,
              "#7201a8"
             ],
             [
              0.3333333333333333,
              "#9c179e"
             ],
             [
              0.4444444444444444,
              "#bd3786"
             ],
             [
              0.5555555555555556,
              "#d8576b"
             ],
             [
              0.6666666666666666,
              "#ed7953"
             ],
             [
              0.7777777777777778,
              "#fb9f3a"
             ],
             [
              0.8888888888888888,
              "#fdca26"
             ],
             [
              1,
              "#f0f921"
             ]
            ],
            "type": "surface"
           }
          ],
          "table": [
           {
            "cells": {
             "fill": {
              "color": "#EBF0F8"
             },
             "line": {
              "color": "white"
             }
            },
            "header": {
             "fill": {
              "color": "#C8D4E3"
             },
             "line": {
              "color": "white"
             }
            },
            "type": "table"
           }
          ]
         },
         "layout": {
          "annotationdefaults": {
           "arrowcolor": "#2a3f5f",
           "arrowhead": 0,
           "arrowwidth": 1
          },
          "autotypenumbers": "strict",
          "coloraxis": {
           "colorbar": {
            "outlinewidth": 0,
            "ticks": ""
           }
          },
          "colorscale": {
           "diverging": [
            [
             0,
             "#8e0152"
            ],
            [
             0.1,
             "#c51b7d"
            ],
            [
             0.2,
             "#de77ae"
            ],
            [
             0.3,
             "#f1b6da"
            ],
            [
             0.4,
             "#fde0ef"
            ],
            [
             0.5,
             "#f7f7f7"
            ],
            [
             0.6,
             "#e6f5d0"
            ],
            [
             0.7,
             "#b8e186"
            ],
            [
             0.8,
             "#7fbc41"
            ],
            [
             0.9,
             "#4d9221"
            ],
            [
             1,
             "#276419"
            ]
           ],
           "sequential": [
            [
             0,
             "#0d0887"
            ],
            [
             0.1111111111111111,
             "#46039f"
            ],
            [
             0.2222222222222222,
             "#7201a8"
            ],
            [
             0.3333333333333333,
             "#9c179e"
            ],
            [
             0.4444444444444444,
             "#bd3786"
            ],
            [
             0.5555555555555556,
             "#d8576b"
            ],
            [
             0.6666666666666666,
             "#ed7953"
            ],
            [
             0.7777777777777778,
             "#fb9f3a"
            ],
            [
             0.8888888888888888,
             "#fdca26"
            ],
            [
             1,
             "#f0f921"
            ]
           ],
           "sequentialminus": [
            [
             0,
             "#0d0887"
            ],
            [
             0.1111111111111111,
             "#46039f"
            ],
            [
             0.2222222222222222,
             "#7201a8"
            ],
            [
             0.3333333333333333,
             "#9c179e"
            ],
            [
             0.4444444444444444,
             "#bd3786"
            ],
            [
             0.5555555555555556,
             "#d8576b"
            ],
            [
             0.6666666666666666,
             "#ed7953"
            ],
            [
             0.7777777777777778,
             "#fb9f3a"
            ],
            [
             0.8888888888888888,
             "#fdca26"
            ],
            [
             1,
             "#f0f921"
            ]
           ]
          },
          "colorway": [
           "#636efa",
           "#EF553B",
           "#00cc96",
           "#ab63fa",
           "#FFA15A",
           "#19d3f3",
           "#FF6692",
           "#B6E880",
           "#FF97FF",
           "#FECB52"
          ],
          "font": {
           "color": "#2a3f5f"
          },
          "geo": {
           "bgcolor": "white",
           "lakecolor": "white",
           "landcolor": "#E5ECF6",
           "showlakes": true,
           "showland": true,
           "subunitcolor": "white"
          },
          "hoverlabel": {
           "align": "left"
          },
          "hovermode": "closest",
          "mapbox": {
           "style": "light"
          },
          "paper_bgcolor": "white",
          "plot_bgcolor": "#E5ECF6",
          "polar": {
           "angularaxis": {
            "gridcolor": "white",
            "linecolor": "white",
            "ticks": ""
           },
           "bgcolor": "#E5ECF6",
           "radialaxis": {
            "gridcolor": "white",
            "linecolor": "white",
            "ticks": ""
           }
          },
          "scene": {
           "xaxis": {
            "backgroundcolor": "#E5ECF6",
            "gridcolor": "white",
            "gridwidth": 2,
            "linecolor": "white",
            "showbackground": true,
            "ticks": "",
            "zerolinecolor": "white"
           },
           "yaxis": {
            "backgroundcolor": "#E5ECF6",
            "gridcolor": "white",
            "gridwidth": 2,
            "linecolor": "white",
            "showbackground": true,
            "ticks": "",
            "zerolinecolor": "white"
           },
           "zaxis": {
            "backgroundcolor": "#E5ECF6",
            "gridcolor": "white",
            "gridwidth": 2,
            "linecolor": "white",
            "showbackground": true,
            "ticks": "",
            "zerolinecolor": "white"
           }
          },
          "shapedefaults": {
           "line": {
            "color": "#2a3f5f"
           }
          },
          "ternary": {
           "aaxis": {
            "gridcolor": "white",
            "linecolor": "white",
            "ticks": ""
           },
           "baxis": {
            "gridcolor": "white",
            "linecolor": "white",
            "ticks": ""
           },
           "bgcolor": "#E5ECF6",
           "caxis": {
            "gridcolor": "white",
            "linecolor": "white",
            "ticks": ""
           }
          },
          "title": {
           "x": 0.05
          },
          "xaxis": {
           "automargin": true,
           "gridcolor": "white",
           "linecolor": "white",
           "ticks": "",
           "title": {
            "standoff": 15
           },
           "zerolinecolor": "white",
           "zerolinewidth": 2
          },
          "yaxis": {
           "automargin": true,
           "gridcolor": "white",
           "linecolor": "white",
           "ticks": "",
           "title": {
            "standoff": 15
           },
           "zerolinecolor": "white",
           "zerolinewidth": 2
          }
         }
        },
        "title": {
         "text": "CIM Weekly Mileage Log - Can you see which weeks I was injured?"
        },
        "width": 1000,
        "xaxis": {
         "anchor": "y",
         "domain": [
          0,
          1
         ],
         "title": {
          "text": "Training Week"
         }
        },
        "yaxis": {
         "anchor": "x",
         "domain": [
          0,
          1
         ],
         "range": [
          0,
          50
         ],
         "title": {
          "text": "Distance (miles) "
         }
        }
       }
      }
     },
     "metadata": {},
     "output_type": "display_data"
    }
   ],
   "source": [
    "# plot weekly mileage\n",
    "import plotly.express as px\n",
    "\n",
    "fig0 = px.bar(\n",
    "    df_combined, x = \"Training Week\", y = \"distance\",\n",
    "    labels = dict(Week_Of_Year =\"Training Week\", distance =\"Distance (miles) \"),\n",
    "    #hover_data=[\"start_date_local\"],\n",
    "    title = \"CIM Weekly Mileage Log - Can you see which weeks I was injured?\",\n",
    "    width = 1000\n",
    ")\n",
    "# Hover over should be the day, not the first of the month\n",
    "# fig0.add_hline(y = 20*8)\n",
    "fig0.update_traces(marker_line_width = 2.5)\n",
    "fig0.update_yaxes(range = [0, 50])\n",
    "#fig0.update_layout(bargap = 0.8)\n",
    "fig0.show() "
   ]
  },
  {
   "cell_type": "code",
   "execution_count": null,
   "metadata": {},
   "outputs": [],
   "source": []
  },
  {
   "cell_type": "code",
   "execution_count": null,
   "metadata": {},
   "outputs": [],
   "source": []
  },
  {
   "cell_type": "code",
   "execution_count": null,
   "metadata": {},
   "outputs": [],
   "source": []
  },
  {
   "cell_type": "code",
   "execution_count": null,
   "metadata": {},
   "outputs": [],
   "source": []
  },
  {
   "cell_type": "code",
   "execution_count": null,
   "metadata": {},
   "outputs": [],
   "source": []
  },
  {
   "cell_type": "code",
   "execution_count": null,
   "metadata": {},
   "outputs": [],
   "source": []
  },
  {
   "cell_type": "code",
   "execution_count": 30,
   "metadata": {},
   "outputs": [],
   "source": [
    "def combine_words(word_one, word_two):\n",
    "    combined_word = f\"{word_one} {word_two}\"\n",
    "    return combined_word"
   ]
  },
  {
   "cell_type": "code",
   "execution_count": 31,
   "metadata": {},
   "outputs": [
    {
     "name": "stdout",
     "output_type": "stream",
     "text": [
      "purple poodle\n"
     ]
    }
   ],
   "source": [
    "dog_description = combine_words(\"purple\",\"poodle\")\n",
    "print(dog_description)"
   ]
  },
  {
   "cell_type": "code",
   "execution_count": 32,
   "metadata": {},
   "outputs": [
    {
     "name": "stdout",
     "output_type": "stream",
     "text": [
      "blue heeler\n"
     ]
    }
   ],
   "source": [
    "new_dog_description = combine_words(word_one = \"blue\", word_two = \"heeler\")\n",
    "print(new_dog_description)"
   ]
  },
  {
   "cell_type": "code",
   "execution_count": 33,
   "metadata": {},
   "outputs": [
    {
     "name": "stdout",
     "output_type": "stream",
     "text": [
      "0.5714025946899135\n",
      "0.5714025946899135\n",
      "0.6229016948897019\n"
     ]
    }
   ],
   "source": [
    "import random\n",
    "\n",
    "random.seed(10)\n",
    "print(random.random())\n",
    "\n",
    "random.seed(10)\n",
    "print(random.random())\n",
    "\n",
    "random.seed(5)\n",
    "print(random.random())"
   ]
  },
  {
   "cell_type": "code",
   "execution_count": 34,
   "metadata": {},
   "outputs": [],
   "source": [
    "def random_rgb():\n",
    "    \"\"\"Returns a list of random R, G, B color values.\n",
    "    \n",
    "    >>> random.seed(1)\n",
    "    >>> random_rgb()\n",
    "    [106, 184, 0]\n",
    "    \"\"\"\n",
    "    r = random.randint(0, 255)\n",
    "    g = random.randint(0, 255)\n",
    "    b = random.randint(0, 255)\n",
    "    return [r, g, b]"
   ]
  },
  {
   "cell_type": "code",
   "execution_count": 35,
   "metadata": {},
   "outputs": [
    {
     "data": {
      "text/plain": [
       "[183, 14, 238]"
      ]
     },
     "execution_count": 35,
     "metadata": {},
     "output_type": "execute_result"
    }
   ],
   "source": [
    "random_rgb()"
   ]
  },
  {
   "cell_type": "code",
   "execution_count": 36,
   "metadata": {},
   "outputs": [
    {
     "data": {
      "text/plain": [
       "[68, 32, 130]"
      ]
     },
     "execution_count": 36,
     "metadata": {},
     "output_type": "execute_result"
    }
   ],
   "source": [
    "random.seed(1)\n",
    "random_rgb()"
   ]
  },
  {
   "cell_type": "code",
   "execution_count": 37,
   "metadata": {},
   "outputs": [
    {
     "data": {
      "text/plain": [
       "[60, 253, 230]"
      ]
     },
     "execution_count": 37,
     "metadata": {},
     "output_type": "execute_result"
    }
   ],
   "source": [
    "random_rgb()"
   ]
  },
  {
   "cell_type": "code",
   "execution_count": 38,
   "metadata": {},
   "outputs": [
    {
     "data": {
      "text/plain": [
       "[68, 32, 130]"
      ]
     },
     "execution_count": 38,
     "metadata": {},
     "output_type": "execute_result"
    }
   ],
   "source": [
    "random.seed(1)\n",
    "random_rgb()"
   ]
  },
  {
   "cell_type": "code",
   "execution_count": null,
   "metadata": {},
   "outputs": [],
   "source": []
  }
 ],
 "metadata": {
  "kernelspec": {
   "display_name": "strava_api_env",
   "language": "python",
   "name": "python3"
  },
  "language_info": {
   "codemirror_mode": {
    "name": "ipython",
    "version": 3
   },
   "file_extension": ".py",
   "mimetype": "text/x-python",
   "name": "python",
   "nbconvert_exporter": "python",
   "pygments_lexer": "ipython3",
   "version": "3.11.0"
  },
  "orig_nbformat": 4
 },
 "nbformat": 4,
 "nbformat_minor": 2
}
